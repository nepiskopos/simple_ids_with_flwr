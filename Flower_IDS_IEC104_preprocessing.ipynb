{
 "cells": [
  {
   "cell_type": "markdown",
   "id": "e7edf6ba-bfe6-412b-81b1-dcec09ac476b",
   "metadata": {
    "tags": []
   },
   "source": [
    "# Federated Learning with Flower"
   ]
  },
  {
   "cell_type": "markdown",
   "id": "334a661f-5693-404c-a603-c3e218a9dd59",
   "metadata": {},
   "source": [
    "#### This notebook presents a simple Federated Learning example / application on developing a Machine Learning model as an Intrusion Detection System for defending against Cyberattacks using distributed and private data.\n",
    "#### This example uses Docker containers as independent workers / clients for performing the client model training on the limited and private local client data.\n",
    "#### This example was developed as part of the research conducted at MetaMind Innovations in the framework of the [AI4CYBER](http://metamind.gr/portfolio-items/ai4cyber-horizon-europe/) project."
   ]
  },
  {
   "cell_type": "markdown",
   "id": "bb6741b6-b6bd-43e4-8423-55e2d217c118",
   "metadata": {
    "id": "_zFenI3IPpgI",
    "tags": []
   },
   "source": [
    "## Set Up Flower Environment"
   ]
  },
  {
   "cell_type": "code",
   "execution_count": 1,
   "id": "bcfa455c-9791-4d72-babb-251425e8e57a",
   "metadata": {
    "id": "ke7EyuvG0Zyn"
   },
   "outputs": [],
   "source": [
    "#@test {\"skip\": true}\n",
    "!pip install --quiet --upgrade flwr\n",
    "!pip install --quiet --upgrade tensorflow-cpu\n",
    "!pip install --quiet --upgrade scikit-learn\n",
    "!pip install --quiet --upgrade pandas\n",
    "!pip install --quiet --upgrade matplotlib"
   ]
  },
  {
   "cell_type": "code",
   "execution_count": 2,
   "id": "40774afa-2771-4e24-b782-e9f4e3037370",
   "metadata": {},
   "outputs": [],
   "source": [
    "import collections\n",
    "import os\n",
    "\n",
    "import numpy as np\n",
    "import pandas as pd\n",
    "from matplotlib import pyplot as plt\n",
    "\n",
    "%matplotlib inline"
   ]
  },
  {
   "cell_type": "markdown",
   "id": "2b2a72ab-d529-4077-80ed-9e719b70c2f0",
   "metadata": {},
   "source": [
    "## Dataset"
   ]
  },
  {
   "cell_type": "markdown",
   "id": "3edb0310-f315-4720-9f77-2d01660d5693",
   "metadata": {},
   "source": [
    "This dataset is part of the [IEC 60870-5-104 Intrusion Detection Dataset](http://ieee-dataport.org/documents/iec-60870-5-104-intrusion-detection-dataset) -- DOI: [10.1109/TII.2021.3093905](http://doi.org/10.1109/TII.2021.3093905) -- published by [ITHACA – University of Western Macedonia](http://ithaca.ece.uowm.gr/)."
   ]
  },
  {
   "cell_type": "markdown",
   "id": "c46c758d-fccf-4249-8b2a-f0caa696ad4e",
   "metadata": {},
   "source": [
    "We input the dataset path and choose which dataset to facilitate for the experimentation.\n",
    "\n",
    "For this example we use the CICFlowMeter dataset with capturing timeout at 180 seconds with 2 distinct workers."
   ]
  },
  {
   "cell_type": "code",
   "execution_count": 3,
   "id": "dec5093d-7510-4fba-b10b-26c82307be00",
   "metadata": {},
   "outputs": [],
   "source": [
    "path = '~/workspace/datasets/Balanced_IEC104_Train_Test_CSV_Files/iec104_train_test_csvs'\n",
    "tp = 'cic'      # Type: choose between 'cic' and 'custom'\n",
    "tm = 180        # Timeout: choose one value from the following list [15, 30, 60, 90, 120, 180]"
   ]
  },
  {
   "cell_type": "markdown",
   "id": "e0467bfd-f129-464e-ba22-becea8c0993a",
   "metadata": {},
   "source": [
    "Perform some value checks"
   ]
  },
  {
   "cell_type": "code",
   "execution_count": 4,
   "id": "5e8ea52b-b893-4251-af46-abef27045ac3",
   "metadata": {},
   "outputs": [],
   "source": [
    "assert tp in ('cic', 'custom'), \"Wrong dataset type\"\n",
    "assert tm in (15, 30, 60, 90, 120, 180), \"Wrong time\""
   ]
  },
  {
   "cell_type": "code",
   "execution_count": 5,
   "id": "050ffcfa-e371-411a-9172-dde2fb2315c5",
   "metadata": {},
   "outputs": [],
   "source": [
    "dataset = f'tests_{tp}_{tm}'\n",
    "\n",
    "if 'cic' in dataset:\n",
    "    n = dataset.split('_')[-1]\n",
    "    train_csv = os.path.join(os.path.join(path, dataset), f'train_{tm}_cicflow.csv')\n",
    "    test_csv = os.path.join(os.path.join(path, dataset), f'test_{tm}_cicflow.csv')\n",
    "elif 'custom' in dataset:\n",
    "    n = dataset.split('_')\n",
    "    train_csv = os.path.join(os.path.join(path, dataset), f'train_{tm}_custom_script.csv')\n",
    "    test_csv = os.path.join(os.path.join(path, dataset), f'test_{tm}_custom_script.csv')\n",
    "else:\n",
    "    raise Exception(\"Wrong dataset\")\n",
    "\n",
    "df_train = pd.read_csv(train_csv)\n",
    "df_test = pd.read_csv(train_csv)"
   ]
  },
  {
   "cell_type": "markdown",
   "id": "1ef57df7-92d2-4cab-a454-e1e04611cb03",
   "metadata": {},
   "source": [
    "Let's perform some data exploration."
   ]
  },
  {
   "cell_type": "code",
   "execution_count": 6,
   "id": "81e75170-eab6-4735-8174-73223fe9d5f1",
   "metadata": {},
   "outputs": [
    {
     "data": {
      "text/plain": [
       "Flow ID       object\n",
       "Src IP        object\n",
       "Src Port       int64\n",
       "Dst IP        object\n",
       "Dst Port       int64\n",
       "              ...   \n",
       "Idle Mean    float64\n",
       "Idle Std     float64\n",
       "Idle Max       int64\n",
       "Idle Min       int64\n",
       "Label         object\n",
       "Length: 84, dtype: object"
      ]
     },
     "execution_count": 6,
     "metadata": {},
     "output_type": "execute_result"
    }
   ],
   "source": [
    "df_train.dtypes"
   ]
  },
  {
   "cell_type": "code",
   "execution_count": 7,
   "id": "b9c43470-8cb9-4276-86fd-fa87b7929c13",
   "metadata": {},
   "outputs": [
    {
     "data": {
      "text/plain": [
       "Flow ID       object\n",
       "Src IP        object\n",
       "Src Port       int64\n",
       "Dst IP        object\n",
       "Dst Port       int64\n",
       "              ...   \n",
       "Idle Mean    float64\n",
       "Idle Std     float64\n",
       "Idle Max       int64\n",
       "Idle Min       int64\n",
       "Label         object\n",
       "Length: 84, dtype: object"
      ]
     },
     "execution_count": 7,
     "metadata": {},
     "output_type": "execute_result"
    }
   ],
   "source": [
    "df_test.dtypes"
   ]
  },
  {
   "cell_type": "code",
   "execution_count": 8,
   "id": "61a1113d-69b5-43ab-986f-e954ab8db2d8",
   "metadata": {},
   "outputs": [
    {
     "name": "stdout",
     "output_type": "stream",
     "text": [
      "<class 'pandas.core.frame.DataFrame'>\n",
      "RangeIndex: 3588 entries, 0 to 3587\n",
      "Data columns (total 84 columns):\n",
      " #   Column             Non-Null Count  Dtype  \n",
      "---  ------             --------------  -----  \n",
      " 0   Flow ID            3588 non-null   object \n",
      " 1   Src IP             3588 non-null   object \n",
      " 2   Src Port           3588 non-null   int64  \n",
      " 3   Dst IP             3588 non-null   object \n",
      " 4   Dst Port           3588 non-null   int64  \n",
      " 5   Protocol           3588 non-null   int64  \n",
      " 6   Timestamp          3588 non-null   object \n",
      " 7   Flow Duration      3588 non-null   int64  \n",
      " 8   Tot Fwd Pkts       3588 non-null   int64  \n",
      " 9   Tot Bwd Pkts       3588 non-null   int64  \n",
      " 10  TotLen Fwd Pkts    3588 non-null   int64  \n",
      " 11  TotLen Bwd Pkts    3588 non-null   int64  \n",
      " 12  Fwd Pkt Len Max    3588 non-null   int64  \n",
      " 13  Fwd Pkt Len Min    3588 non-null   int64  \n",
      " 14  Fwd Pkt Len Mean   3588 non-null   float64\n",
      " 15  Fwd Pkt Len Std    3588 non-null   float64\n",
      " 16  Bwd Pkt Len Max    3588 non-null   int64  \n",
      " 17  Bwd Pkt Len Min    3588 non-null   int64  \n",
      " 18  Bwd Pkt Len Mean   3588 non-null   float64\n",
      " 19  Bwd Pkt Len Std    3588 non-null   float64\n",
      " 20  Flow Byts/s        3588 non-null   float64\n",
      " 21  Flow Pkts/s        3588 non-null   float64\n",
      " 22  Flow IAT Mean      3588 non-null   float64\n",
      " 23  Flow IAT Std       3588 non-null   float64\n",
      " 24  Flow IAT Max       3588 non-null   int64  \n",
      " 25  Flow IAT Min       3588 non-null   int64  \n",
      " 26  Fwd IAT Tot        3588 non-null   int64  \n",
      " 27  Fwd IAT Mean       3588 non-null   float64\n",
      " 28  Fwd IAT Std        3588 non-null   float64\n",
      " 29  Fwd IAT Max        3588 non-null   int64  \n",
      " 30  Fwd IAT Min        3588 non-null   int64  \n",
      " 31  Bwd IAT Tot        3588 non-null   int64  \n",
      " 32  Bwd IAT Mean       3588 non-null   float64\n",
      " 33  Bwd IAT Std        3588 non-null   float64\n",
      " 34  Bwd IAT Max        3588 non-null   int64  \n",
      " 35  Bwd IAT Min        3588 non-null   int64  \n",
      " 36  Fwd PSH Flags      3588 non-null   int64  \n",
      " 37  Bwd PSH Flags      3588 non-null   int64  \n",
      " 38  Fwd URG Flags      3588 non-null   int64  \n",
      " 39  Bwd URG Flags      3588 non-null   int64  \n",
      " 40  Fwd Header Len     3588 non-null   int64  \n",
      " 41  Bwd Header Len     3588 non-null   int64  \n",
      " 42  Fwd Pkts/s         3588 non-null   float64\n",
      " 43  Bwd Pkts/s         3588 non-null   float64\n",
      " 44  Pkt Len Min        3588 non-null   int64  \n",
      " 45  Pkt Len Max        3588 non-null   int64  \n",
      " 46  Pkt Len Mean       3588 non-null   float64\n",
      " 47  Pkt Len Std        3588 non-null   float64\n",
      " 48  Pkt Len Var        3588 non-null   float64\n",
      " 49  FIN Flag Cnt       3588 non-null   int64  \n",
      " 50  SYN Flag Cnt       3588 non-null   int64  \n",
      " 51  RST Flag Cnt       3588 non-null   int64  \n",
      " 52  PSH Flag Cnt       3588 non-null   int64  \n",
      " 53  ACK Flag Cnt       3588 non-null   int64  \n",
      " 54  URG Flag Cnt       3588 non-null   int64  \n",
      " 55  CWE Flag Count     3588 non-null   int64  \n",
      " 56  ECE Flag Cnt       3588 non-null   int64  \n",
      " 57  Down/Up Ratio      3588 non-null   int64  \n",
      " 58  Pkt Size Avg       3588 non-null   float64\n",
      " 59  Fwd Seg Size Avg   3588 non-null   float64\n",
      " 60  Bwd Seg Size Avg   3588 non-null   float64\n",
      " 61  Fwd Byts/b Avg     3588 non-null   int64  \n",
      " 62  Fwd Pkts/b Avg     3588 non-null   int64  \n",
      " 63  Fwd Blk Rate Avg   3588 non-null   int64  \n",
      " 64  Bwd Byts/b Avg     3588 non-null   int64  \n",
      " 65  Bwd Pkts/b Avg     3588 non-null   int64  \n",
      " 66  Bwd Blk Rate Avg   3588 non-null   int64  \n",
      " 67  Subflow Fwd Pkts   3588 non-null   int64  \n",
      " 68  Subflow Fwd Byts   3588 non-null   int64  \n",
      " 69  Subflow Bwd Pkts   3588 non-null   int64  \n",
      " 70  Subflow Bwd Byts   3588 non-null   int64  \n",
      " 71  Init Fwd Win Byts  3588 non-null   int64  \n",
      " 72  Init Bwd Win Byts  3588 non-null   int64  \n",
      " 73  Fwd Act Data Pkts  3588 non-null   int64  \n",
      " 74  Fwd Seg Size Min   3588 non-null   int64  \n",
      " 75  Active Mean        3588 non-null   float64\n",
      " 76  Active Std         3588 non-null   float64\n",
      " 77  Active Max         3588 non-null   int64  \n",
      " 78  Active Min         3588 non-null   int64  \n",
      " 79  Idle Mean          3588 non-null   float64\n",
      " 80  Idle Std           3588 non-null   float64\n",
      " 81  Idle Max           3588 non-null   int64  \n",
      " 82  Idle Min           3588 non-null   int64  \n",
      " 83  Label              3588 non-null   object \n",
      "dtypes: float64(24), int64(55), object(5)\n",
      "memory usage: 2.3+ MB\n"
     ]
    }
   ],
   "source": [
    "df_train.info()"
   ]
  },
  {
   "cell_type": "code",
   "execution_count": 9,
   "id": "859962a0-9629-495f-946c-25f665f6a408",
   "metadata": {},
   "outputs": [
    {
     "name": "stdout",
     "output_type": "stream",
     "text": [
      "<class 'pandas.core.frame.DataFrame'>\n",
      "RangeIndex: 3588 entries, 0 to 3587\n",
      "Data columns (total 84 columns):\n",
      " #   Column             Non-Null Count  Dtype  \n",
      "---  ------             --------------  -----  \n",
      " 0   Flow ID            3588 non-null   object \n",
      " 1   Src IP             3588 non-null   object \n",
      " 2   Src Port           3588 non-null   int64  \n",
      " 3   Dst IP             3588 non-null   object \n",
      " 4   Dst Port           3588 non-null   int64  \n",
      " 5   Protocol           3588 non-null   int64  \n",
      " 6   Timestamp          3588 non-null   object \n",
      " 7   Flow Duration      3588 non-null   int64  \n",
      " 8   Tot Fwd Pkts       3588 non-null   int64  \n",
      " 9   Tot Bwd Pkts       3588 non-null   int64  \n",
      " 10  TotLen Fwd Pkts    3588 non-null   int64  \n",
      " 11  TotLen Bwd Pkts    3588 non-null   int64  \n",
      " 12  Fwd Pkt Len Max    3588 non-null   int64  \n",
      " 13  Fwd Pkt Len Min    3588 non-null   int64  \n",
      " 14  Fwd Pkt Len Mean   3588 non-null   float64\n",
      " 15  Fwd Pkt Len Std    3588 non-null   float64\n",
      " 16  Bwd Pkt Len Max    3588 non-null   int64  \n",
      " 17  Bwd Pkt Len Min    3588 non-null   int64  \n",
      " 18  Bwd Pkt Len Mean   3588 non-null   float64\n",
      " 19  Bwd Pkt Len Std    3588 non-null   float64\n",
      " 20  Flow Byts/s        3588 non-null   float64\n",
      " 21  Flow Pkts/s        3588 non-null   float64\n",
      " 22  Flow IAT Mean      3588 non-null   float64\n",
      " 23  Flow IAT Std       3588 non-null   float64\n",
      " 24  Flow IAT Max       3588 non-null   int64  \n",
      " 25  Flow IAT Min       3588 non-null   int64  \n",
      " 26  Fwd IAT Tot        3588 non-null   int64  \n",
      " 27  Fwd IAT Mean       3588 non-null   float64\n",
      " 28  Fwd IAT Std        3588 non-null   float64\n",
      " 29  Fwd IAT Max        3588 non-null   int64  \n",
      " 30  Fwd IAT Min        3588 non-null   int64  \n",
      " 31  Bwd IAT Tot        3588 non-null   int64  \n",
      " 32  Bwd IAT Mean       3588 non-null   float64\n",
      " 33  Bwd IAT Std        3588 non-null   float64\n",
      " 34  Bwd IAT Max        3588 non-null   int64  \n",
      " 35  Bwd IAT Min        3588 non-null   int64  \n",
      " 36  Fwd PSH Flags      3588 non-null   int64  \n",
      " 37  Bwd PSH Flags      3588 non-null   int64  \n",
      " 38  Fwd URG Flags      3588 non-null   int64  \n",
      " 39  Bwd URG Flags      3588 non-null   int64  \n",
      " 40  Fwd Header Len     3588 non-null   int64  \n",
      " 41  Bwd Header Len     3588 non-null   int64  \n",
      " 42  Fwd Pkts/s         3588 non-null   float64\n",
      " 43  Bwd Pkts/s         3588 non-null   float64\n",
      " 44  Pkt Len Min        3588 non-null   int64  \n",
      " 45  Pkt Len Max        3588 non-null   int64  \n",
      " 46  Pkt Len Mean       3588 non-null   float64\n",
      " 47  Pkt Len Std        3588 non-null   float64\n",
      " 48  Pkt Len Var        3588 non-null   float64\n",
      " 49  FIN Flag Cnt       3588 non-null   int64  \n",
      " 50  SYN Flag Cnt       3588 non-null   int64  \n",
      " 51  RST Flag Cnt       3588 non-null   int64  \n",
      " 52  PSH Flag Cnt       3588 non-null   int64  \n",
      " 53  ACK Flag Cnt       3588 non-null   int64  \n",
      " 54  URG Flag Cnt       3588 non-null   int64  \n",
      " 55  CWE Flag Count     3588 non-null   int64  \n",
      " 56  ECE Flag Cnt       3588 non-null   int64  \n",
      " 57  Down/Up Ratio      3588 non-null   int64  \n",
      " 58  Pkt Size Avg       3588 non-null   float64\n",
      " 59  Fwd Seg Size Avg   3588 non-null   float64\n",
      " 60  Bwd Seg Size Avg   3588 non-null   float64\n",
      " 61  Fwd Byts/b Avg     3588 non-null   int64  \n",
      " 62  Fwd Pkts/b Avg     3588 non-null   int64  \n",
      " 63  Fwd Blk Rate Avg   3588 non-null   int64  \n",
      " 64  Bwd Byts/b Avg     3588 non-null   int64  \n",
      " 65  Bwd Pkts/b Avg     3588 non-null   int64  \n",
      " 66  Bwd Blk Rate Avg   3588 non-null   int64  \n",
      " 67  Subflow Fwd Pkts   3588 non-null   int64  \n",
      " 68  Subflow Fwd Byts   3588 non-null   int64  \n",
      " 69  Subflow Bwd Pkts   3588 non-null   int64  \n",
      " 70  Subflow Bwd Byts   3588 non-null   int64  \n",
      " 71  Init Fwd Win Byts  3588 non-null   int64  \n",
      " 72  Init Bwd Win Byts  3588 non-null   int64  \n",
      " 73  Fwd Act Data Pkts  3588 non-null   int64  \n",
      " 74  Fwd Seg Size Min   3588 non-null   int64  \n",
      " 75  Active Mean        3588 non-null   float64\n",
      " 76  Active Std         3588 non-null   float64\n",
      " 77  Active Max         3588 non-null   int64  \n",
      " 78  Active Min         3588 non-null   int64  \n",
      " 79  Idle Mean          3588 non-null   float64\n",
      " 80  Idle Std           3588 non-null   float64\n",
      " 81  Idle Max           3588 non-null   int64  \n",
      " 82  Idle Min           3588 non-null   int64  \n",
      " 83  Label              3588 non-null   object \n",
      "dtypes: float64(24), int64(55), object(5)\n",
      "memory usage: 2.3+ MB\n"
     ]
    }
   ],
   "source": [
    "df_test.info()"
   ]
  },
  {
   "cell_type": "markdown",
   "id": "fcc35f5f-dbc5-4c54-977e-cc1d33a40b4c",
   "metadata": {},
   "source": [
    "As a preprocessing step, we transorm the \"Label\" feature from string to categorical and then to numeric."
   ]
  },
  {
   "cell_type": "code",
   "execution_count": 10,
   "id": "a53d332f-4536-42fe-9a0d-4a91012f8232",
   "metadata": {},
   "outputs": [],
   "source": [
    "df_train['Label'] = df_train['Label'].str.lower()\n",
    "df_test['Label'] = df_test['Label'].str.lower()"
   ]
  },
  {
   "cell_type": "code",
   "execution_count": 11,
   "id": "0322a682-2baa-43f4-a00e-14505b1ae516",
   "metadata": {},
   "outputs": [],
   "source": [
    "unique_labels = list(df_train.Label.astype('category').unique())\n",
    "unique_codes = list(df_train.Label.astype('category').cat.codes.unique())\n",
    "mapping = {unique_codes[i] : unique_labels[i] for i in range(len(unique_labels))}"
   ]
  },
  {
   "cell_type": "code",
   "execution_count": 12,
   "id": "d6b294ca-d03a-4ca2-b405-446eb57263da",
   "metadata": {},
   "outputs": [
    {
     "data": {
      "text/plain": [
       "{11: 'normal',\n",
       " 0: 'c_ci_na_1',\n",
       " 1: 'c_ci_na_1_dos',\n",
       " 2: 'c_rd_na_1',\n",
       " 3: 'c_rd_na_1_dos',\n",
       " 4: 'c_rp_na_1',\n",
       " 5: 'c_rp_na_1_dos',\n",
       " 6: 'c_sc_na_1',\n",
       " 7: 'c_sc_na_1_dos',\n",
       " 8: 'c_se_na_1',\n",
       " 9: 'c_se_na_1_dos',\n",
       " 10: 'm_sp_na_1_dos'}"
      ]
     },
     "execution_count": 12,
     "metadata": {},
     "output_type": "execute_result"
    }
   ],
   "source": [
    "mapping"
   ]
  },
  {
   "cell_type": "code",
   "execution_count": 13,
   "id": "6742ef54-dfde-4163-a5a8-ce77ce96d0e9",
   "metadata": {},
   "outputs": [],
   "source": [
    "df_train['Label'] = df_train['Label'].replace(unique_labels, unique_codes)\n",
    "df_test['Label'] = df_test['Label'].replace(unique_labels, unique_codes)"
   ]
  },
  {
   "cell_type": "markdown",
   "id": "7edd853c-a1c3-404a-93d5-6a7a82dcb377",
   "metadata": {},
   "source": [
    "Now, we remove the features which can not contribute in training a ML model."
   ]
  },
  {
   "cell_type": "code",
   "execution_count": 14,
   "id": "d6724255-5c6e-4e88-8712-ed65cc2816df",
   "metadata": {},
   "outputs": [],
   "source": [
    "if tp == 'cic':\n",
    "    train = df_train.iloc[:,7:]\n",
    "    test = df_test.iloc[:,7:]\n",
    "else:\n",
    "    train = df_train\n",
    "    test = df_test"
   ]
  },
  {
   "cell_type": "markdown",
   "id": "21e7b4f4-891e-452f-ac11-6ca09d1b3a79",
   "metadata": {},
   "source": [
    "We rename the \"Label\" column to \"y\"."
   ]
  },
  {
   "cell_type": "code",
   "execution_count": 15,
   "id": "0c909bee-4500-4753-90dc-80c37695c0f5",
   "metadata": {},
   "outputs": [],
   "source": [
    "train.rename(columns={\"Label\": \"y\"}, inplace=True, errors=\"raise\")\n",
    "test.rename(columns={\"Label\": \"y\"}, inplace=True, errors=\"raise\")"
   ]
  },
  {
   "cell_type": "markdown",
   "id": "daf2cc94-839b-49d1-a588-b38f7bafd1dd",
   "metadata": {},
   "source": [
    "We drop Inf and NaN values both in the training and in test feature data."
   ]
  },
  {
   "cell_type": "code",
   "execution_count": 16,
   "id": "cc5d3627-cf4f-4882-987c-a6b74fda51f9",
   "metadata": {},
   "outputs": [],
   "source": [
    "# Replace Inf values with NaN\n",
    "train.replace([np.inf, -np.inf], np.nan, inplace=True)\n",
    "test.replace([np.inf, -np.inf], np.nan, inplace=True)\n",
    "\n",
    "# Drop rows with NaN values\n",
    "train.dropna(inplace=True)\n",
    "test.dropna(inplace=True)"
   ]
  },
  {
   "cell_type": "markdown",
   "id": "ae1c91e7-2bd0-4d4c-8498-edbf3bcd59bd",
   "metadata": {},
   "source": [
    "We store the modified datasets into new local CSV files for future use and model evaluation."
   ]
  },
  {
   "cell_type": "code",
   "execution_count": 17,
   "id": "d919d458-a25f-4da3-af63-1b0caed8f5f7",
   "metadata": {},
   "outputs": [],
   "source": [
    "train.to_csv('train_data.csv', index=False)\n",
    "test.to_csv('test_data.csv', index=False)"
   ]
  },
  {
   "cell_type": "markdown",
   "id": "695bb658-206d-4cbd-954a-edb49b44d11b",
   "metadata": {},
   "source": [
    "In this example, we use $N=3$ individual workers.\n",
    "\n",
    "Each worker will be assigned a subset of the dataset with $\\lfloor {M \\over N} \\rfloor$ data points."
   ]
  },
  {
   "cell_type": "code",
   "execution_count": 18,
   "id": "cff97f6f-42ba-4525-9157-4693c6f3663f",
   "metadata": {},
   "outputs": [],
   "source": [
    "n_workers = 3\n",
    "n_samples = int(train.shape[0] / n_workers)\n",
    "\n",
    "assert type(n_workers) == int, \"Non-int number of workers\"\n",
    "assert n_workers >= 2 and n_workers <= df_train.shape[0], \"At least 2 workers and at most as many workers as the number of samples are allowed\"\n",
    "assert n_samples > 0, \"Each worker must be assigned at least one data point\""
   ]
  },
  {
   "cell_type": "markdown",
   "id": "35dc41bd-07c1-4176-86c6-1737061ef93e",
   "metadata": {},
   "source": [
    "Each worker's training data is stored as a seperate CSV file with the proper naming and data format schemes."
   ]
  },
  {
   "cell_type": "code",
   "execution_count": 19,
   "id": "f7ff7dcb-9ae2-4c44-9458-efc3616d2cde",
   "metadata": {},
   "outputs": [],
   "source": [
    "client_data = []\n",
    "train_copy = train.copy()\n",
    "\n",
    "for i in range(n_workers):\n",
    "    sample = train_copy.sample(n=n_samples)\n",
    "    sample.to_csv(f'client_data_{i+1}.csv', index=False)\n",
    "    train_copy.drop(index=sample.index, inplace=True)\n",
    "    client_data.append(sample)"
   ]
  },
  {
   "cell_type": "markdown",
   "id": "d3041faf-16e5-4c15-86cf-743821a7cb4b",
   "metadata": {},
   "source": [
    "Let's check the number of points in each straggler's training data."
   ]
  },
  {
   "cell_type": "code",
   "execution_count": 20,
   "id": "c3346012-6bf9-4879-80b9-f46f890dfb72",
   "metadata": {},
   "outputs": [
    {
     "name": "stdout",
     "output_type": "stream",
     "text": [
      "Worker 1 training data contains 1196 points\n",
      "Worker 2 training data contains 1196 points\n",
      "Worker 3 training data contains 1196 points\n"
     ]
    }
   ],
   "source": [
    "for i in range(n_workers):\n",
    "    print(f\"Worker {i+1} training data contains {len(client_data[i])} points\")"
   ]
  },
  {
   "cell_type": "markdown",
   "id": "24226028-58fd-4da0-a83b-571e779910fa",
   "metadata": {},
   "source": [
    "Let's perform some statistical analysis on the difference in the number of samples for each digit in each client dataset."
   ]
  },
  {
   "cell_type": "code",
   "execution_count": 21,
   "id": "726964a7-87c4-4001-ac17-2fcaa73dfe3c",
   "metadata": {},
   "outputs": [
    {
     "data": {
      "image/png": "[encoded data removed]",
      "text/plain": [
       "<Figure size 2000x700 with 3 Axes>"
      ]
     },
     "metadata": {},
     "output_type": "display_data"
    }
   ],
   "source": [
    "# Number of examples per layer for a sample of clients\n",
    "fig = plt.figure(figsize=(20, 7))\n",
    "fig.suptitle('Label Counts for a Sample of Worker Data')\n",
    "fig.tight_layout()\n",
    "\n",
    "for i in range(n_workers):\n",
    "    m = 0\n",
    "    plot_data = collections.defaultdict(list)\n",
    "    sample = client_data[i]\n",
    "    for label in sample['y']:\n",
    "        # Append counts individually per label to make plots\n",
    "        # more colorful instead of one color per plot.\n",
    "        plot_data[label].append(label)\n",
    "        m = max(m, len(plot_data[label]))\n",
    "    \n",
    "    n_cols = n_workers if n_workers < 5 else 5\n",
    "    xlim = [0, m+(20-m%20)]\n",
    "    ylim = [min(unique_codes)-1, max(unique_codes)+1]\n",
    "    yticks = list(range(min(unique_codes), max(unique_codes)+1))\n",
    "    yticks_labels = [mapping[k] for k in range(0, max(unique_codes)+1)]\n",
    "    \n",
    "    plt.subplot(int(n_workers / 5)+1, n_cols, i+1)\n",
    "    plt.subplots_adjust(wspace=0.3)\n",
    "    plt.title('Worker {}'.format(i+1))\n",
    "    plt.xlabel('#points')\n",
    "    plt.xlim(xlim)\n",
    "    # plt.ylabel('Label')\n",
    "    plt.ylim(ylim)\n",
    "    plt.yticks(yticks, labels=yticks_labels)\n",
    "    \n",
    "    # plot values on top of bars\n",
    "    for key in plot_data:\n",
    "        if len(plot_data[key]) > 0:\n",
    "            plt.text(len(plot_data[key])+4, int(key)-0.1, str(len(plot_data[key])), ha='center')\n",
    "    \n",
    "    for j in range(min(unique_codes),max(unique_codes)+1):\n",
    "        plt.hist(\n",
    "            plot_data[j],\n",
    "            density=False,\n",
    "            bins=[k-0.5 for k in range(min(unique_codes),max(unique_codes)+2)],\n",
    "            orientation='horizontal'\n",
    "        )"
   ]
  },
  {
   "cell_type": "markdown",
   "id": "6bd712f9-4e9f-45a4-bb27-935e0eab0e7a",
   "metadata": {
    "id": "8Lq8r5uaT2rB",
    "tags": []
   },
   "source": [
    "### Launch $N=3$ Flower FL workers as Docker Containers locally using the **docker-compose.yaml**\n",
    "\n",
    "```\n",
    "docker compose up\n",
    "```"
   ]
  },
  {
   "cell_type": "markdown",
   "id": "81051f3d-f18c-4ff6-bdad-5061ecdfda63",
   "metadata": {},
   "source": [
    "## Centralized model"
   ]
  },
  {
   "cell_type": "markdown",
   "id": "b08c9ffe-ed35-4138-802a-a4d235564508",
   "metadata": {},
   "source": [
    "Let's train a centralized IDS model to use as a reference."
   ]
  },
  {
   "cell_type": "code",
   "execution_count": 22,
   "id": "e8024ec9-e29b-4ab6-bb74-6bd2415edc45",
   "metadata": {},
   "outputs": [
    {
     "name": "stderr",
     "output_type": "stream",
     "text": [
      "2023-02-08 02:21:11.612019: I tensorflow/core/platform/cpu_feature_guard.cc:193] This TensorFlow binary is optimized with oneAPI Deep Neural Network Library (oneDNN) to use the following CPU instructions in performance-critical operations:  AVX2 AVX_VNNI FMA\n",
      "To enable them in other operations, rebuild TensorFlow with the appropriate compiler flags.\n",
      "2023-02-08 02:21:11.687313: I tensorflow/core/util/port.cc:104] oneDNN custom operations are on. You may see slightly different numerical results due to floating-point round-off errors from different computation orders. To turn them off, set the environment variable `TF_ENABLE_ONEDNN_OPTS=0`.\n"
     ]
    }
   ],
   "source": [
    "import tensorflow as tf\n",
    "from tensorflow.keras.callbacks import EarlyStopping\n",
    "from tensorflow.keras.utils import to_categorical\n",
    "\n",
    "from sklearn.metrics import f1_score\n",
    "from sklearn.preprocessing import MinMaxScaler"
   ]
  },
  {
   "cell_type": "markdown",
   "id": "6276e4a1-b243-437b-afa6-f593e0ee884f",
   "metadata": {},
   "source": [
    "We have to scale the data to avoid huge value deviations."
   ]
  },
  {
   "cell_type": "code",
   "execution_count": 23,
   "id": "127b667d-77f6-482b-aae5-d800adca0d3e",
   "metadata": {},
   "outputs": [],
   "source": [
    "scaler = MinMaxScaler()"
   ]
  },
  {
   "cell_type": "code",
   "execution_count": 24,
   "id": "c7b08368-e074-4150-8515-fe1bd8c7a1bd",
   "metadata": {},
   "outputs": [],
   "source": [
    "X_train_scaled = scaler.fit_transform(train.drop(['y'], axis=1).to_numpy())\n",
    "y_train = train['y'].to_numpy()\n",
    "X_test_scaled = scaler.transform(test.drop(['y'], axis=1).to_numpy())\n",
    "y_test = test['y'].to_numpy()"
   ]
  },
  {
   "cell_type": "markdown",
   "id": "ee7d0089-c292-43bd-85ac-91c9621642b1",
   "metadata": {},
   "source": [
    "Then, we are better off using one-hot-vectors than scalars for the label representation."
   ]
  },
  {
   "cell_type": "code",
   "execution_count": 25,
   "id": "d5753b11-863c-42be-a424-c4fd2012ee2b",
   "metadata": {},
   "outputs": [],
   "source": [
    "y_train_cat = to_categorical(y_train)\n",
    "y_test_cat = to_categorical(y_test)"
   ]
  },
  {
   "cell_type": "markdown",
   "id": "85d0f318-4542-4b2f-bf8b-1e123e9a26f4",
   "metadata": {},
   "source": [
    "We define a MLP model with one hidden layer."
   ]
  },
  {
   "cell_type": "code",
   "execution_count": 26,
   "id": "529f5022-2c19-4d4e-950a-2bb014b87a0f",
   "metadata": {},
   "outputs": [
    {
     "name": "stderr",
     "output_type": "stream",
     "text": [
      "2023-02-08 02:21:12.657055: I tensorflow/core/platform/cpu_feature_guard.cc:193] This TensorFlow binary is optimized with oneAPI Deep Neural Network Library (oneDNN) to use the following CPU instructions in performance-critical operations:  AVX2 AVX_VNNI FMA\n",
      "To enable them in other operations, rebuild TensorFlow with the appropriate compiler flags.\n"
     ]
    }
   ],
   "source": [
    "model = tf.keras.models.Sequential([\n",
    "    tf.keras.layers.InputLayer(input_shape=(X_train_scaled.shape[1],)),\n",
    "    tf.keras.layers.Dense(units=50, activation='relu'),\n",
    "    tf.keras.layers.Dropout(0.2),\n",
    "    tf.keras.layers.Dense(units=y_train_cat.shape[1], activation='softmax')\n",
    "])\n",
    "\n",
    "model.compile(loss='categorical_crossentropy', optimizer='adam', metrics=['accuracy'])"
   ]
  },
  {
   "cell_type": "markdown",
   "id": "954ad825-66c2-4d04-a2c1-a7c5a9161478",
   "metadata": {},
   "source": [
    "We use early stopping monitoring the validation loss to avoid overfitting."
   ]
  },
  {
   "cell_type": "code",
   "execution_count": 27,
   "id": "b7baafac-cbb7-425f-b70f-55f6bb2302a6",
   "metadata": {},
   "outputs": [],
   "source": [
    "early_stop = EarlyStopping(monitor='val_loss', mode='min', verbose=1, patience=20)"
   ]
  },
  {
   "cell_type": "markdown",
   "id": "545fff1a-5ce8-45ad-8729-b87ddee56e66",
   "metadata": {},
   "source": [
    "Let's train the model."
   ]
  },
  {
   "cell_type": "code",
   "execution_count": 28,
   "id": "678d1c40-6a87-4906-8996-fa38ad442695",
   "metadata": {},
   "outputs": [
    {
     "name": "stdout",
     "output_type": "stream",
     "text": [
      "Epoch 1/300\n",
      "57/57 [==============================] - 1s 3ms/step - loss: 2.3162 - accuracy: 0.2007 - val_loss: 2.1792 - val_accuracy: 0.2559\n",
      "Epoch 2/300\n",
      "57/57 [==============================] - 0s 2ms/step - loss: 2.1184 - accuracy: 0.2745 - val_loss: 2.0425 - val_accuracy: 0.3344\n",
      "Epoch 3/300\n",
      "57/57 [==============================] - 0s 2ms/step - loss: 2.0094 - accuracy: 0.2804 - val_loss: 1.9520 - val_accuracy: 0.3200\n",
      "Epoch 4/300\n",
      "57/57 [==============================] - 0s 2ms/step - loss: 1.9428 - accuracy: 0.3013 - val_loss: 1.8981 - val_accuracy: 0.4019\n",
      "Epoch 5/300\n",
      "57/57 [==============================] - 0s 2ms/step - loss: 1.9013 - accuracy: 0.3119 - val_loss: 1.8594 - val_accuracy: 0.3874\n",
      "Epoch 6/300\n",
      "57/57 [==============================] - 0s 2ms/step - loss: 1.8604 - accuracy: 0.3197 - val_loss: 1.8268 - val_accuracy: 0.3305\n",
      "Epoch 7/300\n",
      "57/57 [==============================] - 0s 2ms/step - loss: 1.8309 - accuracy: 0.3269 - val_loss: 1.8004 - val_accuracy: 0.4103\n",
      "Epoch 8/300\n",
      "57/57 [==============================] - 0s 2ms/step - loss: 1.8037 - accuracy: 0.3370 - val_loss: 1.7703 - val_accuracy: 0.3540\n",
      "Epoch 9/300\n",
      "57/57 [==============================] - 0s 2ms/step - loss: 1.7787 - accuracy: 0.3528 - val_loss: 1.7444 - val_accuracy: 0.3567\n",
      "Epoch 10/300\n",
      "57/57 [==============================] - 0s 2ms/step - loss: 1.7557 - accuracy: 0.3551 - val_loss: 1.7209 - val_accuracy: 0.4501\n",
      "Epoch 11/300\n",
      "57/57 [==============================] - 0s 2ms/step - loss: 1.7359 - accuracy: 0.3601 - val_loss: 1.6982 - val_accuracy: 0.4186\n",
      "Epoch 12/300\n",
      "57/57 [==============================] - 0s 2ms/step - loss: 1.7139 - accuracy: 0.3701 - val_loss: 1.6794 - val_accuracy: 0.3685\n",
      "Epoch 13/300\n",
      "57/57 [==============================] - 0s 2ms/step - loss: 1.6931 - accuracy: 0.3732 - val_loss: 1.6584 - val_accuracy: 0.3768\n",
      "Epoch 14/300\n",
      "57/57 [==============================] - 0s 2ms/step - loss: 1.6731 - accuracy: 0.3685 - val_loss: 1.6386 - val_accuracy: 0.3921\n",
      "Epoch 15/300\n",
      "57/57 [==============================] - 0s 2ms/step - loss: 1.6583 - accuracy: 0.3874 - val_loss: 1.6220 - val_accuracy: 0.4128\n",
      "Epoch 16/300\n",
      "57/57 [==============================] - 0s 2ms/step - loss: 1.6418 - accuracy: 0.3863 - val_loss: 1.6061 - val_accuracy: 0.4066\n",
      "Epoch 17/300\n",
      "57/57 [==============================] - 0s 2ms/step - loss: 1.6258 - accuracy: 0.3941 - val_loss: 1.5913 - val_accuracy: 0.4409\n",
      "Epoch 18/300\n",
      "57/57 [==============================] - 0s 2ms/step - loss: 1.6107 - accuracy: 0.4011 - val_loss: 1.5767 - val_accuracy: 0.4462\n",
      "Epoch 19/300\n",
      "57/57 [==============================] - 0s 2ms/step - loss: 1.6003 - accuracy: 0.4058 - val_loss: 1.5642 - val_accuracy: 0.4164\n",
      "Epoch 20/300\n",
      "57/57 [==============================] - 0s 2ms/step - loss: 1.5838 - accuracy: 0.4181 - val_loss: 1.5503 - val_accuracy: 0.4677\n",
      "Epoch 21/300\n",
      "57/57 [==============================] - 0s 2ms/step - loss: 1.5674 - accuracy: 0.4211 - val_loss: 1.5375 - val_accuracy: 0.4532\n",
      "Epoch 22/300\n",
      "57/57 [==============================] - 0s 2ms/step - loss: 1.5575 - accuracy: 0.4139 - val_loss: 1.5246 - val_accuracy: 0.4640\n",
      "Epoch 23/300\n",
      "57/57 [==============================] - 0s 2ms/step - loss: 1.5515 - accuracy: 0.4259 - val_loss: 1.5148 - val_accuracy: 0.4838\n",
      "Epoch 24/300\n",
      "57/57 [==============================] - 0s 2ms/step - loss: 1.5332 - accuracy: 0.4331 - val_loss: 1.5010 - val_accuracy: 0.4967\n",
      "Epoch 25/300\n",
      "57/57 [==============================] - 0s 2ms/step - loss: 1.5238 - accuracy: 0.4440 - val_loss: 1.4918 - val_accuracy: 0.4950\n",
      "Epoch 26/300\n",
      "57/57 [==============================] - 0s 2ms/step - loss: 1.5131 - accuracy: 0.4309 - val_loss: 1.4764 - val_accuracy: 0.4914\n",
      "Epoch 27/300\n",
      "57/57 [==============================] - 0s 2ms/step - loss: 1.5059 - accuracy: 0.4440 - val_loss: 1.4647 - val_accuracy: 0.5139\n",
      "Epoch 28/300\n",
      "57/57 [==============================] - 0s 2ms/step - loss: 1.4887 - accuracy: 0.4585 - val_loss: 1.4552 - val_accuracy: 0.4911\n",
      "Epoch 29/300\n",
      "57/57 [==============================] - 0s 2ms/step - loss: 1.4857 - accuracy: 0.4515 - val_loss: 1.4431 - val_accuracy: 0.5237\n",
      "Epoch 30/300\n",
      "57/57 [==============================] - 0s 2ms/step - loss: 1.4665 - accuracy: 0.4685 - val_loss: 1.4324 - val_accuracy: 0.5117\n",
      "Epoch 31/300\n",
      "57/57 [==============================] - 0s 2ms/step - loss: 1.4610 - accuracy: 0.4663 - val_loss: 1.4193 - val_accuracy: 0.5137\n",
      "Epoch 32/300\n",
      "57/57 [==============================] - 0s 2ms/step - loss: 1.4409 - accuracy: 0.4785 - val_loss: 1.4086 - val_accuracy: 0.5047\n",
      "Epoch 33/300\n",
      "57/57 [==============================] - 0s 2ms/step - loss: 1.4273 - accuracy: 0.4780 - val_loss: 1.3971 - val_accuracy: 0.5248\n",
      "Epoch 34/300\n",
      "57/57 [==============================] - 0s 2ms/step - loss: 1.4231 - accuracy: 0.4863 - val_loss: 1.3865 - val_accuracy: 0.5295\n",
      "Epoch 35/300\n",
      "57/57 [==============================] - 0s 2ms/step - loss: 1.4085 - accuracy: 0.4889 - val_loss: 1.3762 - val_accuracy: 0.5343\n",
      "Epoch 36/300\n",
      "57/57 [==============================] - 0s 2ms/step - loss: 1.4015 - accuracy: 0.4838 - val_loss: 1.3657 - val_accuracy: 0.5089\n",
      "Epoch 37/300\n",
      "57/57 [==============================] - 0s 2ms/step - loss: 1.3877 - accuracy: 0.4783 - val_loss: 1.3561 - val_accuracy: 0.5337\n",
      "Epoch 38/300\n",
      "57/57 [==============================] - 0s 2ms/step - loss: 1.3760 - accuracy: 0.4964 - val_loss: 1.3428 - val_accuracy: 0.5354\n",
      "Epoch 39/300\n",
      "57/57 [==============================] - 0s 2ms/step - loss: 1.3662 - accuracy: 0.4944 - val_loss: 1.3340 - val_accuracy: 0.5287\n",
      "Epoch 40/300\n",
      "57/57 [==============================] - 0s 2ms/step - loss: 1.3601 - accuracy: 0.4947 - val_loss: 1.3241 - val_accuracy: 0.5301\n",
      "Epoch 41/300\n",
      "57/57 [==============================] - 0s 2ms/step - loss: 1.3573 - accuracy: 0.4978 - val_loss: 1.3149 - val_accuracy: 0.5387\n",
      "Epoch 42/300\n",
      "57/57 [==============================] - 0s 2ms/step - loss: 1.3390 - accuracy: 0.5050 - val_loss: 1.3049 - val_accuracy: 0.5351\n",
      "Epoch 43/300\n",
      "57/57 [==============================] - 0s 2ms/step - loss: 1.3371 - accuracy: 0.5045 - val_loss: 1.2969 - val_accuracy: 0.5365\n",
      "Epoch 44/300\n",
      "57/57 [==============================] - 0s 2ms/step - loss: 1.3281 - accuracy: 0.5056 - val_loss: 1.2879 - val_accuracy: 0.5362\n",
      "Epoch 45/300\n",
      "57/57 [==============================] - 0s 2ms/step - loss: 1.3151 - accuracy: 0.5025 - val_loss: 1.2784 - val_accuracy: 0.5346\n",
      "Epoch 46/300\n",
      "57/57 [==============================] - 0s 2ms/step - loss: 1.3094 - accuracy: 0.5086 - val_loss: 1.2697 - val_accuracy: 0.5362\n",
      "Epoch 47/300\n",
      "57/57 [==============================] - 0s 2ms/step - loss: 1.2961 - accuracy: 0.5114 - val_loss: 1.2628 - val_accuracy: 0.5465\n",
      "Epoch 48/300\n",
      "57/57 [==============================] - 0s 2ms/step - loss: 1.2921 - accuracy: 0.5061 - val_loss: 1.2577 - val_accuracy: 0.5376\n",
      "Epoch 49/300\n",
      "57/57 [==============================] - 0s 2ms/step - loss: 1.2878 - accuracy: 0.5042 - val_loss: 1.2462 - val_accuracy: 0.5368\n",
      "Epoch 50/300\n",
      "57/57 [==============================] - 0s 2ms/step - loss: 1.2791 - accuracy: 0.4986 - val_loss: 1.2378 - val_accuracy: 0.5298\n",
      "Epoch 51/300\n",
      "57/57 [==============================] - 0s 2ms/step - loss: 1.2743 - accuracy: 0.5151 - val_loss: 1.2357 - val_accuracy: 0.5362\n",
      "Epoch 52/300\n",
      "57/57 [==============================] - 0s 2ms/step - loss: 1.2674 - accuracy: 0.5078 - val_loss: 1.2240 - val_accuracy: 0.5304\n",
      "Epoch 53/300\n",
      "57/57 [==============================] - 0s 2ms/step - loss: 1.2528 - accuracy: 0.5114 - val_loss: 1.2178 - val_accuracy: 0.5329\n",
      "Epoch 54/300\n",
      "57/57 [==============================] - 0s 2ms/step - loss: 1.2553 - accuracy: 0.5142 - val_loss: 1.2122 - val_accuracy: 0.5404\n",
      "Epoch 55/300\n",
      "57/57 [==============================] - 0s 2ms/step - loss: 1.2415 - accuracy: 0.5153 - val_loss: 1.2066 - val_accuracy: 0.5435\n",
      "Epoch 56/300\n",
      "57/57 [==============================] - 0s 2ms/step - loss: 1.2402 - accuracy: 0.5167 - val_loss: 1.2056 - val_accuracy: 0.5393\n",
      "Epoch 57/300\n",
      "57/57 [==============================] - 0s 2ms/step - loss: 1.2427 - accuracy: 0.5064 - val_loss: 1.1996 - val_accuracy: 0.5365\n",
      "Epoch 58/300\n",
      "57/57 [==============================] - 0s 2ms/step - loss: 1.2303 - accuracy: 0.5125 - val_loss: 1.1906 - val_accuracy: 0.5424\n",
      "Epoch 59/300\n",
      "57/57 [==============================] - 0s 2ms/step - loss: 1.2259 - accuracy: 0.5184 - val_loss: 1.1839 - val_accuracy: 0.5468\n",
      "Epoch 60/300\n",
      "57/57 [==============================] - 0s 2ms/step - loss: 1.2193 - accuracy: 0.5231 - val_loss: 1.1814 - val_accuracy: 0.5368\n",
      "Epoch 61/300\n",
      "57/57 [==============================] - 0s 2ms/step - loss: 1.2123 - accuracy: 0.5156 - val_loss: 1.1750 - val_accuracy: 0.5454\n",
      "Epoch 62/300\n",
      "57/57 [==============================] - 0s 2ms/step - loss: 1.2030 - accuracy: 0.5248 - val_loss: 1.1684 - val_accuracy: 0.5401\n",
      "Epoch 63/300\n",
      "57/57 [==============================] - 0s 2ms/step - loss: 1.2071 - accuracy: 0.5159 - val_loss: 1.1666 - val_accuracy: 0.5502\n",
      "Epoch 64/300\n",
      "57/57 [==============================] - 0s 2ms/step - loss: 1.1949 - accuracy: 0.5184 - val_loss: 1.1604 - val_accuracy: 0.5382\n",
      "Epoch 65/300\n",
      "57/57 [==============================] - 0s 2ms/step - loss: 1.1910 - accuracy: 0.5220 - val_loss: 1.1536 - val_accuracy: 0.5373\n",
      "Epoch 66/300\n",
      "57/57 [==============================] - 0s 2ms/step - loss: 1.1893 - accuracy: 0.5234 - val_loss: 1.1493 - val_accuracy: 0.5440\n",
      "Epoch 67/300\n",
      "57/57 [==============================] - 0s 2ms/step - loss: 1.1887 - accuracy: 0.5240 - val_loss: 1.1449 - val_accuracy: 0.5412\n",
      "Epoch 68/300\n",
      "57/57 [==============================] - 0s 2ms/step - loss: 1.1818 - accuracy: 0.5265 - val_loss: 1.1419 - val_accuracy: 0.5418\n",
      "Epoch 69/300\n",
      "57/57 [==============================] - 0s 2ms/step - loss: 1.1768 - accuracy: 0.5273 - val_loss: 1.1362 - val_accuracy: 0.5401\n",
      "Epoch 70/300\n",
      "57/57 [==============================] - 0s 2ms/step - loss: 1.1726 - accuracy: 0.5276 - val_loss: 1.1331 - val_accuracy: 0.5429\n",
      "Epoch 71/300\n",
      "57/57 [==============================] - 0s 2ms/step - loss: 1.1758 - accuracy: 0.5240 - val_loss: 1.1299 - val_accuracy: 0.5412\n",
      "Epoch 72/300\n",
      "57/57 [==============================] - 0s 2ms/step - loss: 1.1680 - accuracy: 0.5309 - val_loss: 1.1251 - val_accuracy: 0.5446\n",
      "Epoch 73/300\n",
      "57/57 [==============================] - 0s 2ms/step - loss: 1.1635 - accuracy: 0.5201 - val_loss: 1.1238 - val_accuracy: 0.5474\n",
      "Epoch 74/300\n",
      "57/57 [==============================] - 0s 2ms/step - loss: 1.1667 - accuracy: 0.5209 - val_loss: 1.1187 - val_accuracy: 0.5460\n",
      "Epoch 75/300\n",
      "57/57 [==============================] - 0s 2ms/step - loss: 1.1552 - accuracy: 0.5298 - val_loss: 1.1142 - val_accuracy: 0.5454\n",
      "Epoch 76/300\n",
      "57/57 [==============================] - 0s 2ms/step - loss: 1.1516 - accuracy: 0.5195 - val_loss: 1.1131 - val_accuracy: 0.5429\n",
      "Epoch 77/300\n",
      "57/57 [==============================] - 0s 2ms/step - loss: 1.1480 - accuracy: 0.5279 - val_loss: 1.1099 - val_accuracy: 0.5452\n",
      "Epoch 78/300\n",
      "57/57 [==============================] - 0s 2ms/step - loss: 1.1411 - accuracy: 0.5368 - val_loss: 1.1042 - val_accuracy: 0.5521\n",
      "Epoch 79/300\n",
      "57/57 [==============================] - 0s 2ms/step - loss: 1.1354 - accuracy: 0.5323 - val_loss: 1.1002 - val_accuracy: 0.5449\n",
      "Epoch 80/300\n",
      "57/57 [==============================] - 0s 2ms/step - loss: 1.1403 - accuracy: 0.5323 - val_loss: 1.0980 - val_accuracy: 0.5524\n",
      "Epoch 81/300\n",
      "57/57 [==============================] - 0s 2ms/step - loss: 1.1308 - accuracy: 0.5432 - val_loss: 1.0947 - val_accuracy: 0.5496\n",
      "Epoch 82/300\n",
      "57/57 [==============================] - 0s 2ms/step - loss: 1.1326 - accuracy: 0.5365 - val_loss: 1.0901 - val_accuracy: 0.5516\n",
      "Epoch 83/300\n",
      "57/57 [==============================] - 0s 2ms/step - loss: 1.1285 - accuracy: 0.5212 - val_loss: 1.0922 - val_accuracy: 0.5412\n",
      "Epoch 84/300\n",
      "57/57 [==============================] - 0s 2ms/step - loss: 1.1333 - accuracy: 0.5256 - val_loss: 1.0877 - val_accuracy: 0.5446\n",
      "Epoch 85/300\n",
      "57/57 [==============================] - 0s 2ms/step - loss: 1.1232 - accuracy: 0.5332 - val_loss: 1.0813 - val_accuracy: 0.5471\n",
      "Epoch 86/300\n",
      "57/57 [==============================] - 0s 2ms/step - loss: 1.1202 - accuracy: 0.5354 - val_loss: 1.0790 - val_accuracy: 0.5516\n",
      "Epoch 87/300\n",
      "57/57 [==============================] - 0s 2ms/step - loss: 1.1126 - accuracy: 0.5371 - val_loss: 1.0750 - val_accuracy: 0.5516\n",
      "Epoch 88/300\n",
      "57/57 [==============================] - 0s 2ms/step - loss: 1.1104 - accuracy: 0.5312 - val_loss: 1.0738 - val_accuracy: 0.5535\n",
      "Epoch 89/300\n",
      "57/57 [==============================] - 0s 2ms/step - loss: 1.1085 - accuracy: 0.5396 - val_loss: 1.0708 - val_accuracy: 0.5401\n",
      "Epoch 90/300\n",
      "57/57 [==============================] - 0s 2ms/step - loss: 1.1143 - accuracy: 0.5357 - val_loss: 1.0699 - val_accuracy: 0.5502\n",
      "Epoch 91/300\n",
      "57/57 [==============================] - 0s 2ms/step - loss: 1.1060 - accuracy: 0.5399 - val_loss: 1.0660 - val_accuracy: 0.5485\n",
      "Epoch 92/300\n",
      "57/57 [==============================] - 0s 2ms/step - loss: 1.0991 - accuracy: 0.5393 - val_loss: 1.0612 - val_accuracy: 0.5499\n",
      "Epoch 93/300\n",
      "57/57 [==============================] - 0s 2ms/step - loss: 1.0956 - accuracy: 0.5360 - val_loss: 1.0605 - val_accuracy: 0.5457\n",
      "Epoch 94/300\n",
      "57/57 [==============================] - 0s 2ms/step - loss: 1.0982 - accuracy: 0.5371 - val_loss: 1.0590 - val_accuracy: 0.5426\n",
      "Epoch 95/300\n",
      "57/57 [==============================] - 0s 2ms/step - loss: 1.0959 - accuracy: 0.5329 - val_loss: 1.0546 - val_accuracy: 0.5491\n",
      "Epoch 96/300\n",
      "57/57 [==============================] - 0s 2ms/step - loss: 1.0911 - accuracy: 0.5329 - val_loss: 1.0531 - val_accuracy: 0.5468\n",
      "Epoch 97/300\n",
      "57/57 [==============================] - 0s 2ms/step - loss: 1.0917 - accuracy: 0.5421 - val_loss: 1.0512 - val_accuracy: 0.5557\n",
      "Epoch 98/300\n",
      "57/57 [==============================] - 0s 2ms/step - loss: 1.0937 - accuracy: 0.5362 - val_loss: 1.0499 - val_accuracy: 0.5580\n",
      "Epoch 99/300\n",
      "57/57 [==============================] - 0s 2ms/step - loss: 1.0894 - accuracy: 0.5360 - val_loss: 1.0468 - val_accuracy: 0.5582\n",
      "Epoch 100/300\n",
      "57/57 [==============================] - 0s 2ms/step - loss: 1.0778 - accuracy: 0.5412 - val_loss: 1.0443 - val_accuracy: 0.5530\n",
      "Epoch 101/300\n",
      "57/57 [==============================] - 0s 2ms/step - loss: 1.0773 - accuracy: 0.5446 - val_loss: 1.0391 - val_accuracy: 0.5546\n",
      "Epoch 102/300\n",
      "57/57 [==============================] - 0s 2ms/step - loss: 1.0782 - accuracy: 0.5373 - val_loss: 1.0386 - val_accuracy: 0.5591\n",
      "Epoch 103/300\n",
      "57/57 [==============================] - 0s 2ms/step - loss: 1.0792 - accuracy: 0.5362 - val_loss: 1.0360 - val_accuracy: 0.5516\n",
      "Epoch 104/300\n",
      "57/57 [==============================] - 0s 2ms/step - loss: 1.0813 - accuracy: 0.5438 - val_loss: 1.0335 - val_accuracy: 0.5563\n",
      "Epoch 105/300\n",
      "57/57 [==============================] - 0s 2ms/step - loss: 1.0635 - accuracy: 0.5396 - val_loss: 1.0326 - val_accuracy: 0.5543\n",
      "Epoch 106/300\n",
      "57/57 [==============================] - 0s 2ms/step - loss: 1.0732 - accuracy: 0.5390 - val_loss: 1.0297 - val_accuracy: 0.5596\n",
      "Epoch 107/300\n",
      "57/57 [==============================] - 0s 2ms/step - loss: 1.0702 - accuracy: 0.5340 - val_loss: 1.0287 - val_accuracy: 0.5532\n",
      "Epoch 108/300\n",
      "57/57 [==============================] - 0s 2ms/step - loss: 1.0662 - accuracy: 0.5424 - val_loss: 1.0268 - val_accuracy: 0.5624\n",
      "Epoch 109/300\n",
      "57/57 [==============================] - 0s 2ms/step - loss: 1.0608 - accuracy: 0.5379 - val_loss: 1.0252 - val_accuracy: 0.5552\n",
      "Epoch 110/300\n",
      "57/57 [==============================] - 0s 2ms/step - loss: 1.0622 - accuracy: 0.5460 - val_loss: 1.0225 - val_accuracy: 0.5524\n",
      "Epoch 111/300\n",
      "57/57 [==============================] - 0s 2ms/step - loss: 1.0619 - accuracy: 0.5415 - val_loss: 1.0190 - val_accuracy: 0.5566\n",
      "Epoch 112/300\n",
      "57/57 [==============================] - 0s 2ms/step - loss: 1.0476 - accuracy: 0.5557 - val_loss: 1.0205 - val_accuracy: 0.5557\n",
      "Epoch 113/300\n",
      "57/57 [==============================] - 0s 2ms/step - loss: 1.0570 - accuracy: 0.5399 - val_loss: 1.0172 - val_accuracy: 0.5613\n",
      "Epoch 114/300\n",
      "57/57 [==============================] - 0s 2ms/step - loss: 1.0537 - accuracy: 0.5421 - val_loss: 1.0133 - val_accuracy: 0.5591\n",
      "Epoch 115/300\n",
      "57/57 [==============================] - 0s 2ms/step - loss: 1.0476 - accuracy: 0.5379 - val_loss: 1.0129 - val_accuracy: 0.5608\n",
      "Epoch 116/300\n",
      "57/57 [==============================] - 0s 2ms/step - loss: 1.0478 - accuracy: 0.5435 - val_loss: 1.0111 - val_accuracy: 0.5518\n",
      "Epoch 117/300\n",
      "57/57 [==============================] - 0s 2ms/step - loss: 1.0458 - accuracy: 0.5421 - val_loss: 1.0113 - val_accuracy: 0.5530\n",
      "Epoch 118/300\n",
      "57/57 [==============================] - 0s 2ms/step - loss: 1.0491 - accuracy: 0.5309 - val_loss: 1.0077 - val_accuracy: 0.5588\n",
      "Epoch 119/300\n",
      "57/57 [==============================] - 0s 2ms/step - loss: 1.0422 - accuracy: 0.5471 - val_loss: 1.0051 - val_accuracy: 0.5613\n",
      "Epoch 120/300\n",
      "57/57 [==============================] - 0s 2ms/step - loss: 1.0401 - accuracy: 0.5435 - val_loss: 1.0061 - val_accuracy: 0.5641\n",
      "Epoch 121/300\n",
      "57/57 [==============================] - 0s 2ms/step - loss: 1.0417 - accuracy: 0.5368 - val_loss: 1.0034 - val_accuracy: 0.5610\n",
      "Epoch 122/300\n",
      "57/57 [==============================] - 0s 2ms/step - loss: 1.0366 - accuracy: 0.5396 - val_loss: 1.0027 - val_accuracy: 0.5605\n",
      "Epoch 123/300\n",
      "57/57 [==============================] - 0s 2ms/step - loss: 1.0425 - accuracy: 0.5443 - val_loss: 1.0033 - val_accuracy: 0.5602\n",
      "Epoch 124/300\n",
      "57/57 [==============================] - 0s 2ms/step - loss: 1.0410 - accuracy: 0.5510 - val_loss: 0.9975 - val_accuracy: 0.5527\n",
      "Epoch 125/300\n",
      "57/57 [==============================] - 0s 2ms/step - loss: 1.0304 - accuracy: 0.5532 - val_loss: 0.9968 - val_accuracy: 0.5610\n",
      "Epoch 126/300\n",
      "57/57 [==============================] - 0s 2ms/step - loss: 1.0363 - accuracy: 0.5493 - val_loss: 0.9938 - val_accuracy: 0.5577\n",
      "Epoch 127/300\n",
      "57/57 [==============================] - 0s 2ms/step - loss: 1.0354 - accuracy: 0.5477 - val_loss: 0.9948 - val_accuracy: 0.5596\n",
      "Epoch 128/300\n",
      "57/57 [==============================] - 0s 2ms/step - loss: 1.0328 - accuracy: 0.5421 - val_loss: 0.9920 - val_accuracy: 0.5658\n",
      "Epoch 129/300\n",
      "57/57 [==============================] - 0s 2ms/step - loss: 1.0276 - accuracy: 0.5438 - val_loss: 0.9909 - val_accuracy: 0.5557\n",
      "Epoch 130/300\n",
      "57/57 [==============================] - 0s 2ms/step - loss: 1.0299 - accuracy: 0.5563 - val_loss: 0.9956 - val_accuracy: 0.5658\n",
      "Epoch 131/300\n",
      "57/57 [==============================] - 0s 2ms/step - loss: 1.0286 - accuracy: 0.5412 - val_loss: 0.9859 - val_accuracy: 0.5596\n",
      "Epoch 132/300\n",
      "57/57 [==============================] - 0s 2ms/step - loss: 1.0199 - accuracy: 0.5496 - val_loss: 0.9865 - val_accuracy: 0.5674\n",
      "Epoch 133/300\n",
      "57/57 [==============================] - 0s 2ms/step - loss: 1.0180 - accuracy: 0.5527 - val_loss: 0.9855 - val_accuracy: 0.5496\n",
      "Epoch 134/300\n",
      "57/57 [==============================] - 0s 2ms/step - loss: 1.0225 - accuracy: 0.5440 - val_loss: 0.9847 - val_accuracy: 0.5635\n",
      "Epoch 135/300\n",
      "57/57 [==============================] - 0s 2ms/step - loss: 1.0228 - accuracy: 0.5443 - val_loss: 0.9814 - val_accuracy: 0.5619\n",
      "Epoch 136/300\n",
      "57/57 [==============================] - 0s 2ms/step - loss: 1.0151 - accuracy: 0.5426 - val_loss: 0.9817 - val_accuracy: 0.5557\n",
      "Epoch 137/300\n",
      "57/57 [==============================] - 0s 2ms/step - loss: 1.0156 - accuracy: 0.5582 - val_loss: 0.9790 - val_accuracy: 0.5630\n",
      "Epoch 138/300\n",
      "57/57 [==============================] - 0s 2ms/step - loss: 1.0184 - accuracy: 0.5449 - val_loss: 0.9785 - val_accuracy: 0.5574\n",
      "Epoch 139/300\n",
      "57/57 [==============================] - 0s 2ms/step - loss: 1.0188 - accuracy: 0.5513 - val_loss: 0.9787 - val_accuracy: 0.5638\n",
      "Epoch 140/300\n",
      "57/57 [==============================] - 0s 2ms/step - loss: 1.0136 - accuracy: 0.5546 - val_loss: 0.9755 - val_accuracy: 0.5697\n",
      "Epoch 141/300\n",
      "57/57 [==============================] - 0s 2ms/step - loss: 1.0142 - accuracy: 0.5463 - val_loss: 0.9755 - val_accuracy: 0.5674\n",
      "Epoch 142/300\n",
      "57/57 [==============================] - 0s 2ms/step - loss: 1.0082 - accuracy: 0.5560 - val_loss: 0.9724 - val_accuracy: 0.5680\n",
      "Epoch 143/300\n",
      "57/57 [==============================] - 0s 2ms/step - loss: 1.0075 - accuracy: 0.5479 - val_loss: 0.9701 - val_accuracy: 0.5591\n",
      "Epoch 144/300\n",
      "57/57 [==============================] - 0s 2ms/step - loss: 1.0061 - accuracy: 0.5596 - val_loss: 0.9697 - val_accuracy: 0.5608\n",
      "Epoch 145/300\n",
      "57/57 [==============================] - 0s 2ms/step - loss: 1.0105 - accuracy: 0.5424 - val_loss: 0.9697 - val_accuracy: 0.5630\n",
      "Epoch 146/300\n",
      "57/57 [==============================] - 0s 2ms/step - loss: 1.0017 - accuracy: 0.5468 - val_loss: 0.9669 - val_accuracy: 0.5666\n",
      "Epoch 147/300\n",
      "57/57 [==============================] - 0s 2ms/step - loss: 1.0015 - accuracy: 0.5535 - val_loss: 0.9655 - val_accuracy: 0.5649\n",
      "Epoch 148/300\n",
      "57/57 [==============================] - 0s 2ms/step - loss: 1.0048 - accuracy: 0.5510 - val_loss: 0.9651 - val_accuracy: 0.5755\n",
      "Epoch 149/300\n",
      "57/57 [==============================] - 0s 2ms/step - loss: 0.9938 - accuracy: 0.5605 - val_loss: 0.9640 - val_accuracy: 0.5677\n",
      "Epoch 150/300\n",
      "57/57 [==============================] - 0s 2ms/step - loss: 0.9953 - accuracy: 0.5535 - val_loss: 0.9630 - val_accuracy: 0.5569\n",
      "Epoch 151/300\n",
      "57/57 [==============================] - 0s 2ms/step - loss: 0.9950 - accuracy: 0.5479 - val_loss: 0.9640 - val_accuracy: 0.5596\n",
      "Epoch 152/300\n",
      "57/57 [==============================] - 0s 2ms/step - loss: 0.9937 - accuracy: 0.5491 - val_loss: 0.9605 - val_accuracy: 0.5602\n",
      "Epoch 153/300\n",
      "57/57 [==============================] - 0s 2ms/step - loss: 0.9939 - accuracy: 0.5491 - val_loss: 0.9601 - val_accuracy: 0.5672\n",
      "Epoch 154/300\n",
      "57/57 [==============================] - 0s 2ms/step - loss: 0.9961 - accuracy: 0.5463 - val_loss: 0.9609 - val_accuracy: 0.5694\n",
      "Epoch 155/300\n",
      "57/57 [==============================] - 0s 2ms/step - loss: 0.9899 - accuracy: 0.5491 - val_loss: 0.9554 - val_accuracy: 0.5744\n",
      "Epoch 156/300\n",
      "57/57 [==============================] - 0s 2ms/step - loss: 0.9956 - accuracy: 0.5585 - val_loss: 0.9555 - val_accuracy: 0.5688\n",
      "Epoch 157/300\n",
      "57/57 [==============================] - 0s 2ms/step - loss: 0.9954 - accuracy: 0.5429 - val_loss: 0.9541 - val_accuracy: 0.5697\n",
      "Epoch 158/300\n",
      "57/57 [==============================] - 0s 2ms/step - loss: 0.9879 - accuracy: 0.5535 - val_loss: 0.9544 - val_accuracy: 0.5613\n",
      "Epoch 159/300\n",
      "57/57 [==============================] - 0s 2ms/step - loss: 0.9952 - accuracy: 0.5457 - val_loss: 0.9553 - val_accuracy: 0.5727\n",
      "Epoch 160/300\n",
      "57/57 [==============================] - 0s 2ms/step - loss: 0.9882 - accuracy: 0.5591 - val_loss: 0.9551 - val_accuracy: 0.5691\n",
      "Epoch 161/300\n",
      "57/57 [==============================] - 0s 2ms/step - loss: 0.9821 - accuracy: 0.5563 - val_loss: 0.9502 - val_accuracy: 0.5638\n",
      "Epoch 162/300\n",
      "57/57 [==============================] - 0s 2ms/step - loss: 0.9811 - accuracy: 0.5557 - val_loss: 0.9494 - val_accuracy: 0.5624\n",
      "Epoch 163/300\n",
      "57/57 [==============================] - 0s 2ms/step - loss: 0.9900 - accuracy: 0.5482 - val_loss: 0.9484 - val_accuracy: 0.5641\n",
      "Epoch 164/300\n",
      "57/57 [==============================] - 0s 2ms/step - loss: 0.9847 - accuracy: 0.5552 - val_loss: 0.9486 - val_accuracy: 0.5705\n",
      "Epoch 165/300\n",
      "57/57 [==============================] - 0s 2ms/step - loss: 0.9861 - accuracy: 0.5527 - val_loss: 0.9457 - val_accuracy: 0.5783\n",
      "Epoch 166/300\n",
      "57/57 [==============================] - 0s 2ms/step - loss: 0.9794 - accuracy: 0.5602 - val_loss: 0.9451 - val_accuracy: 0.5602\n",
      "Epoch 167/300\n",
      "57/57 [==============================] - 0s 2ms/step - loss: 0.9842 - accuracy: 0.5499 - val_loss: 0.9461 - val_accuracy: 0.5674\n",
      "Epoch 168/300\n",
      "57/57 [==============================] - 0s 2ms/step - loss: 0.9763 - accuracy: 0.5518 - val_loss: 0.9444 - val_accuracy: 0.5674\n",
      "Epoch 169/300\n",
      "57/57 [==============================] - 0s 2ms/step - loss: 0.9754 - accuracy: 0.5613 - val_loss: 0.9405 - val_accuracy: 0.5672\n",
      "Epoch 170/300\n",
      "57/57 [==============================] - 0s 2ms/step - loss: 0.9809 - accuracy: 0.5574 - val_loss: 0.9418 - val_accuracy: 0.5716\n",
      "Epoch 171/300\n",
      "57/57 [==============================] - 0s 2ms/step - loss: 0.9790 - accuracy: 0.5549 - val_loss: 0.9397 - val_accuracy: 0.5755\n",
      "Epoch 172/300\n",
      "57/57 [==============================] - 0s 2ms/step - loss: 0.9751 - accuracy: 0.5585 - val_loss: 0.9414 - val_accuracy: 0.5694\n",
      "Epoch 173/300\n",
      "57/57 [==============================] - 0s 2ms/step - loss: 0.9791 - accuracy: 0.5513 - val_loss: 0.9405 - val_accuracy: 0.5661\n",
      "Epoch 174/300\n",
      "57/57 [==============================] - 0s 2ms/step - loss: 0.9732 - accuracy: 0.5574 - val_loss: 0.9396 - val_accuracy: 0.5713\n",
      "Epoch 175/300\n",
      "57/57 [==============================] - 0s 2ms/step - loss: 0.9738 - accuracy: 0.5566 - val_loss: 0.9356 - val_accuracy: 0.5683\n",
      "Epoch 176/300\n",
      "57/57 [==============================] - 0s 2ms/step - loss: 0.9715 - accuracy: 0.5546 - val_loss: 0.9352 - val_accuracy: 0.5680\n",
      "Epoch 177/300\n",
      "57/57 [==============================] - 0s 2ms/step - loss: 0.9678 - accuracy: 0.5582 - val_loss: 0.9341 - val_accuracy: 0.5716\n",
      "Epoch 178/300\n",
      "57/57 [==============================] - 0s 2ms/step - loss: 0.9705 - accuracy: 0.5499 - val_loss: 0.9325 - val_accuracy: 0.5716\n",
      "Epoch 179/300\n",
      "57/57 [==============================] - 0s 2ms/step - loss: 0.9678 - accuracy: 0.5546 - val_loss: 0.9351 - val_accuracy: 0.5794\n",
      "Epoch 180/300\n",
      "57/57 [==============================] - 0s 2ms/step - loss: 0.9702 - accuracy: 0.5563 - val_loss: 0.9317 - val_accuracy: 0.5694\n",
      "Epoch 181/300\n",
      "57/57 [==============================] - 0s 2ms/step - loss: 0.9716 - accuracy: 0.5530 - val_loss: 0.9312 - val_accuracy: 0.5691\n",
      "Epoch 182/300\n",
      "57/57 [==============================] - 0s 2ms/step - loss: 0.9674 - accuracy: 0.5624 - val_loss: 0.9305 - val_accuracy: 0.5683\n",
      "Epoch 183/300\n",
      "57/57 [==============================] - 0s 2ms/step - loss: 0.9657 - accuracy: 0.5555 - val_loss: 0.9288 - val_accuracy: 0.5772\n",
      "Epoch 184/300\n",
      "57/57 [==============================] - 0s 2ms/step - loss: 0.9629 - accuracy: 0.5594 - val_loss: 0.9285 - val_accuracy: 0.5753\n",
      "Epoch 185/300\n",
      "57/57 [==============================] - 0s 2ms/step - loss: 0.9699 - accuracy: 0.5605 - val_loss: 0.9278 - val_accuracy: 0.5688\n",
      "Epoch 186/300\n",
      "57/57 [==============================] - 0s 2ms/step - loss: 0.9618 - accuracy: 0.5543 - val_loss: 0.9263 - val_accuracy: 0.5753\n",
      "Epoch 187/300\n",
      "57/57 [==============================] - 0s 2ms/step - loss: 0.9589 - accuracy: 0.5563 - val_loss: 0.9246 - val_accuracy: 0.5713\n",
      "Epoch 188/300\n",
      "57/57 [==============================] - 0s 2ms/step - loss: 0.9549 - accuracy: 0.5552 - val_loss: 0.9236 - val_accuracy: 0.5764\n",
      "Epoch 189/300\n",
      "57/57 [==============================] - 0s 2ms/step - loss: 0.9600 - accuracy: 0.5560 - val_loss: 0.9234 - val_accuracy: 0.5711\n",
      "Epoch 190/300\n",
      "57/57 [==============================] - 0s 2ms/step - loss: 0.9632 - accuracy: 0.5516 - val_loss: 0.9241 - val_accuracy: 0.5739\n",
      "Epoch 191/300\n",
      "57/57 [==============================] - 0s 2ms/step - loss: 0.9566 - accuracy: 0.5577 - val_loss: 0.9225 - val_accuracy: 0.5739\n",
      "Epoch 192/300\n",
      "57/57 [==============================] - 0s 2ms/step - loss: 0.9623 - accuracy: 0.5582 - val_loss: 0.9229 - val_accuracy: 0.5730\n",
      "Epoch 193/300\n",
      "57/57 [==============================] - 0s 2ms/step - loss: 0.9569 - accuracy: 0.5591 - val_loss: 0.9216 - val_accuracy: 0.5766\n",
      "Epoch 194/300\n",
      "57/57 [==============================] - 0s 2ms/step - loss: 0.9601 - accuracy: 0.5613 - val_loss: 0.9206 - val_accuracy: 0.5722\n",
      "Epoch 195/300\n",
      "57/57 [==============================] - 0s 2ms/step - loss: 0.9618 - accuracy: 0.5513 - val_loss: 0.9197 - val_accuracy: 0.5794\n",
      "Epoch 196/300\n",
      "57/57 [==============================] - 0s 2ms/step - loss: 0.9584 - accuracy: 0.5588 - val_loss: 0.9188 - val_accuracy: 0.5769\n",
      "Epoch 197/300\n",
      "57/57 [==============================] - 0s 2ms/step - loss: 0.9540 - accuracy: 0.5513 - val_loss: 0.9187 - val_accuracy: 0.5680\n",
      "Epoch 198/300\n",
      "57/57 [==============================] - 0s 2ms/step - loss: 0.9618 - accuracy: 0.5599 - val_loss: 0.9169 - val_accuracy: 0.5786\n",
      "Epoch 199/300\n",
      "57/57 [==============================] - 0s 2ms/step - loss: 0.9571 - accuracy: 0.5518 - val_loss: 0.9167 - val_accuracy: 0.5638\n",
      "Epoch 200/300\n",
      "57/57 [==============================] - 0s 2ms/step - loss: 0.9531 - accuracy: 0.5585 - val_loss: 0.9160 - val_accuracy: 0.5702\n",
      "Epoch 201/300\n",
      "57/57 [==============================] - 0s 2ms/step - loss: 0.9488 - accuracy: 0.5691 - val_loss: 0.9164 - val_accuracy: 0.5713\n",
      "Epoch 202/300\n",
      "57/57 [==============================] - 0s 2ms/step - loss: 0.9483 - accuracy: 0.5599 - val_loss: 0.9141 - val_accuracy: 0.5755\n",
      "Epoch 203/300\n",
      "57/57 [==============================] - 0s 2ms/step - loss: 0.9493 - accuracy: 0.5577 - val_loss: 0.9157 - val_accuracy: 0.5727\n",
      "Epoch 204/300\n",
      "57/57 [==============================] - 0s 2ms/step - loss: 0.9490 - accuracy: 0.5574 - val_loss: 0.9140 - val_accuracy: 0.5705\n",
      "Epoch 205/300\n",
      "57/57 [==============================] - 0s 2ms/step - loss: 0.9464 - accuracy: 0.5516 - val_loss: 0.9121 - val_accuracy: 0.5700\n",
      "Epoch 206/300\n",
      "57/57 [==============================] - 0s 2ms/step - loss: 0.9471 - accuracy: 0.5580 - val_loss: 0.9121 - val_accuracy: 0.5691\n",
      "Epoch 207/300\n",
      "57/57 [==============================] - 0s 2ms/step - loss: 0.9506 - accuracy: 0.5521 - val_loss: 0.9120 - val_accuracy: 0.5769\n",
      "Epoch 208/300\n",
      "57/57 [==============================] - 0s 2ms/step - loss: 0.9408 - accuracy: 0.5666 - val_loss: 0.9096 - val_accuracy: 0.5772\n",
      "Epoch 209/300\n",
      "57/57 [==============================] - 0s 2ms/step - loss: 0.9541 - accuracy: 0.5541 - val_loss: 0.9113 - val_accuracy: 0.5683\n",
      "Epoch 210/300\n",
      "57/57 [==============================] - 0s 2ms/step - loss: 0.9482 - accuracy: 0.5560 - val_loss: 0.9091 - val_accuracy: 0.5669\n",
      "Epoch 211/300\n",
      "57/57 [==============================] - 0s 2ms/step - loss: 0.9451 - accuracy: 0.5488 - val_loss: 0.9076 - val_accuracy: 0.5708\n",
      "Epoch 212/300\n",
      "57/57 [==============================] - 0s 2ms/step - loss: 0.9385 - accuracy: 0.5502 - val_loss: 0.9078 - val_accuracy: 0.5747\n",
      "Epoch 213/300\n",
      "57/57 [==============================] - 0s 2ms/step - loss: 0.9376 - accuracy: 0.5658 - val_loss: 0.9071 - val_accuracy: 0.5722\n",
      "Epoch 214/300\n",
      "57/57 [==============================] - 0s 2ms/step - loss: 0.9405 - accuracy: 0.5608 - val_loss: 0.9065 - val_accuracy: 0.5739\n",
      "Epoch 215/300\n",
      "57/57 [==============================] - 0s 2ms/step - loss: 0.9423 - accuracy: 0.5560 - val_loss: 0.9073 - val_accuracy: 0.5775\n",
      "Epoch 216/300\n",
      "57/57 [==============================] - 0s 2ms/step - loss: 0.9430 - accuracy: 0.5613 - val_loss: 0.9054 - val_accuracy: 0.5761\n",
      "Epoch 217/300\n",
      "57/57 [==============================] - 0s 2ms/step - loss: 0.9444 - accuracy: 0.5507 - val_loss: 0.9064 - val_accuracy: 0.5733\n",
      "Epoch 218/300\n",
      "57/57 [==============================] - 0s 2ms/step - loss: 0.9366 - accuracy: 0.5571 - val_loss: 0.9035 - val_accuracy: 0.5753\n",
      "Epoch 219/300\n",
      "57/57 [==============================] - 0s 2ms/step - loss: 0.9435 - accuracy: 0.5633 - val_loss: 0.9054 - val_accuracy: 0.5736\n",
      "Epoch 220/300\n",
      "57/57 [==============================] - 0s 2ms/step - loss: 0.9434 - accuracy: 0.5555 - val_loss: 0.9028 - val_accuracy: 0.5691\n",
      "Epoch 221/300\n",
      "57/57 [==============================] - 0s 2ms/step - loss: 0.9428 - accuracy: 0.5602 - val_loss: 0.9010 - val_accuracy: 0.5688\n",
      "Epoch 222/300\n",
      "57/57 [==============================] - 0s 2ms/step - loss: 0.9376 - accuracy: 0.5602 - val_loss: 0.9057 - val_accuracy: 0.5792\n",
      "Epoch 223/300\n",
      "57/57 [==============================] - 0s 2ms/step - loss: 0.9424 - accuracy: 0.5635 - val_loss: 0.9047 - val_accuracy: 0.5739\n",
      "Epoch 224/300\n",
      "57/57 [==============================] - 0s 2ms/step - loss: 0.9418 - accuracy: 0.5493 - val_loss: 0.9016 - val_accuracy: 0.5697\n",
      "Epoch 225/300\n",
      "57/57 [==============================] - 0s 2ms/step - loss: 0.9444 - accuracy: 0.5521 - val_loss: 0.9010 - val_accuracy: 0.5744\n",
      "Epoch 226/300\n",
      "57/57 [==============================] - 0s 2ms/step - loss: 0.9368 - accuracy: 0.5622 - val_loss: 0.9078 - val_accuracy: 0.5733\n",
      "Epoch 227/300\n",
      "57/57 [==============================] - 0s 2ms/step - loss: 0.9305 - accuracy: 0.5599 - val_loss: 0.8974 - val_accuracy: 0.5778\n",
      "Epoch 228/300\n",
      "57/57 [==============================] - 0s 2ms/step - loss: 0.9363 - accuracy: 0.5683 - val_loss: 0.8983 - val_accuracy: 0.5719\n",
      "Epoch 229/300\n",
      "57/57 [==============================] - 0s 2ms/step - loss: 0.9357 - accuracy: 0.5591 - val_loss: 0.8985 - val_accuracy: 0.5739\n",
      "Epoch 230/300\n",
      "57/57 [==============================] - 0s 2ms/step - loss: 0.9332 - accuracy: 0.5602 - val_loss: 0.8973 - val_accuracy: 0.5778\n",
      "Epoch 231/300\n",
      "57/57 [==============================] - 0s 2ms/step - loss: 0.9340 - accuracy: 0.5627 - val_loss: 0.8953 - val_accuracy: 0.5805\n",
      "Epoch 232/300\n",
      "57/57 [==============================] - 0s 2ms/step - loss: 0.9280 - accuracy: 0.5571 - val_loss: 0.8943 - val_accuracy: 0.5789\n",
      "Epoch 233/300\n",
      "57/57 [==============================] - 0s 2ms/step - loss: 0.9309 - accuracy: 0.5566 - val_loss: 0.8960 - val_accuracy: 0.5705\n",
      "Epoch 234/300\n",
      "57/57 [==============================] - 0s 2ms/step - loss: 0.9288 - accuracy: 0.5538 - val_loss: 0.8949 - val_accuracy: 0.5811\n",
      "Epoch 235/300\n",
      "57/57 [==============================] - 0s 2ms/step - loss: 0.9315 - accuracy: 0.5700 - val_loss: 0.8976 - val_accuracy: 0.5705\n",
      "Epoch 236/300\n",
      "57/57 [==============================] - 0s 2ms/step - loss: 0.9228 - accuracy: 0.5616 - val_loss: 0.8933 - val_accuracy: 0.5786\n",
      "Epoch 237/300\n",
      "57/57 [==============================] - 0s 2ms/step - loss: 0.9256 - accuracy: 0.5733 - val_loss: 0.8952 - val_accuracy: 0.5725\n",
      "Epoch 238/300\n",
      "57/57 [==============================] - 0s 2ms/step - loss: 0.9207 - accuracy: 0.5708 - val_loss: 0.8913 - val_accuracy: 0.5730\n",
      "Epoch 239/300\n",
      "57/57 [==============================] - 0s 2ms/step - loss: 0.9195 - accuracy: 0.5633 - val_loss: 0.8927 - val_accuracy: 0.5725\n",
      "Epoch 240/300\n",
      "57/57 [==============================] - 0s 2ms/step - loss: 0.9287 - accuracy: 0.5599 - val_loss: 0.8921 - val_accuracy: 0.5800\n",
      "Epoch 241/300\n",
      "57/57 [==============================] - 0s 2ms/step - loss: 0.9289 - accuracy: 0.5627 - val_loss: 0.8904 - val_accuracy: 0.5750\n",
      "Epoch 242/300\n",
      "57/57 [==============================] - 0s 2ms/step - loss: 0.9214 - accuracy: 0.5588 - val_loss: 0.8901 - val_accuracy: 0.5753\n",
      "Epoch 243/300\n",
      "57/57 [==============================] - 0s 2ms/step - loss: 0.9300 - accuracy: 0.5580 - val_loss: 0.8882 - val_accuracy: 0.5744\n",
      "Epoch 244/300\n",
      "57/57 [==============================] - 0s 2ms/step - loss: 0.9312 - accuracy: 0.5627 - val_loss: 0.8891 - val_accuracy: 0.5758\n",
      "Epoch 245/300\n",
      "57/57 [==============================] - 0s 2ms/step - loss: 0.9241 - accuracy: 0.5647 - val_loss: 0.8895 - val_accuracy: 0.5694\n",
      "Epoch 246/300\n",
      "57/57 [==============================] - 0s 2ms/step - loss: 0.9275 - accuracy: 0.5663 - val_loss: 0.8895 - val_accuracy: 0.5708\n",
      "Epoch 247/300\n",
      "57/57 [==============================] - 0s 2ms/step - loss: 0.9250 - accuracy: 0.5624 - val_loss: 0.8932 - val_accuracy: 0.5786\n",
      "Epoch 248/300\n",
      "57/57 [==============================] - 0s 2ms/step - loss: 0.9307 - accuracy: 0.5557 - val_loss: 0.8918 - val_accuracy: 0.5744\n",
      "Epoch 249/300\n",
      "57/57 [==============================] - 0s 2ms/step - loss: 0.9251 - accuracy: 0.5557 - val_loss: 0.8911 - val_accuracy: 0.5800\n",
      "Epoch 250/300\n",
      "57/57 [==============================] - 0s 2ms/step - loss: 0.9400 - accuracy: 0.5591 - val_loss: 0.8871 - val_accuracy: 0.5733\n",
      "Epoch 251/300\n",
      "57/57 [==============================] - 0s 2ms/step - loss: 0.9259 - accuracy: 0.5541 - val_loss: 0.8892 - val_accuracy: 0.5766\n",
      "Epoch 252/300\n",
      "57/57 [==============================] - 0s 2ms/step - loss: 0.9252 - accuracy: 0.5627 - val_loss: 0.8856 - val_accuracy: 0.5811\n",
      "Epoch 253/300\n",
      "57/57 [==============================] - 0s 2ms/step - loss: 0.9161 - accuracy: 0.5677 - val_loss: 0.8847 - val_accuracy: 0.5822\n",
      "Epoch 254/300\n",
      "57/57 [==============================] - 0s 2ms/step - loss: 0.9286 - accuracy: 0.5580 - val_loss: 0.8877 - val_accuracy: 0.5730\n",
      "Epoch 255/300\n",
      "57/57 [==============================] - 0s 2ms/step - loss: 0.9194 - accuracy: 0.5661 - val_loss: 0.8874 - val_accuracy: 0.5739\n",
      "Epoch 256/300\n",
      "57/57 [==============================] - 0s 2ms/step - loss: 0.9263 - accuracy: 0.5649 - val_loss: 0.8833 - val_accuracy: 0.5825\n",
      "Epoch 257/300\n",
      "57/57 [==============================] - 0s 2ms/step - loss: 0.9300 - accuracy: 0.5594 - val_loss: 0.8850 - val_accuracy: 0.5761\n",
      "Epoch 258/300\n",
      "57/57 [==============================] - 0s 2ms/step - loss: 0.9349 - accuracy: 0.5700 - val_loss: 0.8861 - val_accuracy: 0.5758\n",
      "Epoch 259/300\n",
      "57/57 [==============================] - 0s 2ms/step - loss: 0.9188 - accuracy: 0.5630 - val_loss: 0.8846 - val_accuracy: 0.5733\n",
      "Epoch 260/300\n",
      "57/57 [==============================] - 0s 2ms/step - loss: 0.9196 - accuracy: 0.5585 - val_loss: 0.8847 - val_accuracy: 0.5778\n",
      "Epoch 261/300\n",
      "57/57 [==============================] - 0s 2ms/step - loss: 0.9191 - accuracy: 0.5619 - val_loss: 0.8823 - val_accuracy: 0.5775\n",
      "Epoch 262/300\n",
      "57/57 [==============================] - 0s 2ms/step - loss: 0.9251 - accuracy: 0.5557 - val_loss: 0.8827 - val_accuracy: 0.5825\n",
      "Epoch 263/300\n",
      "57/57 [==============================] - 0s 2ms/step - loss: 0.9169 - accuracy: 0.5605 - val_loss: 0.8806 - val_accuracy: 0.5750\n",
      "Epoch 264/300\n",
      "57/57 [==============================] - 0s 2ms/step - loss: 0.9216 - accuracy: 0.5633 - val_loss: 0.8812 - val_accuracy: 0.5792\n",
      "Epoch 265/300\n",
      "57/57 [==============================] - 0s 2ms/step - loss: 0.9189 - accuracy: 0.5652 - val_loss: 0.8811 - val_accuracy: 0.5811\n",
      "Epoch 266/300\n",
      "57/57 [==============================] - 0s 2ms/step - loss: 0.9225 - accuracy: 0.5691 - val_loss: 0.8812 - val_accuracy: 0.5727\n",
      "Epoch 267/300\n",
      "57/57 [==============================] - 0s 2ms/step - loss: 0.9180 - accuracy: 0.5616 - val_loss: 0.8809 - val_accuracy: 0.5789\n",
      "Epoch 268/300\n",
      "57/57 [==============================] - 0s 2ms/step - loss: 0.9184 - accuracy: 0.5616 - val_loss: 0.8799 - val_accuracy: 0.5711\n",
      "Epoch 269/300\n",
      "57/57 [==============================] - 0s 2ms/step - loss: 0.9153 - accuracy: 0.5655 - val_loss: 0.8797 - val_accuracy: 0.5733\n",
      "Epoch 270/300\n",
      "57/57 [==============================] - 0s 3ms/step - loss: 0.9246 - accuracy: 0.5591 - val_loss: 0.8818 - val_accuracy: 0.5722\n",
      "Epoch 271/300\n",
      "57/57 [==============================] - 0s 3ms/step - loss: 0.9151 - accuracy: 0.5638 - val_loss: 0.8792 - val_accuracy: 0.5739\n",
      "Epoch 272/300\n",
      "57/57 [==============================] - 0s 2ms/step - loss: 0.9115 - accuracy: 0.5588 - val_loss: 0.8779 - val_accuracy: 0.5783\n",
      "Epoch 273/300\n",
      "57/57 [==============================] - 0s 2ms/step - loss: 0.9215 - accuracy: 0.5658 - val_loss: 0.8776 - val_accuracy: 0.5753\n",
      "Epoch 274/300\n",
      "57/57 [==============================] - 0s 2ms/step - loss: 0.9157 - accuracy: 0.5610 - val_loss: 0.8771 - val_accuracy: 0.5778\n",
      "Epoch 275/300\n",
      "57/57 [==============================] - 0s 2ms/step - loss: 0.9128 - accuracy: 0.5644 - val_loss: 0.8781 - val_accuracy: 0.5766\n",
      "Epoch 276/300\n",
      "57/57 [==============================] - 0s 2ms/step - loss: 0.9108 - accuracy: 0.5622 - val_loss: 0.8773 - val_accuracy: 0.5722\n",
      "Epoch 277/300\n",
      "57/57 [==============================] - 0s 2ms/step - loss: 0.9046 - accuracy: 0.5644 - val_loss: 0.8778 - val_accuracy: 0.5769\n",
      "Epoch 278/300\n",
      "57/57 [==============================] - 0s 2ms/step - loss: 0.9170 - accuracy: 0.5610 - val_loss: 0.8843 - val_accuracy: 0.5761\n",
      "Epoch 279/300\n",
      "57/57 [==============================] - 0s 2ms/step - loss: 0.9034 - accuracy: 0.5669 - val_loss: 0.8778 - val_accuracy: 0.5672\n",
      "Epoch 280/300\n",
      "57/57 [==============================] - 0s 2ms/step - loss: 0.9124 - accuracy: 0.5616 - val_loss: 0.8764 - val_accuracy: 0.5819\n",
      "Epoch 281/300\n",
      "57/57 [==============================] - 0s 2ms/step - loss: 0.9205 - accuracy: 0.5649 - val_loss: 0.8756 - val_accuracy: 0.5744\n",
      "Epoch 282/300\n",
      "57/57 [==============================] - 0s 2ms/step - loss: 0.9087 - accuracy: 0.5605 - val_loss: 0.8752 - val_accuracy: 0.5808\n",
      "Epoch 283/300\n",
      "57/57 [==============================] - 0s 2ms/step - loss: 0.9071 - accuracy: 0.5647 - val_loss: 0.8760 - val_accuracy: 0.5769\n",
      "Epoch 284/300\n",
      "57/57 [==============================] - 0s 2ms/step - loss: 0.9075 - accuracy: 0.5691 - val_loss: 0.8735 - val_accuracy: 0.5778\n",
      "Epoch 285/300\n",
      "57/57 [==============================] - 0s 2ms/step - loss: 0.9046 - accuracy: 0.5641 - val_loss: 0.8748 - val_accuracy: 0.5733\n",
      "Epoch 286/300\n",
      "57/57 [==============================] - 0s 2ms/step - loss: 0.9033 - accuracy: 0.5616 - val_loss: 0.8748 - val_accuracy: 0.5755\n",
      "Epoch 287/300\n",
      "57/57 [==============================] - 0s 2ms/step - loss: 0.9103 - accuracy: 0.5627 - val_loss: 0.8726 - val_accuracy: 0.5797\n",
      "Epoch 288/300\n",
      "57/57 [==============================] - 0s 2ms/step - loss: 0.9084 - accuracy: 0.5647 - val_loss: 0.8717 - val_accuracy: 0.5822\n",
      "Epoch 289/300\n",
      "57/57 [==============================] - 0s 2ms/step - loss: 0.9089 - accuracy: 0.5596 - val_loss: 0.8748 - val_accuracy: 0.5858\n",
      "Epoch 290/300\n",
      "57/57 [==============================] - 0s 2ms/step - loss: 0.9083 - accuracy: 0.5630 - val_loss: 0.8713 - val_accuracy: 0.5808\n",
      "Epoch 291/300\n",
      "57/57 [==============================] - 0s 2ms/step - loss: 0.9127 - accuracy: 0.5722 - val_loss: 0.8715 - val_accuracy: 0.5758\n",
      "Epoch 292/300\n",
      "57/57 [==============================] - 0s 2ms/step - loss: 0.9101 - accuracy: 0.5711 - val_loss: 0.8714 - val_accuracy: 0.5792\n",
      "Epoch 293/300\n",
      "57/57 [==============================] - 0s 2ms/step - loss: 0.9010 - accuracy: 0.5663 - val_loss: 0.8713 - val_accuracy: 0.5814\n",
      "Epoch 294/300\n",
      "57/57 [==============================] - 0s 2ms/step - loss: 0.9031 - accuracy: 0.5686 - val_loss: 0.8701 - val_accuracy: 0.5786\n",
      "Epoch 295/300\n",
      "57/57 [==============================] - 0s 2ms/step - loss: 0.8948 - accuracy: 0.5711 - val_loss: 0.8693 - val_accuracy: 0.5769\n",
      "Epoch 296/300\n",
      "57/57 [==============================] - 0s 2ms/step - loss: 0.9025 - accuracy: 0.5677 - val_loss: 0.8697 - val_accuracy: 0.5705\n",
      "Epoch 297/300\n",
      "57/57 [==============================] - 0s 2ms/step - loss: 0.9074 - accuracy: 0.5633 - val_loss: 0.8681 - val_accuracy: 0.5819\n",
      "Epoch 298/300\n",
      "57/57 [==============================] - 0s 2ms/step - loss: 0.9067 - accuracy: 0.5635 - val_loss: 0.8694 - val_accuracy: 0.5761\n",
      "Epoch 299/300\n",
      "57/57 [==============================] - 0s 2ms/step - loss: 0.9148 - accuracy: 0.5608 - val_loss: 0.8712 - val_accuracy: 0.5797\n",
      "Epoch 300/300\n",
      "57/57 [==============================] - 0s 2ms/step - loss: 0.9042 - accuracy: 0.5641 - val_loss: 0.8707 - val_accuracy: 0.5769\n"
     ]
    },
    {
     "data": {
      "text/plain": [
       "<keras.callbacks.History at 0x7f9acc2f6700>"
      ]
     },
     "execution_count": 28,
     "metadata": {},
     "output_type": "execute_result"
    }
   ],
   "source": [
    "model.fit(x=X_train_scaled, \n",
    "          y=y_train_cat, \n",
    "          epochs=300,\n",
    "          validation_data=(X_test_scaled, y_test_cat),\n",
    "          verbose=1,\n",
    "          batch_size=64,\n",
    "          callbacks=[early_stop]\n",
    "          )"
   ]
  },
  {
   "cell_type": "markdown",
   "id": "2c0eb188-26ed-420f-9674-3ee1c4b44156",
   "metadata": {},
   "source": [
    "Let's plot the Loss vs Epoch chart."
   ]
  },
  {
   "cell_type": "code",
   "execution_count": 29,
   "id": "2cae56b6-8e24-47c3-9f2e-dda2538eed56",
   "metadata": {},
   "outputs": [
    {
     "data": {
      "text/plain": [
       "<AxesSubplot: >"
      ]
     },
     "execution_count": 29,
     "metadata": {},
     "output_type": "execute_result"
    },
    {
     "data": {
      "image/png": "[encoded data removed]",
      "text/plain": [
       "<Figure size 640x480 with 1 Axes>"
      ]
     },
     "metadata": {},
     "output_type": "display_data"
    }
   ],
   "source": [
    "model_loss = pd.DataFrame(model.history.history)\n",
    "model_loss[['loss','val_loss']].plot()"
   ]
  },
  {
   "cell_type": "markdown",
   "id": "bec4469c-aef3-46c0-bb0f-c4680ae87744",
   "metadata": {},
   "source": [
    "Let's evaluate the trained model."
   ]
  },
  {
   "cell_type": "code",
   "execution_count": 30,
   "id": "6dc6c2e8-0fb7-4e31-8352-ea82effcd7f5",
   "metadata": {},
   "outputs": [
    {
     "name": "stdout",
     "output_type": "stream",
     "text": [
      "113/113 [==============================] - 0s 840us/step - loss: 0.8707 - accuracy: 0.5769\n",
      "Loss, Accuracy:  [0.8707118034362793, 0.5769230723381042]\n"
     ]
    }
   ],
   "source": [
    "print(\"Loss, Accuracy: \", model.evaluate(X_test_scaled, y_test_cat))\n",
    "model.compute_loss("
   ]
  },
  {
   "cell_type": "code",
   "execution_count": 31,
   "id": "f9953c95-0bb6-4d6f-9444-a9c7a83af1df",
   "metadata": {},
   "outputs": [
    {
     "name": "stdout",
     "output_type": "stream",
     "text": [
      "113/113 [==============================] - 0s 834us/step\n",
      "F1-score:  0.5551800491450816\n"
     ]
    }
   ],
   "source": [
    "print(\"F1-score: \", f1_score(y_test, np.argmax(model.predict(X_test_scaled), axis=1), average='weighted'))"
   ]
  },
  {
   "cell_type": "markdown",
   "id": "ccebd798-36ee-4e3b-a364-6e688a890c67",
   "metadata": {},
   "source": [
    "With a simple NN model a F1-score of approximately 57% was achieved.\n",
    "\n",
    "There is always room for model fine-tuning, optimizations and futher model improvements."
   ]
  }
 ],
 "metadata": {
  "kernelspec": {
   "display_name": "Python 3 (ipykernel)",
   "language": "python",
   "name": "python3"
  },
  "language_info": {
   "codemirror_mode": {
    "name": "ipython",
    "version": 3
   },
   "file_extension": ".py",
   "mimetype": "text/x-python",
   "name": "python",
   "nbconvert_exporter": "python",
   "pygments_lexer": "ipython3",
   "version": "3.9.15"
  }
 },
 "nbformat": 4,
 "nbformat_minor": 5
}
