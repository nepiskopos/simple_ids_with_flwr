{
 "cells": [
  {
   "cell_type": "markdown",
   "id": "e7edf6ba-bfe6-412b-81b1-dcec09ac476b",
   "metadata": {
    "tags": []
   },
   "source": [
    "# Federated Learning with Flower"
   ]
  },
  {
   "cell_type": "markdown",
   "id": "334a661f-5693-404c-a603-c3e218a9dd59",
   "metadata": {},
   "source": [
    "#### This notebook presents a simple Federated Learning example / application on developing a Machine Learning model as an Intrusion Detection System for defending against Cyberattacks using distributed and private data.\n",
    "#### This example uses Docker containers as independent workers / clients for performing the client model training on the limited and private local client data.\n",
    "#### This example was developed as part of the research conducted at [MetaMind Innovations - MINDS](https://metamind.gr/) in the framework of the [AI4CYBER Horizon Europe](https://metamind.gr/project/ai4cyber-horizon-europe/) project."
   ]
  },
  {
   "cell_type": "markdown",
   "id": "4d571908-e42d-4ada-9ccb-8e4e0b150289",
   "metadata": {},
   "source": [
    "### This notebook, as well as the Flower example, were implemented and tested using Python v3.11, Flower v1.5 and TensorFlow v2.14.1"
   ]
  },
  {
   "cell_type": "markdown",
   "id": "bb6741b6-b6bd-43e4-8423-55e2d217c118",
   "metadata": {
    "id": "_zFenI3IPpgI",
    "tags": []
   },
   "source": [
    "## Set Up Flower Environment"
   ]
  },
  {
   "cell_type": "code",
   "execution_count": 1,
   "id": "bcfa455c-9791-4d72-babb-251425e8e57a",
   "metadata": {
    "id": "ke7EyuvG0Zyn"
   },
   "outputs": [],
   "source": [
    "# !pip install --quiet --upgrade flwr==1.5.0\n",
    "# !pip install --quiet --upgrade tensorflow-cpu==2.14.1\n",
    "# !pip install --quiet --upgrade scikit-learn\n",
    "# !pip install --quiet --upgrade pandas\n",
    "# !pip install --quiet --upgrade matplotlib\n",
    "# !pip install --quiet --upgrade git+https://github.com/nepiskopos/py7zr.git"
   ]
  },
  {
   "cell_type": "markdown",
   "id": "2b2a72ab-d529-4077-80ed-9e719b70c2f0",
   "metadata": {},
   "source": [
    "## Dataset"
   ]
  },
  {
   "cell_type": "markdown",
   "id": "3edb0310-f315-4720-9f77-2d01660d5693",
   "metadata": {},
   "source": [
    "This dataset is part of the [IEC 60870-5-104 Intrusion Detection Dataset](http://ieee-dataport.org/documents/iec-60870-5-104-intrusion-detection-dataset) -- DOI: [10.1109/TII.2021.3093905](http://doi.org/10.1109/TII.2021.3093905) -- published by [ITHACA – University of Western Macedonia](http://ithaca.ece.uowm.gr/)."
   ]
  },
  {
   "cell_type": "code",
   "execution_count": 2,
   "id": "efb7a1c8-f3fd-49ab-9958-ae6c294b8219",
   "metadata": {},
   "outputs": [
    {
     "name": "stdout",
     "output_type": "stream",
     "text": [
      "...100%, 10 MB, 1659 KB/s, 6 seconds passedArchive '<py7zr.py7zr.SevenZipFile object at 0x7fbadc187eb0>' extracted successfully!\n"
     ]
    }
   ],
   "source": [
    "import errno\n",
    "import os\n",
    "import py7zr\n",
    "import re\n",
    "import shutil\n",
    "import sys\n",
    "import time\n",
    "import urllib\n",
    "\n",
    "\n",
    "def reporthook(count, block_size, total_size):\n",
    "    global start_time\n",
    "    if count == 0:\n",
    "        start_time = time.time()\n",
    "        return\n",
    "    duration = time.time() - start_time\n",
    "    progress_size = int(count * block_size)\n",
    "    speed = int(progress_size / (1024 * duration))\n",
    "    percent = int(count * block_size * 100 / total_size)\n",
    "    sys.stdout.write(\"\\r...%d%%, %d MB, %d KB/s, %d seconds passed\" %\n",
    "                    (percent, progress_size / (1024 * 1024), speed, duration))\n",
    "    sys.stdout.flush()\n",
    "\n",
    "def download(url, filename):\n",
    "    urllib.request.urlretrieve(url, filename, reporthook)\n",
    "\n",
    "def extract(archive, target_dir):\n",
    "    archive = py7zr.SevenZipFile(archive, mode='r')\n",
    "    try:\n",
    "        os.makedirs(target_dir)\n",
    "        \n",
    "        archive.extractall(path=target_dir)\n",
    "        archive.close()\n",
    "        \n",
    "        print(f\"Archive '{archive}' extracted successfully!\")\n",
    "    except OSError as e:\n",
    "        if e.errno == errno.EEXIST:\n",
    "            archive.extractall(path=target_dir)\n",
    "            archive.close()\n",
    "            \n",
    "            print(f\"Archive '{archive}' extracted successfully!\")\n",
    "        else:\n",
    "            print(f\"Archive '{archive}' failed to extract...\")\n",
    "\n",
    "\n",
    "base_data_dir = './datasets'\n",
    "\n",
    "if not os.path.isdir(os.path.join(base_data_dir, 'Balanced_IEC104_Train_Test_CSV_Files')):\n",
    "    filename = 'Balanced_IEC104_Train_Test_CSV_Files.7z'\n",
    "    \n",
    "    if not py7zr.is_7zfile(filename):\n",
    "        url = ('https://zenodo.org/records/7108614/files/Balanced_IEC104_Train_Test_CSV_Files.7z?download=1')\n",
    "        download(url, filename)\n",
    "    \n",
    "    extract(filename, base_data_dir)\n",
    "    \n",
    "    os.remove(os.path.join('.', filename))"
   ]
  },
  {
   "cell_type": "code",
   "execution_count": 3,
   "id": "9f976089-9202-4b15-bd15-2997a4d89144",
   "metadata": {},
   "outputs": [],
   "source": [
    "import collections\n",
    "import numpy as np\n",
    "import pandas as pd\n",
    "from matplotlib import pyplot as plt\n",
    "\n",
    "pd.set_option('future.no_silent_downcasting', True)\n",
    "\n",
    "%matplotlib inline"
   ]
  },
  {
   "cell_type": "markdown",
   "id": "0b4d9f70-d3d0-44ab-baa3-979c88065a37",
   "metadata": {},
   "source": [
    "We must choose which dataset version to facilitate for the experimentation as well as the network flow capturing timeout.\n",
    "\n",
    "We must also choose $3 \\leq N \\leq 5$ distinct federated learning workers.\n",
    "\n",
    "For this example we use the CICFlowMeter dataset with capturing timeout at 180 seconds and 3 workers."
   ]
  },
  {
   "cell_type": "code",
   "execution_count": 4,
   "id": "dec5093d-7510-4fba-b10b-26c82307be00",
   "metadata": {},
   "outputs": [],
   "source": [
    "tp = 'cic'      # Type: dataset type (CICFlowMeter or Custom Python parser), choose between 'cic' and 'custom'\n",
    "tm = 180        # Timeout: data flow timeout, choose a value from the following list [15, 30, 60, 90, 120, 180]\n",
    "n_workers = 3   # N: number of federated workers, choose between 3 and 5"
   ]
  },
  {
   "cell_type": "markdown",
   "id": "e0467bfd-f129-464e-ba22-becea8c0993a",
   "metadata": {},
   "source": [
    "Perform some value checks"
   ]
  },
  {
   "cell_type": "code",
   "execution_count": 5,
   "id": "5e8ea52b-b893-4251-af46-abef27045ac3",
   "metadata": {},
   "outputs": [],
   "source": [
    "assert tp in ('cic', 'custom'), \"Wrong dataset type, choose between 'cic' and 'custom'\"\n",
    "assert tm in (15, 30, 60, 90, 120, 180), \"Wrong time, choose a value from the following list [15, 30, 60, 90, 120, 180]\"\n",
    "assert n_workers in (3, 4, 5), \"Wrong number of workers, choose between 3 and 5\""
   ]
  },
  {
   "cell_type": "code",
   "execution_count": 6,
   "id": "050ffcfa-e371-411a-9172-dde2fb2315c5",
   "metadata": {},
   "outputs": [],
   "source": [
    "path = os.path.join(base_data_dir, 'Balanced_IEC104_Train_Test_CSV_Files/iec104_train_test_csvs')\n",
    "dataset = f'tests_{tp}_{tm}'\n",
    "\n",
    "if 'cic' in dataset:\n",
    "    n = dataset.split('_')[-1]\n",
    "    train_csv = os.path.join(os.path.join(path, dataset), f'train_{tm}_cicflow.csv')\n",
    "    test_csv = os.path.join(os.path.join(path, dataset), f'test_{tm}_cicflow.csv')\n",
    "elif 'custom' in dataset:\n",
    "    n = dataset.split('_')\n",
    "    train_csv = os.path.join(os.path.join(path, dataset), f'train_{tm}_custom_script.csv')\n",
    "    test_csv = os.path.join(os.path.join(path, dataset), f'test_{tm}_custom_script.csv')\n",
    "else:\n",
    "    raise Exception(\"Wrong dataset\")\n",
    "\n",
    "df_train = pd.read_csv(train_csv)\n",
    "df_test = pd.read_csv(train_csv)"
   ]
  },
  {
   "cell_type": "markdown",
   "id": "1ef57df7-92d2-4cab-a454-e1e04611cb03",
   "metadata": {},
   "source": [
    "Let's perform some data exploration."
   ]
  },
  {
   "cell_type": "code",
   "execution_count": 7,
   "id": "61a1113d-69b5-43ab-986f-e954ab8db2d8",
   "metadata": {},
   "outputs": [
    {
     "name": "stdout",
     "output_type": "stream",
     "text": [
      "<class 'pandas.core.frame.DataFrame'>\n",
      "RangeIndex: 3588 entries, 0 to 3587\n",
      "Data columns (total 84 columns):\n",
      " #   Column             Non-Null Count  Dtype  \n",
      "---  ------             --------------  -----  \n",
      " 0   Flow ID            3588 non-null   object \n",
      " 1   Src IP             3588 non-null   object \n",
      " 2   Src Port           3588 non-null   int64  \n",
      " 3   Dst IP             3588 non-null   object \n",
      " 4   Dst Port           3588 non-null   int64  \n",
      " 5   Protocol           3588 non-null   int64  \n",
      " 6   Timestamp          3588 non-null   object \n",
      " 7   Flow Duration      3588 non-null   int64  \n",
      " 8   Tot Fwd Pkts       3588 non-null   int64  \n",
      " 9   Tot Bwd Pkts       3588 non-null   int64  \n",
      " 10  TotLen Fwd Pkts    3588 non-null   int64  \n",
      " 11  TotLen Bwd Pkts    3588 non-null   int64  \n",
      " 12  Fwd Pkt Len Max    3588 non-null   int64  \n",
      " 13  Fwd Pkt Len Min    3588 non-null   int64  \n",
      " 14  Fwd Pkt Len Mean   3588 non-null   float64\n",
      " 15  Fwd Pkt Len Std    3588 non-null   float64\n",
      " 16  Bwd Pkt Len Max    3588 non-null   int64  \n",
      " 17  Bwd Pkt Len Min    3588 non-null   int64  \n",
      " 18  Bwd Pkt Len Mean   3588 non-null   float64\n",
      " 19  Bwd Pkt Len Std    3588 non-null   float64\n",
      " 20  Flow Byts/s        3588 non-null   float64\n",
      " 21  Flow Pkts/s        3588 non-null   float64\n",
      " 22  Flow IAT Mean      3588 non-null   float64\n",
      " 23  Flow IAT Std       3588 non-null   float64\n",
      " 24  Flow IAT Max       3588 non-null   int64  \n",
      " 25  Flow IAT Min       3588 non-null   int64  \n",
      " 26  Fwd IAT Tot        3588 non-null   int64  \n",
      " 27  Fwd IAT Mean       3588 non-null   float64\n",
      " 28  Fwd IAT Std        3588 non-null   float64\n",
      " 29  Fwd IAT Max        3588 non-null   int64  \n",
      " 30  Fwd IAT Min        3588 non-null   int64  \n",
      " 31  Bwd IAT Tot        3588 non-null   int64  \n",
      " 32  Bwd IAT Mean       3588 non-null   float64\n",
      " 33  Bwd IAT Std        3588 non-null   float64\n",
      " 34  Bwd IAT Max        3588 non-null   int64  \n",
      " 35  Bwd IAT Min        3588 non-null   int64  \n",
      " 36  Fwd PSH Flags      3588 non-null   int64  \n",
      " 37  Bwd PSH Flags      3588 non-null   int64  \n",
      " 38  Fwd URG Flags      3588 non-null   int64  \n",
      " 39  Bwd URG Flags      3588 non-null   int64  \n",
      " 40  Fwd Header Len     3588 non-null   int64  \n",
      " 41  Bwd Header Len     3588 non-null   int64  \n",
      " 42  Fwd Pkts/s         3588 non-null   float64\n",
      " 43  Bwd Pkts/s         3588 non-null   float64\n",
      " 44  Pkt Len Min        3588 non-null   int64  \n",
      " 45  Pkt Len Max        3588 non-null   int64  \n",
      " 46  Pkt Len Mean       3588 non-null   float64\n",
      " 47  Pkt Len Std        3588 non-null   float64\n",
      " 48  Pkt Len Var        3588 non-null   float64\n",
      " 49  FIN Flag Cnt       3588 non-null   int64  \n",
      " 50  SYN Flag Cnt       3588 non-null   int64  \n",
      " 51  RST Flag Cnt       3588 non-null   int64  \n",
      " 52  PSH Flag Cnt       3588 non-null   int64  \n",
      " 53  ACK Flag Cnt       3588 non-null   int64  \n",
      " 54  URG Flag Cnt       3588 non-null   int64  \n",
      " 55  CWE Flag Count     3588 non-null   int64  \n",
      " 56  ECE Flag Cnt       3588 non-null   int64  \n",
      " 57  Down/Up Ratio      3588 non-null   int64  \n",
      " 58  Pkt Size Avg       3588 non-null   float64\n",
      " 59  Fwd Seg Size Avg   3588 non-null   float64\n",
      " 60  Bwd Seg Size Avg   3588 non-null   float64\n",
      " 61  Fwd Byts/b Avg     3588 non-null   int64  \n",
      " 62  Fwd Pkts/b Avg     3588 non-null   int64  \n",
      " 63  Fwd Blk Rate Avg   3588 non-null   int64  \n",
      " 64  Bwd Byts/b Avg     3588 non-null   int64  \n",
      " 65  Bwd Pkts/b Avg     3588 non-null   int64  \n",
      " 66  Bwd Blk Rate Avg   3588 non-null   int64  \n",
      " 67  Subflow Fwd Pkts   3588 non-null   int64  \n",
      " 68  Subflow Fwd Byts   3588 non-null   int64  \n",
      " 69  Subflow Bwd Pkts   3588 non-null   int64  \n",
      " 70  Subflow Bwd Byts   3588 non-null   int64  \n",
      " 71  Init Fwd Win Byts  3588 non-null   int64  \n",
      " 72  Init Bwd Win Byts  3588 non-null   int64  \n",
      " 73  Fwd Act Data Pkts  3588 non-null   int64  \n",
      " 74  Fwd Seg Size Min   3588 non-null   int64  \n",
      " 75  Active Mean        3588 non-null   float64\n",
      " 76  Active Std         3588 non-null   float64\n",
      " 77  Active Max         3588 non-null   int64  \n",
      " 78  Active Min         3588 non-null   int64  \n",
      " 79  Idle Mean          3588 non-null   float64\n",
      " 80  Idle Std           3588 non-null   float64\n",
      " 81  Idle Max           3588 non-null   int64  \n",
      " 82  Idle Min           3588 non-null   int64  \n",
      " 83  Label              3588 non-null   object \n",
      "dtypes: float64(24), int64(55), object(5)\n",
      "memory usage: 2.3+ MB\n"
     ]
    }
   ],
   "source": [
    "df_train.info()"
   ]
  },
  {
   "cell_type": "code",
   "execution_count": 8,
   "id": "859962a0-9629-495f-946c-25f665f6a408",
   "metadata": {},
   "outputs": [
    {
     "name": "stdout",
     "output_type": "stream",
     "text": [
      "<class 'pandas.core.frame.DataFrame'>\n",
      "RangeIndex: 3588 entries, 0 to 3587\n",
      "Data columns (total 84 columns):\n",
      " #   Column             Non-Null Count  Dtype  \n",
      "---  ------             --------------  -----  \n",
      " 0   Flow ID            3588 non-null   object \n",
      " 1   Src IP             3588 non-null   object \n",
      " 2   Src Port           3588 non-null   int64  \n",
      " 3   Dst IP             3588 non-null   object \n",
      " 4   Dst Port           3588 non-null   int64  \n",
      " 5   Protocol           3588 non-null   int64  \n",
      " 6   Timestamp          3588 non-null   object \n",
      " 7   Flow Duration      3588 non-null   int64  \n",
      " 8   Tot Fwd Pkts       3588 non-null   int64  \n",
      " 9   Tot Bwd Pkts       3588 non-null   int64  \n",
      " 10  TotLen Fwd Pkts    3588 non-null   int64  \n",
      " 11  TotLen Bwd Pkts    3588 non-null   int64  \n",
      " 12  Fwd Pkt Len Max    3588 non-null   int64  \n",
      " 13  Fwd Pkt Len Min    3588 non-null   int64  \n",
      " 14  Fwd Pkt Len Mean   3588 non-null   float64\n",
      " 15  Fwd Pkt Len Std    3588 non-null   float64\n",
      " 16  Bwd Pkt Len Max    3588 non-null   int64  \n",
      " 17  Bwd Pkt Len Min    3588 non-null   int64  \n",
      " 18  Bwd Pkt Len Mean   3588 non-null   float64\n",
      " 19  Bwd Pkt Len Std    3588 non-null   float64\n",
      " 20  Flow Byts/s        3588 non-null   float64\n",
      " 21  Flow Pkts/s        3588 non-null   float64\n",
      " 22  Flow IAT Mean      3588 non-null   float64\n",
      " 23  Flow IAT Std       3588 non-null   float64\n",
      " 24  Flow IAT Max       3588 non-null   int64  \n",
      " 25  Flow IAT Min       3588 non-null   int64  \n",
      " 26  Fwd IAT Tot        3588 non-null   int64  \n",
      " 27  Fwd IAT Mean       3588 non-null   float64\n",
      " 28  Fwd IAT Std        3588 non-null   float64\n",
      " 29  Fwd IAT Max        3588 non-null   int64  \n",
      " 30  Fwd IAT Min        3588 non-null   int64  \n",
      " 31  Bwd IAT Tot        3588 non-null   int64  \n",
      " 32  Bwd IAT Mean       3588 non-null   float64\n",
      " 33  Bwd IAT Std        3588 non-null   float64\n",
      " 34  Bwd IAT Max        3588 non-null   int64  \n",
      " 35  Bwd IAT Min        3588 non-null   int64  \n",
      " 36  Fwd PSH Flags      3588 non-null   int64  \n",
      " 37  Bwd PSH Flags      3588 non-null   int64  \n",
      " 38  Fwd URG Flags      3588 non-null   int64  \n",
      " 39  Bwd URG Flags      3588 non-null   int64  \n",
      " 40  Fwd Header Len     3588 non-null   int64  \n",
      " 41  Bwd Header Len     3588 non-null   int64  \n",
      " 42  Fwd Pkts/s         3588 non-null   float64\n",
      " 43  Bwd Pkts/s         3588 non-null   float64\n",
      " 44  Pkt Len Min        3588 non-null   int64  \n",
      " 45  Pkt Len Max        3588 non-null   int64  \n",
      " 46  Pkt Len Mean       3588 non-null   float64\n",
      " 47  Pkt Len Std        3588 non-null   float64\n",
      " 48  Pkt Len Var        3588 non-null   float64\n",
      " 49  FIN Flag Cnt       3588 non-null   int64  \n",
      " 50  SYN Flag Cnt       3588 non-null   int64  \n",
      " 51  RST Flag Cnt       3588 non-null   int64  \n",
      " 52  PSH Flag Cnt       3588 non-null   int64  \n",
      " 53  ACK Flag Cnt       3588 non-null   int64  \n",
      " 54  URG Flag Cnt       3588 non-null   int64  \n",
      " 55  CWE Flag Count     3588 non-null   int64  \n",
      " 56  ECE Flag Cnt       3588 non-null   int64  \n",
      " 57  Down/Up Ratio      3588 non-null   int64  \n",
      " 58  Pkt Size Avg       3588 non-null   float64\n",
      " 59  Fwd Seg Size Avg   3588 non-null   float64\n",
      " 60  Bwd Seg Size Avg   3588 non-null   float64\n",
      " 61  Fwd Byts/b Avg     3588 non-null   int64  \n",
      " 62  Fwd Pkts/b Avg     3588 non-null   int64  \n",
      " 63  Fwd Blk Rate Avg   3588 non-null   int64  \n",
      " 64  Bwd Byts/b Avg     3588 non-null   int64  \n",
      " 65  Bwd Pkts/b Avg     3588 non-null   int64  \n",
      " 66  Bwd Blk Rate Avg   3588 non-null   int64  \n",
      " 67  Subflow Fwd Pkts   3588 non-null   int64  \n",
      " 68  Subflow Fwd Byts   3588 non-null   int64  \n",
      " 69  Subflow Bwd Pkts   3588 non-null   int64  \n",
      " 70  Subflow Bwd Byts   3588 non-null   int64  \n",
      " 71  Init Fwd Win Byts  3588 non-null   int64  \n",
      " 72  Init Bwd Win Byts  3588 non-null   int64  \n",
      " 73  Fwd Act Data Pkts  3588 non-null   int64  \n",
      " 74  Fwd Seg Size Min   3588 non-null   int64  \n",
      " 75  Active Mean        3588 non-null   float64\n",
      " 76  Active Std         3588 non-null   float64\n",
      " 77  Active Max         3588 non-null   int64  \n",
      " 78  Active Min         3588 non-null   int64  \n",
      " 79  Idle Mean          3588 non-null   float64\n",
      " 80  Idle Std           3588 non-null   float64\n",
      " 81  Idle Max           3588 non-null   int64  \n",
      " 82  Idle Min           3588 non-null   int64  \n",
      " 83  Label              3588 non-null   object \n",
      "dtypes: float64(24), int64(55), object(5)\n",
      "memory usage: 2.3+ MB\n"
     ]
    }
   ],
   "source": [
    "df_test.info()"
   ]
  },
  {
   "cell_type": "markdown",
   "id": "fcc35f5f-dbc5-4c54-977e-cc1d33a40b4c",
   "metadata": {},
   "source": [
    "As a preprocessing step, we transorm the \"Label\" feature from string to categorical and then to numeric."
   ]
  },
  {
   "cell_type": "code",
   "execution_count": 9,
   "id": "a53d332f-4536-42fe-9a0d-4a91012f8232",
   "metadata": {},
   "outputs": [],
   "source": [
    "df_train['Label'] = df_train['Label'].str.lower()\n",
    "df_test['Label'] = df_test['Label'].str.lower()\n",
    "\n",
    "unique_labels = list(df_train.Label.astype('category').unique())\n",
    "unique_codes = list(df_train.Label.astype('category').cat.codes.unique())\n",
    "\n",
    "mapping = dict(zip(unique_labels, unique_codes))\n",
    "mapping_inv = dict(zip(unique_codes, unique_labels))"
   ]
  },
  {
   "cell_type": "code",
   "execution_count": 10,
   "id": "a7e4857d-1a9d-4e69-b0d5-02a6c3840875",
   "metadata": {},
   "outputs": [
    {
     "data": {
      "text/plain": [
       "{'normal': 11,\n",
       " 'c_ci_na_1': 0,\n",
       " 'c_ci_na_1_dos': 1,\n",
       " 'c_rd_na_1': 2,\n",
       " 'c_rd_na_1_dos': 3,\n",
       " 'c_rp_na_1': 4,\n",
       " 'c_rp_na_1_dos': 5,\n",
       " 'c_sc_na_1': 6,\n",
       " 'c_sc_na_1_dos': 7,\n",
       " 'c_se_na_1': 8,\n",
       " 'c_se_na_1_dos': 9,\n",
       " 'm_sp_na_1_dos': 10}"
      ]
     },
     "execution_count": 10,
     "metadata": {},
     "output_type": "execute_result"
    }
   ],
   "source": [
    "mapping"
   ]
  },
  {
   "cell_type": "code",
   "execution_count": 11,
   "id": "6742ef54-dfde-4163-a5a8-ce77ce96d0e9",
   "metadata": {},
   "outputs": [],
   "source": [
    "df_train['Label'] = df_train['Label'].astype('category').cat.rename_categories(mapping)\n",
    "df_test['Label'] = df_test['Label'].astype('category').cat.rename_categories(mapping)"
   ]
  },
  {
   "cell_type": "markdown",
   "id": "7edd853c-a1c3-404a-93d5-6a7a82dcb377",
   "metadata": {},
   "source": [
    "Now, we remove the features which can not contribute in training a ML model."
   ]
  },
  {
   "cell_type": "code",
   "execution_count": 12,
   "id": "d6724255-5c6e-4e88-8712-ed65cc2816df",
   "metadata": {},
   "outputs": [],
   "source": [
    "if tp == 'cic':\n",
    "    train = df_train.iloc[:,7:]\n",
    "    test = df_test.iloc[:,7:]\n",
    "else:\n",
    "    train = df_train\n",
    "    test = df_test"
   ]
  },
  {
   "cell_type": "markdown",
   "id": "21e7b4f4-891e-452f-ac11-6ca09d1b3a79",
   "metadata": {},
   "source": [
    "We rename the \"Label\" column to \"y\"."
   ]
  },
  {
   "cell_type": "code",
   "execution_count": 13,
   "id": "0c909bee-4500-4753-90dc-80c37695c0f5",
   "metadata": {},
   "outputs": [],
   "source": [
    "train.rename(columns={\"Label\": \"y\"}, inplace=True, errors=\"raise\")\n",
    "test.rename(columns={\"Label\": \"y\"}, inplace=True, errors=\"raise\")"
   ]
  },
  {
   "cell_type": "markdown",
   "id": "daf2cc94-839b-49d1-a588-b38f7bafd1dd",
   "metadata": {},
   "source": [
    "We drop Inf and NaN values both in the training and in test feature data."
   ]
  },
  {
   "cell_type": "code",
   "execution_count": 14,
   "id": "cc5d3627-cf4f-4882-987c-a6b74fda51f9",
   "metadata": {},
   "outputs": [],
   "source": [
    "# Replace Inf values with NaN\n",
    "train.replace([np.inf, -np.inf], np.nan, inplace=True)\n",
    "test.replace([np.inf, -np.inf], np.nan, inplace=True)\n",
    "\n",
    "# Drop rows with NaN values\n",
    "train.dropna(inplace=True)\n",
    "test.dropna(inplace=True)"
   ]
  },
  {
   "cell_type": "markdown",
   "id": "ae1c91e7-2bd0-4d4c-8498-edbf3bcd59bd",
   "metadata": {},
   "source": [
    "We store the modified datasets into new local CSV files for future use and model evaluation."
   ]
  },
  {
   "cell_type": "code",
   "execution_count": 15,
   "id": "d919d458-a25f-4da3-af63-1b0caed8f5f7",
   "metadata": {},
   "outputs": [],
   "source": [
    "directory = os.path.join(base_data_dir, 'federated_datasets')\n",
    "\n",
    "try:\n",
    "    os.makedirs(directory)\n",
    "    train.to_csv(os.path.join(directory, 'train_data.csv'), index=False)\n",
    "    test.to_csv(os.path.join(directory, 'test_data.csv'), index=False)\n",
    "except OSError as e:\n",
    "    if e.errno != errno.EEXIST:\n",
    "        raise\n",
    "    else:   \n",
    "        train.to_csv(os.path.join(directory, 'train_data.csv'), index=False)\n",
    "        test.to_csv(os.path.join(directory, 'test_data.csv'), index=False)"
   ]
  },
  {
   "cell_type": "markdown",
   "id": "695bb658-206d-4cbd-954a-edb49b44d11b",
   "metadata": {},
   "source": [
    "Each worker will be assigned a subset of the dataset with $\\lfloor {M \\over N} \\rfloor$ data points.\n",
    "\n",
    "Each worker data is stored as a seperate CSV file with the proper naming scheme."
   ]
  },
  {
   "cell_type": "code",
   "execution_count": 16,
   "id": "cff97f6f-42ba-4525-9157-4693c6f3663f",
   "metadata": {},
   "outputs": [],
   "source": [
    "n_samples = int(train.shape[0] / n_workers)\n",
    "\n",
    "assert type(n_workers) == int, \"Non-int number of workers\"\n",
    "assert n_workers >= 3 and n_workers <= df_train.shape[0], \"At least 3 workers and at most as many workers as the number of samples are allowed\"\n",
    "assert n_samples > 0, \"Each worker must be assigned at least one data point\""
   ]
  },
  {
   "cell_type": "markdown",
   "id": "35dc41bd-07c1-4176-86c6-1737061ef93e",
   "metadata": {},
   "source": [
    "Each worker's training data is stored as a seperate CSV file with the proper naming and data format schemes."
   ]
  },
  {
   "cell_type": "code",
   "execution_count": 17,
   "id": "f7ff7dcb-9ae2-4c44-9458-efc3616d2cde",
   "metadata": {},
   "outputs": [],
   "source": [
    "client_data = []\n",
    "train_copy = train.copy()\n",
    "\n",
    "for i in range(n_workers):\n",
    "    sample = train_copy.sample(n=n_samples)\n",
    "    sample.to_csv(os.path.join(directory, f'client_train_data_{i+1}.csv'), index=False)\n",
    "    train_copy.drop(index=sample.index, inplace=True)\n",
    "    client_data.append(sample)"
   ]
  },
  {
   "cell_type": "markdown",
   "id": "d3041faf-16e5-4c15-86cf-743821a7cb4b",
   "metadata": {},
   "source": [
    "Let's check the number of points in each straggler's training data."
   ]
  },
  {
   "cell_type": "code",
   "execution_count": 18,
   "id": "c3346012-6bf9-4879-80b9-f46f890dfb72",
   "metadata": {},
   "outputs": [
    {
     "name": "stdout",
     "output_type": "stream",
     "text": [
      "Worker 1 training data contains 1196 points\n",
      "Worker 2 training data contains 1196 points\n",
      "Worker 3 training data contains 1196 points\n"
     ]
    }
   ],
   "source": [
    "for i in range(n_workers):\n",
    "    print(f\"Worker {i+1} training data contains {len(client_data[i])} points\")"
   ]
  },
  {
   "cell_type": "markdown",
   "id": "24226028-58fd-4da0-a83b-571e779910fa",
   "metadata": {},
   "source": [
    "Let's perform some statistical analysis on the difference in the number of samples for each digit in each client dataset."
   ]
  },
  {
   "cell_type": "code",
   "execution_count": 19,
   "id": "726964a7-87c4-4001-ac17-2fcaa73dfe3c",
   "metadata": {},
   "outputs": [
    {
     "data": {
      "image/png": "[encoded data removed]",
      "text/plain": [
       "<Figure size 2000x700 with 3 Axes>"
      ]
     },
     "metadata": {},
     "output_type": "display_data"
    }
   ],
   "source": [
    "# Number of examples per layer for a sample of clients\n",
    "fig = plt.figure(figsize=(20, 7))\n",
    "fig.suptitle('Label Counts for a Sample of Worker Data')\n",
    "fig.tight_layout()\n",
    "\n",
    "for i in range(n_workers):\n",
    "    m = 0\n",
    "    plot_data = collections.defaultdict(list)\n",
    "    sample = client_data[i]\n",
    "    for label in sample['y']:\n",
    "        # Append counts individually per label to make plots\n",
    "        # more colorful instead of one color per plot.\n",
    "        plot_data[label].append(label)\n",
    "        m = max(m, len(plot_data[label]))\n",
    "    \n",
    "    n_cols = n_workers if n_workers < 5 else 5\n",
    "    xlim = [0, m+(20-m%20)]\n",
    "    ylim = [min(unique_codes)-1, max(unique_codes)+1]\n",
    "    yticks = list(range(min(unique_codes), max(unique_codes)+1))\n",
    "    yticks_labels = [mapping_inv[k] for k in range(0, max(unique_codes)+1)]\n",
    "    \n",
    "    plt.subplot(int(n_workers / 5)+1, n_cols, i+1)\n",
    "    plt.subplots_adjust(wspace=0.3)\n",
    "    plt.title('Worker {}'.format(i+1))\n",
    "    plt.xlabel('#points')\n",
    "    plt.xlim(xlim)\n",
    "    # plt.ylabel('Label')\n",
    "    plt.ylim(ylim)\n",
    "    plt.yticks(yticks, labels=yticks_labels)\n",
    "    \n",
    "    # plot values on top of bars\n",
    "    for key in plot_data:\n",
    "        if len(plot_data[key]) > 0:\n",
    "            plt.text(len(plot_data[key])+4, int(key)-0.1, str(len(plot_data[key])), ha='center')\n",
    "    \n",
    "    for j in range(min(unique_codes),max(unique_codes)+1):\n",
    "        plt.hist(\n",
    "            plot_data[j],\n",
    "            density=False,\n",
    "            bins=[k-0.5 for k in range(min(unique_codes),max(unique_codes)+2)],\n",
    "            orientation='horizontal'\n",
    "        )"
   ]
  },
  {
   "cell_type": "markdown",
   "id": "6bd712f9-4e9f-45a4-bb27-935e0eab0e7a",
   "metadata": {
    "id": "8Lq8r5uaT2rB",
    "tags": []
   },
   "source": [
    "### Launch $N=3$ Flower FL workers as Docker Containers locally using the **docker-compose.yaml**\n",
    "\n",
    "```\n",
    "docker-compose -f ./docker-compose.yaml up --scale flwr_c=3\n",
    "```"
   ]
  },
  {
   "cell_type": "markdown",
   "id": "81051f3d-f18c-4ff6-bdad-5061ecdfda63",
   "metadata": {},
   "source": [
    "## Centralized model"
   ]
  },
  {
   "cell_type": "markdown",
   "id": "b08c9ffe-ed35-4138-802a-a4d235564508",
   "metadata": {},
   "source": [
    "Let's train a centralized IDS model to use as a baseline model for evaluation reference."
   ]
  },
  {
   "cell_type": "code",
   "execution_count": 20,
   "id": "e8024ec9-e29b-4ab6-bb74-6bd2415edc45",
   "metadata": {},
   "outputs": [
    {
     "name": "stderr",
     "output_type": "stream",
     "text": [
      "2024-04-29 16:46:54.134814: I tensorflow/core/util/port.cc:111] oneDNN custom operations are on. You may see slightly different numerical results due to floating-point round-off errors from different computation orders. To turn them off, set the environment variable `TF_ENABLE_ONEDNN_OPTS=0`.\n",
      "2024-04-29 16:46:54.152519: I tensorflow/core/platform/cpu_feature_guard.cc:182] This TensorFlow binary is optimized to use available CPU instructions in performance-critical operations.\n",
      "To enable the following instructions: AVX2 AVX_VNNI FMA, in other operations, rebuild TensorFlow with the appropriate compiler flags.\n"
     ]
    }
   ],
   "source": [
    "import tensorflow as tf\n",
    "from tensorflow.keras.callbacks import EarlyStopping\n",
    "from tensorflow.keras.utils import to_categorical\n",
    "\n",
    "from sklearn.metrics import f1_score\n",
    "from sklearn.preprocessing import StandardScaler"
   ]
  },
  {
   "cell_type": "markdown",
   "id": "6276e4a1-b243-437b-afa6-f593e0ee884f",
   "metadata": {},
   "source": [
    "We have to scale the data to avoid huge value deviations."
   ]
  },
  {
   "cell_type": "code",
   "execution_count": 21,
   "id": "127b667d-77f6-482b-aae5-d800adca0d3e",
   "metadata": {},
   "outputs": [],
   "source": [
    "scaler = StandardScaler()"
   ]
  },
  {
   "cell_type": "code",
   "execution_count": 22,
   "id": "c7b08368-e074-4150-8515-fe1bd8c7a1bd",
   "metadata": {},
   "outputs": [],
   "source": [
    "X_train = scaler.fit_transform(train.drop(['y'], axis=1).to_numpy())\n",
    "y_train = train['y'].to_numpy()\n",
    "X_test = scaler.transform(test.drop(['y'], axis=1).to_numpy())\n",
    "y_test = test['y'].to_numpy()"
   ]
  },
  {
   "cell_type": "markdown",
   "id": "ee7d0089-c292-43bd-85ac-91c9621642b1",
   "metadata": {},
   "source": [
    "Then, we are better off using one-hot-vectors than scalars for the label representation."
   ]
  },
  {
   "cell_type": "code",
   "execution_count": 23,
   "id": "d5753b11-863c-42be-a424-c4fd2012ee2b",
   "metadata": {},
   "outputs": [],
   "source": [
    "y_train_cat = to_categorical(y_train)\n",
    "y_test_cat = to_categorical(y_test)"
   ]
  },
  {
   "cell_type": "markdown",
   "id": "85d0f318-4542-4b2f-bf8b-1e123e9a26f4",
   "metadata": {},
   "source": [
    "We define a MLP model with one hidden layer."
   ]
  },
  {
   "cell_type": "code",
   "execution_count": 25,
   "id": "529f5022-2c19-4d4e-950a-2bb014b87a0f",
   "metadata": {},
   "outputs": [],
   "source": [
    "model = tf.keras.models.Sequential([\n",
    "    tf.keras.layers.InputLayer(input_shape=(X_train.shape[1],)),\n",
    "    tf.keras.layers.Dense(units=50, activation='relu'),\n",
    "    tf.keras.layers.Dropout(0.2),\n",
    "    tf.keras.layers.Dense(units=y_train_cat.shape[1], activation='softmax')\n",
    "])\n",
    "\n",
    "model.compile(loss='categorical_crossentropy', optimizer='adam', metrics=['accuracy'])"
   ]
  },
  {
   "cell_type": "markdown",
   "id": "954ad825-66c2-4d04-a2c1-a7c5a9161478",
   "metadata": {},
   "source": [
    "We use early stopping monitoring the validation loss to avoid overfitting."
   ]
  },
  {
   "cell_type": "code",
   "execution_count": 26,
   "id": "b7baafac-cbb7-425f-b70f-55f6bb2302a6",
   "metadata": {},
   "outputs": [],
   "source": [
    "early_stop = EarlyStopping(monitor='val_loss', mode='min', verbose=1, patience=20)"
   ]
  },
  {
   "cell_type": "markdown",
   "id": "545fff1a-5ce8-45ad-8729-b87ddee56e66",
   "metadata": {},
   "source": [
    "Let's train the model."
   ]
  },
  {
   "cell_type": "code",
   "execution_count": 28,
   "id": "678d1c40-6a87-4906-8996-fa38ad442695",
   "metadata": {},
   "outputs": [
    {
     "name": "stdout",
     "output_type": "stream",
     "text": [
      "Epoch 1/300\n",
      "57/57 [==============================] - 1s 4ms/step - loss: 2.2518 - accuracy: 0.2475 - val_loss: 1.8757 - val_accuracy: 0.3487\n",
      "Epoch 2/300\n",
      "57/57 [==============================] - 0s 3ms/step - loss: 1.8068 - accuracy: 0.3579 - val_loss: 1.6816 - val_accuracy: 0.3701\n",
      "Epoch 3/300\n",
      "57/57 [==============================] - 0s 3ms/step - loss: 1.6533 - accuracy: 0.3899 - val_loss: 1.5405 - val_accuracy: 0.4799\n",
      "Epoch 4/300\n",
      "57/57 [==============================] - 0s 2ms/step - loss: 1.5396 - accuracy: 0.4378 - val_loss: 1.4386 - val_accuracy: 0.5106\n",
      "Epoch 5/300\n",
      "57/57 [==============================] - 0s 3ms/step - loss: 1.4541 - accuracy: 0.4440 - val_loss: 1.3612 - val_accuracy: 0.5295\n",
      "Epoch 6/300\n",
      "57/57 [==============================] - 0s 3ms/step - loss: 1.3838 - accuracy: 0.4827 - val_loss: 1.3000 - val_accuracy: 0.5368\n",
      "Epoch 7/300\n",
      "57/57 [==============================] - 0s 3ms/step - loss: 1.3332 - accuracy: 0.4958 - val_loss: 1.2537 - val_accuracy: 0.5424\n",
      "Epoch 8/300\n",
      "57/57 [==============================] - 0s 2ms/step - loss: 1.2988 - accuracy: 0.4847 - val_loss: 1.2131 - val_accuracy: 0.5390\n",
      "Epoch 9/300\n",
      "57/57 [==============================] - 0s 5ms/step - loss: 1.2510 - accuracy: 0.5095 - val_loss: 1.1786 - val_accuracy: 0.5452\n",
      "Epoch 10/300\n",
      "57/57 [==============================] - 0s 4ms/step - loss: 1.2372 - accuracy: 0.5014 - val_loss: 1.1520 - val_accuracy: 0.5424\n",
      "Epoch 11/300\n",
      "57/57 [==============================] - 0s 3ms/step - loss: 1.2012 - accuracy: 0.5209 - val_loss: 1.1284 - val_accuracy: 0.5446\n",
      "Epoch 12/300\n",
      "57/57 [==============================] - 0s 3ms/step - loss: 1.1703 - accuracy: 0.5181 - val_loss: 1.1060 - val_accuracy: 0.5443\n",
      "Epoch 13/300\n",
      "57/57 [==============================] - 0s 3ms/step - loss: 1.1558 - accuracy: 0.5134 - val_loss: 1.0866 - val_accuracy: 0.5493\n",
      "Epoch 14/300\n",
      "57/57 [==============================] - 0s 2ms/step - loss: 1.1335 - accuracy: 0.5279 - val_loss: 1.0707 - val_accuracy: 0.5513\n",
      "Epoch 15/300\n",
      "57/57 [==============================] - 0s 2ms/step - loss: 1.1200 - accuracy: 0.5170 - val_loss: 1.0564 - val_accuracy: 0.5452\n",
      "Epoch 16/300\n",
      "57/57 [==============================] - 0s 4ms/step - loss: 1.1067 - accuracy: 0.5242 - val_loss: 1.0444 - val_accuracy: 0.5485\n",
      "Epoch 17/300\n",
      "57/57 [==============================] - 0s 3ms/step - loss: 1.0934 - accuracy: 0.5206 - val_loss: 1.0315 - val_accuracy: 0.5516\n",
      "Epoch 18/300\n",
      "57/57 [==============================] - 0s 3ms/step - loss: 1.0840 - accuracy: 0.5295 - val_loss: 1.0213 - val_accuracy: 0.5535\n",
      "Epoch 19/300\n",
      "57/57 [==============================] - 0s 3ms/step - loss: 1.0690 - accuracy: 0.5337 - val_loss: 1.0118 - val_accuracy: 0.5596\n",
      "Epoch 20/300\n",
      "57/57 [==============================] - 0s 3ms/step - loss: 1.0547 - accuracy: 0.5273 - val_loss: 1.0030 - val_accuracy: 0.5577\n",
      "Epoch 21/300\n",
      "57/57 [==============================] - 0s 2ms/step - loss: 1.0521 - accuracy: 0.5265 - val_loss: 0.9933 - val_accuracy: 0.5610\n",
      "Epoch 22/300\n",
      "57/57 [==============================] - 0s 2ms/step - loss: 1.0391 - accuracy: 0.5393 - val_loss: 0.9858 - val_accuracy: 0.5616\n",
      "Epoch 23/300\n",
      "57/57 [==============================] - 0s 2ms/step - loss: 1.0270 - accuracy: 0.5435 - val_loss: 0.9794 - val_accuracy: 0.5574\n",
      "Epoch 24/300\n",
      "57/57 [==============================] - 0s 2ms/step - loss: 1.0200 - accuracy: 0.5287 - val_loss: 0.9728 - val_accuracy: 0.5491\n",
      "Epoch 25/300\n",
      "57/57 [==============================] - 0s 2ms/step - loss: 1.0186 - accuracy: 0.5438 - val_loss: 0.9650 - val_accuracy: 0.5624\n",
      "Epoch 26/300\n",
      "57/57 [==============================] - 0s 2ms/step - loss: 1.0118 - accuracy: 0.5424 - val_loss: 0.9588 - val_accuracy: 0.5560\n",
      "Epoch 27/300\n",
      "57/57 [==============================] - 0s 4ms/step - loss: 1.0032 - accuracy: 0.5429 - val_loss: 0.9524 - val_accuracy: 0.5630\n",
      "Epoch 28/300\n",
      "57/57 [==============================] - 0s 3ms/step - loss: 0.9936 - accuracy: 0.5421 - val_loss: 0.9473 - val_accuracy: 0.5655\n",
      "Epoch 29/300\n",
      "57/57 [==============================] - 0s 2ms/step - loss: 0.9900 - accuracy: 0.5491 - val_loss: 0.9421 - val_accuracy: 0.5622\n",
      "Epoch 30/300\n",
      "57/57 [==============================] - 0s 2ms/step - loss: 0.9819 - accuracy: 0.5535 - val_loss: 0.9367 - val_accuracy: 0.5686\n",
      "Epoch 31/300\n",
      "57/57 [==============================] - 0s 3ms/step - loss: 0.9763 - accuracy: 0.5535 - val_loss: 0.9300 - val_accuracy: 0.5686\n",
      "Epoch 32/300\n",
      "57/57 [==============================] - 0s 2ms/step - loss: 0.9718 - accuracy: 0.5435 - val_loss: 0.9264 - val_accuracy: 0.5608\n",
      "Epoch 33/300\n",
      "57/57 [==============================] - 0s 3ms/step - loss: 0.9730 - accuracy: 0.5446 - val_loss: 0.9203 - val_accuracy: 0.5792\n",
      "Epoch 34/300\n",
      "57/57 [==============================] - 0s 3ms/step - loss: 0.9603 - accuracy: 0.5543 - val_loss: 0.9164 - val_accuracy: 0.5633\n",
      "Epoch 35/300\n",
      "57/57 [==============================] - 0s 3ms/step - loss: 0.9646 - accuracy: 0.5399 - val_loss: 0.9123 - val_accuracy: 0.5722\n",
      "Epoch 36/300\n",
      "57/57 [==============================] - 0s 3ms/step - loss: 0.9522 - accuracy: 0.5502 - val_loss: 0.9076 - val_accuracy: 0.5758\n",
      "Epoch 37/300\n",
      "57/57 [==============================] - 0s 3ms/step - loss: 0.9509 - accuracy: 0.5527 - val_loss: 0.9028 - val_accuracy: 0.5744\n",
      "Epoch 38/300\n",
      "57/57 [==============================] - 0s 3ms/step - loss: 0.9427 - accuracy: 0.5412 - val_loss: 0.8999 - val_accuracy: 0.5744\n",
      "Epoch 39/300\n",
      "57/57 [==============================] - 0s 3ms/step - loss: 0.9380 - accuracy: 0.5432 - val_loss: 0.8954 - val_accuracy: 0.5702\n",
      "Epoch 40/300\n",
      "57/57 [==============================] - 0s 2ms/step - loss: 0.9355 - accuracy: 0.5513 - val_loss: 0.8916 - val_accuracy: 0.5775\n",
      "Epoch 41/300\n",
      "57/57 [==============================] - 0s 3ms/step - loss: 0.9318 - accuracy: 0.5549 - val_loss: 0.8881 - val_accuracy: 0.5825\n",
      "Epoch 42/300\n",
      "57/57 [==============================] - 0s 2ms/step - loss: 0.9217 - accuracy: 0.5644 - val_loss: 0.8839 - val_accuracy: 0.5747\n",
      "Epoch 43/300\n",
      "57/57 [==============================] - 0s 2ms/step - loss: 0.9271 - accuracy: 0.5582 - val_loss: 0.8824 - val_accuracy: 0.5775\n",
      "Epoch 44/300\n",
      "57/57 [==============================] - 0s 2ms/step - loss: 0.9204 - accuracy: 0.5655 - val_loss: 0.8799 - val_accuracy: 0.5739\n",
      "Epoch 45/300\n",
      "57/57 [==============================] - 0s 2ms/step - loss: 0.9234 - accuracy: 0.5602 - val_loss: 0.8761 - val_accuracy: 0.5847\n",
      "Epoch 46/300\n",
      "57/57 [==============================] - 0s 2ms/step - loss: 0.9229 - accuracy: 0.5535 - val_loss: 0.8739 - val_accuracy: 0.5811\n",
      "Epoch 47/300\n",
      "57/57 [==============================] - 0s 3ms/step - loss: 0.9136 - accuracy: 0.5585 - val_loss: 0.8721 - val_accuracy: 0.5794\n",
      "Epoch 48/300\n",
      "57/57 [==============================] - 0s 2ms/step - loss: 0.9124 - accuracy: 0.5700 - val_loss: 0.8685 - val_accuracy: 0.5833\n",
      "Epoch 49/300\n",
      "57/57 [==============================] - 0s 3ms/step - loss: 0.9083 - accuracy: 0.5647 - val_loss: 0.8663 - val_accuracy: 0.5897\n",
      "Epoch 50/300\n",
      "57/57 [==============================] - 0s 3ms/step - loss: 0.9045 - accuracy: 0.5588 - val_loss: 0.8651 - val_accuracy: 0.5822\n",
      "Epoch 51/300\n",
      "57/57 [==============================] - 0s 2ms/step - loss: 0.9062 - accuracy: 0.5694 - val_loss: 0.8620 - val_accuracy: 0.5884\n",
      "Epoch 52/300\n",
      "57/57 [==============================] - 0s 2ms/step - loss: 0.8983 - accuracy: 0.5594 - val_loss: 0.8600 - val_accuracy: 0.5856\n",
      "Epoch 53/300\n",
      "57/57 [==============================] - 0s 4ms/step - loss: 0.8954 - accuracy: 0.5638 - val_loss: 0.8577 - val_accuracy: 0.5814\n",
      "Epoch 54/300\n",
      "57/57 [==============================] - 0s 2ms/step - loss: 0.8946 - accuracy: 0.5610 - val_loss: 0.8560 - val_accuracy: 0.5928\n",
      "Epoch 55/300\n",
      "57/57 [==============================] - 0s 3ms/step - loss: 0.8901 - accuracy: 0.5683 - val_loss: 0.8549 - val_accuracy: 0.5909\n",
      "Epoch 56/300\n",
      "57/57 [==============================] - 0s 3ms/step - loss: 0.8919 - accuracy: 0.5688 - val_loss: 0.8530 - val_accuracy: 0.5945\n",
      "Epoch 57/300\n",
      "57/57 [==============================] - 0s 3ms/step - loss: 0.8851 - accuracy: 0.5686 - val_loss: 0.8514 - val_accuracy: 0.5864\n",
      "Epoch 58/300\n",
      "57/57 [==============================] - 0s 3ms/step - loss: 0.8822 - accuracy: 0.5716 - val_loss: 0.8500 - val_accuracy: 0.5839\n",
      "Epoch 59/300\n",
      "57/57 [==============================] - 0s 2ms/step - loss: 0.8807 - accuracy: 0.5747 - val_loss: 0.8483 - val_accuracy: 0.5920\n",
      "Epoch 60/300\n",
      "57/57 [==============================] - 0s 2ms/step - loss: 0.8872 - accuracy: 0.5649 - val_loss: 0.8475 - val_accuracy: 0.5923\n",
      "Epoch 61/300\n",
      "57/57 [==============================] - 0s 2ms/step - loss: 0.8849 - accuracy: 0.5680 - val_loss: 0.8482 - val_accuracy: 0.5900\n",
      "Epoch 62/300\n",
      "57/57 [==============================] - 0s 3ms/step - loss: 0.8745 - accuracy: 0.5733 - val_loss: 0.8457 - val_accuracy: 0.5895\n",
      "Epoch 63/300\n",
      "57/57 [==============================] - 0s 3ms/step - loss: 0.8862 - accuracy: 0.5674 - val_loss: 0.8434 - val_accuracy: 0.5870\n",
      "Epoch 64/300\n",
      "57/57 [==============================] - 0s 3ms/step - loss: 0.8757 - accuracy: 0.5766 - val_loss: 0.8422 - val_accuracy: 0.5856\n",
      "Epoch 65/300\n",
      "57/57 [==============================] - 0s 3ms/step - loss: 0.8808 - accuracy: 0.5736 - val_loss: 0.8409 - val_accuracy: 0.5903\n",
      "Epoch 66/300\n",
      "57/57 [==============================] - 0s 4ms/step - loss: 0.8755 - accuracy: 0.5758 - val_loss: 0.8393 - val_accuracy: 0.5934\n",
      "Epoch 67/300\n",
      "57/57 [==============================] - 0s 3ms/step - loss: 0.8736 - accuracy: 0.5778 - val_loss: 0.8394 - val_accuracy: 0.5920\n",
      "Epoch 68/300\n",
      "57/57 [==============================] - 0s 3ms/step - loss: 0.8757 - accuracy: 0.5778 - val_loss: 0.8378 - val_accuracy: 0.6006\n",
      "Epoch 69/300\n",
      "57/57 [==============================] - 0s 3ms/step - loss: 0.8766 - accuracy: 0.5741 - val_loss: 0.8357 - val_accuracy: 0.5881\n",
      "Epoch 70/300\n",
      "57/57 [==============================] - 0s 4ms/step - loss: 0.8771 - accuracy: 0.5800 - val_loss: 0.8348 - val_accuracy: 0.5967\n",
      "Epoch 71/300\n",
      "57/57 [==============================] - 0s 3ms/step - loss: 0.8762 - accuracy: 0.5744 - val_loss: 0.8349 - val_accuracy: 0.5987\n",
      "Epoch 72/300\n",
      "57/57 [==============================] - 0s 3ms/step - loss: 0.8706 - accuracy: 0.5755 - val_loss: 0.8341 - val_accuracy: 0.5925\n",
      "Epoch 73/300\n",
      "57/57 [==============================] - 0s 3ms/step - loss: 0.8725 - accuracy: 0.5792 - val_loss: 0.8327 - val_accuracy: 0.5978\n",
      "Epoch 74/300\n",
      "57/57 [==============================] - 0s 3ms/step - loss: 0.8646 - accuracy: 0.5764 - val_loss: 0.8311 - val_accuracy: 0.5984\n",
      "Epoch 75/300\n",
      "57/57 [==============================] - 0s 2ms/step - loss: 0.8673 - accuracy: 0.5833 - val_loss: 0.8307 - val_accuracy: 0.6012\n",
      "Epoch 76/300\n",
      "57/57 [==============================] - 0s 2ms/step - loss: 0.8696 - accuracy: 0.5797 - val_loss: 0.8293 - val_accuracy: 0.5953\n",
      "Epoch 77/300\n",
      "57/57 [==============================] - 0s 2ms/step - loss: 0.8576 - accuracy: 0.5805 - val_loss: 0.8266 - val_accuracy: 0.5967\n",
      "Epoch 78/300\n",
      "57/57 [==============================] - 0s 3ms/step - loss: 0.8647 - accuracy: 0.5953 - val_loss: 0.8251 - val_accuracy: 0.5995\n",
      "Epoch 79/300\n",
      "57/57 [==============================] - 0s 2ms/step - loss: 0.8660 - accuracy: 0.5747 - val_loss: 0.8250 - val_accuracy: 0.6001\n",
      "Epoch 80/300\n",
      "57/57 [==============================] - 0s 2ms/step - loss: 0.8662 - accuracy: 0.5775 - val_loss: 0.8255 - val_accuracy: 0.5925\n",
      "Epoch 81/300\n",
      "57/57 [==============================] - 0s 3ms/step - loss: 0.8599 - accuracy: 0.5708 - val_loss: 0.8260 - val_accuracy: 0.5989\n",
      "Epoch 82/300\n",
      "57/57 [==============================] - 0s 3ms/step - loss: 0.8616 - accuracy: 0.5831 - val_loss: 0.8250 - val_accuracy: 0.5909\n",
      "Epoch 83/300\n",
      "57/57 [==============================] - 0s 3ms/step - loss: 0.8525 - accuracy: 0.5700 - val_loss: 0.8236 - val_accuracy: 0.6026\n",
      "Epoch 84/300\n",
      "57/57 [==============================] - 0s 2ms/step - loss: 0.8591 - accuracy: 0.5794 - val_loss: 0.8221 - val_accuracy: 0.6045\n",
      "Epoch 85/300\n",
      "57/57 [==============================] - 0s 3ms/step - loss: 0.8529 - accuracy: 0.5775 - val_loss: 0.8209 - val_accuracy: 0.6065\n",
      "Epoch 86/300\n",
      "57/57 [==============================] - 0s 3ms/step - loss: 0.8533 - accuracy: 0.5811 - val_loss: 0.8203 - val_accuracy: 0.6040\n",
      "Epoch 87/300\n",
      "57/57 [==============================] - 0s 3ms/step - loss: 0.8655 - accuracy: 0.5769 - val_loss: 0.8204 - val_accuracy: 0.6031\n",
      "Epoch 88/300\n",
      "57/57 [==============================] - 0s 3ms/step - loss: 0.8571 - accuracy: 0.5794 - val_loss: 0.8189 - val_accuracy: 0.5897\n",
      "Epoch 89/300\n",
      "57/57 [==============================] - 0s 3ms/step - loss: 0.8545 - accuracy: 0.5822 - val_loss: 0.8195 - val_accuracy: 0.6051\n",
      "Epoch 90/300\n",
      "57/57 [==============================] - 0s 2ms/step - loss: 0.8548 - accuracy: 0.5817 - val_loss: 0.8181 - val_accuracy: 0.6017\n",
      "Epoch 91/300\n",
      "57/57 [==============================] - 0s 3ms/step - loss: 0.8468 - accuracy: 0.5758 - val_loss: 0.8165 - val_accuracy: 0.5998\n",
      "Epoch 92/300\n",
      "57/57 [==============================] - 0s 3ms/step - loss: 0.8550 - accuracy: 0.5814 - val_loss: 0.8165 - val_accuracy: 0.6065\n",
      "Epoch 93/300\n",
      "57/57 [==============================] - 0s 3ms/step - loss: 0.8596 - accuracy: 0.5753 - val_loss: 0.8164 - val_accuracy: 0.6026\n",
      "Epoch 94/300\n",
      "57/57 [==============================] - 0s 2ms/step - loss: 0.8485 - accuracy: 0.5780 - val_loss: 0.8162 - val_accuracy: 0.5981\n",
      "Epoch 95/300\n",
      "57/57 [==============================] - 0s 3ms/step - loss: 0.8492 - accuracy: 0.5811 - val_loss: 0.8159 - val_accuracy: 0.5953\n",
      "Epoch 96/300\n",
      "57/57 [==============================] - 0s 2ms/step - loss: 0.8490 - accuracy: 0.5814 - val_loss: 0.8171 - val_accuracy: 0.5987\n",
      "Epoch 97/300\n",
      "57/57 [==============================] - 0s 3ms/step - loss: 0.8474 - accuracy: 0.5825 - val_loss: 0.8144 - val_accuracy: 0.6034\n",
      "Epoch 98/300\n",
      "57/57 [==============================] - 0s 2ms/step - loss: 0.8406 - accuracy: 0.5839 - val_loss: 0.8134 - val_accuracy: 0.5973\n",
      "Epoch 99/300\n",
      "57/57 [==============================] - 0s 2ms/step - loss: 0.8472 - accuracy: 0.5775 - val_loss: 0.8112 - val_accuracy: 0.6014\n",
      "Epoch 100/300\n",
      "57/57 [==============================] - 0s 3ms/step - loss: 0.8480 - accuracy: 0.5833 - val_loss: 0.8103 - val_accuracy: 0.6051\n",
      "Epoch 101/300\n",
      "57/57 [==============================] - 0s 3ms/step - loss: 0.8389 - accuracy: 0.5803 - val_loss: 0.8117 - val_accuracy: 0.6048\n",
      "Epoch 102/300\n",
      "57/57 [==============================] - 0s 3ms/step - loss: 0.8451 - accuracy: 0.5836 - val_loss: 0.8108 - val_accuracy: 0.6073\n",
      "Epoch 103/300\n",
      "57/57 [==============================] - 0s 3ms/step - loss: 0.8448 - accuracy: 0.5875 - val_loss: 0.8113 - val_accuracy: 0.5984\n",
      "Epoch 104/300\n",
      "57/57 [==============================] - 0s 3ms/step - loss: 0.8383 - accuracy: 0.5808 - val_loss: 0.8112 - val_accuracy: 0.6059\n",
      "Epoch 105/300\n",
      "57/57 [==============================] - 0s 2ms/step - loss: 0.8486 - accuracy: 0.5931 - val_loss: 0.8109 - val_accuracy: 0.6037\n",
      "Epoch 106/300\n",
      "57/57 [==============================] - 0s 3ms/step - loss: 0.8323 - accuracy: 0.5836 - val_loss: 0.8090 - val_accuracy: 0.6062\n",
      "Epoch 107/300\n",
      "57/57 [==============================] - 0s 3ms/step - loss: 0.8420 - accuracy: 0.5875 - val_loss: 0.8075 - val_accuracy: 0.6059\n",
      "Epoch 108/300\n",
      "57/57 [==============================] - 0s 2ms/step - loss: 0.8353 - accuracy: 0.5864 - val_loss: 0.8088 - val_accuracy: 0.6037\n",
      "Epoch 109/300\n",
      "57/57 [==============================] - 0s 3ms/step - loss: 0.8511 - accuracy: 0.5847 - val_loss: 0.8085 - val_accuracy: 0.6079\n",
      "Epoch 110/300\n",
      "57/57 [==============================] - 0s 2ms/step - loss: 0.8431 - accuracy: 0.5808 - val_loss: 0.8068 - val_accuracy: 0.6070\n",
      "Epoch 111/300\n",
      "57/57 [==============================] - 0s 3ms/step - loss: 0.8391 - accuracy: 0.5906 - val_loss: 0.8073 - val_accuracy: 0.6095\n",
      "Epoch 112/300\n",
      "57/57 [==============================] - 0s 2ms/step - loss: 0.8426 - accuracy: 0.5884 - val_loss: 0.8073 - val_accuracy: 0.6090\n",
      "Epoch 113/300\n",
      "57/57 [==============================] - 0s 3ms/step - loss: 0.8420 - accuracy: 0.5828 - val_loss: 0.8076 - val_accuracy: 0.5959\n",
      "Epoch 114/300\n",
      "57/57 [==============================] - 0s 3ms/step - loss: 0.8315 - accuracy: 0.5822 - val_loss: 0.8051 - val_accuracy: 0.6042\n",
      "Epoch 115/300\n",
      "57/57 [==============================] - 0s 2ms/step - loss: 0.8373 - accuracy: 0.5881 - val_loss: 0.8056 - val_accuracy: 0.6042\n",
      "Epoch 116/300\n",
      "57/57 [==============================] - 0s 3ms/step - loss: 0.8351 - accuracy: 0.5858 - val_loss: 0.8038 - val_accuracy: 0.6034\n",
      "Epoch 117/300\n",
      "57/57 [==============================] - 0s 3ms/step - loss: 0.8310 - accuracy: 0.5797 - val_loss: 0.8034 - val_accuracy: 0.6079\n",
      "Epoch 118/300\n",
      "57/57 [==============================] - 0s 2ms/step - loss: 0.8423 - accuracy: 0.5856 - val_loss: 0.8045 - val_accuracy: 0.6120\n",
      "Epoch 119/300\n",
      "57/57 [==============================] - 0s 3ms/step - loss: 0.8324 - accuracy: 0.5889 - val_loss: 0.8029 - val_accuracy: 0.6079\n",
      "Epoch 120/300\n",
      "57/57 [==============================] - 0s 3ms/step - loss: 0.8247 - accuracy: 0.5792 - val_loss: 0.8013 - val_accuracy: 0.6118\n",
      "Epoch 121/300\n",
      "57/57 [==============================] - 0s 3ms/step - loss: 0.8266 - accuracy: 0.5928 - val_loss: 0.8005 - val_accuracy: 0.6070\n",
      "Epoch 122/300\n",
      "57/57 [==============================] - 0s 2ms/step - loss: 0.8342 - accuracy: 0.5906 - val_loss: 0.8026 - val_accuracy: 0.6129\n",
      "Epoch 123/300\n",
      "57/57 [==============================] - 0s 3ms/step - loss: 0.8278 - accuracy: 0.5903 - val_loss: 0.8022 - val_accuracy: 0.6090\n",
      "Epoch 124/300\n",
      "57/57 [==============================] - 0s 3ms/step - loss: 0.8396 - accuracy: 0.5828 - val_loss: 0.8017 - val_accuracy: 0.6020\n",
      "Epoch 125/300\n",
      "57/57 [==============================] - 0s 2ms/step - loss: 0.8328 - accuracy: 0.5831 - val_loss: 0.7993 - val_accuracy: 0.6073\n",
      "Epoch 126/300\n",
      "57/57 [==============================] - 0s 2ms/step - loss: 0.8259 - accuracy: 0.5928 - val_loss: 0.8011 - val_accuracy: 0.6109\n",
      "Epoch 127/300\n",
      "57/57 [==============================] - 0s 3ms/step - loss: 0.8274 - accuracy: 0.5886 - val_loss: 0.7998 - val_accuracy: 0.6056\n",
      "Epoch 128/300\n",
      "57/57 [==============================] - 0s 2ms/step - loss: 0.8380 - accuracy: 0.5900 - val_loss: 0.7967 - val_accuracy: 0.6162\n",
      "Epoch 129/300\n",
      "57/57 [==============================] - 0s 2ms/step - loss: 0.8417 - accuracy: 0.5897 - val_loss: 0.7969 - val_accuracy: 0.6126\n",
      "Epoch 130/300\n",
      "57/57 [==============================] - 0s 2ms/step - loss: 0.8307 - accuracy: 0.5906 - val_loss: 0.7984 - val_accuracy: 0.6031\n",
      "Epoch 131/300\n",
      "57/57 [==============================] - 0s 2ms/step - loss: 0.8284 - accuracy: 0.5822 - val_loss: 0.7984 - val_accuracy: 0.6081\n",
      "Epoch 132/300\n",
      "57/57 [==============================] - 0s 2ms/step - loss: 0.8294 - accuracy: 0.5870 - val_loss: 0.7967 - val_accuracy: 0.6090\n",
      "Epoch 133/300\n",
      "57/57 [==============================] - 0s 2ms/step - loss: 0.8349 - accuracy: 0.5870 - val_loss: 0.7960 - val_accuracy: 0.6079\n",
      "Epoch 134/300\n",
      "57/57 [==============================] - 0s 2ms/step - loss: 0.8291 - accuracy: 0.5928 - val_loss: 0.7954 - val_accuracy: 0.6126\n",
      "Epoch 135/300\n",
      "57/57 [==============================] - 0s 2ms/step - loss: 0.8248 - accuracy: 0.5881 - val_loss: 0.7952 - val_accuracy: 0.6120\n",
      "Epoch 136/300\n",
      "57/57 [==============================] - 0s 2ms/step - loss: 0.8370 - accuracy: 0.5889 - val_loss: 0.7954 - val_accuracy: 0.6148\n",
      "Epoch 137/300\n",
      "57/57 [==============================] - 0s 2ms/step - loss: 0.8308 - accuracy: 0.5975 - val_loss: 0.7959 - val_accuracy: 0.6056\n",
      "Epoch 138/300\n",
      "57/57 [==============================] - 0s 2ms/step - loss: 0.8268 - accuracy: 0.5906 - val_loss: 0.7968 - val_accuracy: 0.6098\n",
      "Epoch 139/300\n",
      "57/57 [==============================] - 0s 2ms/step - loss: 0.8235 - accuracy: 0.5956 - val_loss: 0.7949 - val_accuracy: 0.6176\n",
      "Epoch 140/300\n",
      "57/57 [==============================] - 0s 3ms/step - loss: 0.8321 - accuracy: 0.5906 - val_loss: 0.7955 - val_accuracy: 0.6145\n",
      "Epoch 141/300\n",
      "57/57 [==============================] - 0s 3ms/step - loss: 0.8206 - accuracy: 0.5956 - val_loss: 0.7947 - val_accuracy: 0.6120\n",
      "Epoch 142/300\n",
      "57/57 [==============================] - 0s 2ms/step - loss: 0.8304 - accuracy: 0.5911 - val_loss: 0.7933 - val_accuracy: 0.6081\n",
      "Epoch 143/300\n",
      "57/57 [==============================] - 0s 3ms/step - loss: 0.8158 - accuracy: 0.5948 - val_loss: 0.7923 - val_accuracy: 0.6134\n",
      "Epoch 144/300\n",
      "57/57 [==============================] - 0s 2ms/step - loss: 0.8247 - accuracy: 0.5923 - val_loss: 0.7932 - val_accuracy: 0.6171\n",
      "Epoch 145/300\n",
      "57/57 [==============================] - 0s 3ms/step - loss: 0.8225 - accuracy: 0.5923 - val_loss: 0.7931 - val_accuracy: 0.6067\n",
      "Epoch 146/300\n",
      "57/57 [==============================] - 0s 3ms/step - loss: 0.8278 - accuracy: 0.5923 - val_loss: 0.7912 - val_accuracy: 0.6190\n",
      "Epoch 147/300\n",
      "57/57 [==============================] - 0s 3ms/step - loss: 0.8248 - accuracy: 0.5931 - val_loss: 0.7910 - val_accuracy: 0.6031\n",
      "Epoch 148/300\n",
      "57/57 [==============================] - 0s 3ms/step - loss: 0.8277 - accuracy: 0.5892 - val_loss: 0.7911 - val_accuracy: 0.6098\n",
      "Epoch 149/300\n",
      "57/57 [==============================] - 0s 3ms/step - loss: 0.8289 - accuracy: 0.5889 - val_loss: 0.7901 - val_accuracy: 0.6171\n",
      "Epoch 150/300\n",
      "57/57 [==============================] - 0s 3ms/step - loss: 0.8219 - accuracy: 0.6026 - val_loss: 0.7912 - val_accuracy: 0.6137\n",
      "Epoch 151/300\n",
      "57/57 [==============================] - 0s 2ms/step - loss: 0.8289 - accuracy: 0.5900 - val_loss: 0.7888 - val_accuracy: 0.6154\n",
      "Epoch 152/300\n",
      "57/57 [==============================] - 0s 2ms/step - loss: 0.8254 - accuracy: 0.6020 - val_loss: 0.7877 - val_accuracy: 0.6129\n",
      "Epoch 153/300\n",
      "57/57 [==============================] - 0s 2ms/step - loss: 0.8242 - accuracy: 0.5942 - val_loss: 0.7906 - val_accuracy: 0.6093\n",
      "Epoch 154/300\n",
      "57/57 [==============================] - 0s 2ms/step - loss: 0.8300 - accuracy: 0.5858 - val_loss: 0.7895 - val_accuracy: 0.6165\n",
      "Epoch 155/300\n",
      "57/57 [==============================] - 0s 3ms/step - loss: 0.8265 - accuracy: 0.6031 - val_loss: 0.7882 - val_accuracy: 0.6159\n",
      "Epoch 156/300\n",
      "57/57 [==============================] - 0s 2ms/step - loss: 0.8236 - accuracy: 0.5872 - val_loss: 0.7877 - val_accuracy: 0.6171\n",
      "Epoch 157/300\n",
      "57/57 [==============================] - 0s 2ms/step - loss: 0.8313 - accuracy: 0.5939 - val_loss: 0.7876 - val_accuracy: 0.6040\n",
      "Epoch 158/300\n",
      "57/57 [==============================] - 0s 2ms/step - loss: 0.8285 - accuracy: 0.6031 - val_loss: 0.7879 - val_accuracy: 0.6048\n",
      "Epoch 159/300\n",
      "57/57 [==============================] - 0s 3ms/step - loss: 0.8303 - accuracy: 0.5942 - val_loss: 0.7864 - val_accuracy: 0.6159\n",
      "Epoch 160/300\n",
      "57/57 [==============================] - 0s 3ms/step - loss: 0.8197 - accuracy: 0.5978 - val_loss: 0.7864 - val_accuracy: 0.6173\n",
      "Epoch 161/300\n",
      "57/57 [==============================] - 0s 2ms/step - loss: 0.8218 - accuracy: 0.5964 - val_loss: 0.7856 - val_accuracy: 0.6196\n",
      "Epoch 162/300\n",
      "57/57 [==============================] - 0s 2ms/step - loss: 0.8215 - accuracy: 0.6014 - val_loss: 0.7849 - val_accuracy: 0.6201\n",
      "Epoch 163/300\n",
      "57/57 [==============================] - 0s 3ms/step - loss: 0.8109 - accuracy: 0.5948 - val_loss: 0.7845 - val_accuracy: 0.6171\n",
      "Epoch 164/300\n",
      "57/57 [==============================] - 0s 3ms/step - loss: 0.8222 - accuracy: 0.5889 - val_loss: 0.7857 - val_accuracy: 0.6162\n",
      "Epoch 165/300\n",
      "57/57 [==============================] - 0s 2ms/step - loss: 0.8207 - accuracy: 0.5953 - val_loss: 0.7829 - val_accuracy: 0.6196\n",
      "Epoch 166/300\n",
      "57/57 [==============================] - 0s 3ms/step - loss: 0.8190 - accuracy: 0.5978 - val_loss: 0.7835 - val_accuracy: 0.6196\n",
      "Epoch 167/300\n",
      "57/57 [==============================] - 0s 4ms/step - loss: 0.8161 - accuracy: 0.5959 - val_loss: 0.7830 - val_accuracy: 0.6196\n",
      "Epoch 168/300\n",
      "57/57 [==============================] - 0s 2ms/step - loss: 0.8064 - accuracy: 0.5998 - val_loss: 0.7826 - val_accuracy: 0.6112\n",
      "Epoch 169/300\n",
      "57/57 [==============================] - 0s 2ms/step - loss: 0.8229 - accuracy: 0.5964 - val_loss: 0.7828 - val_accuracy: 0.6093\n",
      "Epoch 170/300\n",
      "57/57 [==============================] - 0s 2ms/step - loss: 0.8230 - accuracy: 0.5878 - val_loss: 0.7820 - val_accuracy: 0.6123\n",
      "Epoch 171/300\n",
      "57/57 [==============================] - 0s 2ms/step - loss: 0.8012 - accuracy: 0.5970 - val_loss: 0.7810 - val_accuracy: 0.6106\n",
      "Epoch 172/300\n",
      "57/57 [==============================] - 0s 3ms/step - loss: 0.8140 - accuracy: 0.5981 - val_loss: 0.7814 - val_accuracy: 0.6171\n",
      "Epoch 173/300\n",
      "57/57 [==============================] - 0s 2ms/step - loss: 0.8147 - accuracy: 0.5973 - val_loss: 0.7807 - val_accuracy: 0.6104\n",
      "Epoch 174/300\n",
      "57/57 [==============================] - 0s 2ms/step - loss: 0.8127 - accuracy: 0.5847 - val_loss: 0.7808 - val_accuracy: 0.6109\n",
      "Epoch 175/300\n",
      "57/57 [==============================] - 0s 3ms/step - loss: 0.8167 - accuracy: 0.5962 - val_loss: 0.7808 - val_accuracy: 0.6204\n",
      "Epoch 176/300\n",
      "57/57 [==============================] - 0s 3ms/step - loss: 0.8034 - accuracy: 0.6093 - val_loss: 0.7794 - val_accuracy: 0.6190\n",
      "Epoch 177/300\n",
      "57/57 [==============================] - 0s 3ms/step - loss: 0.8090 - accuracy: 0.5978 - val_loss: 0.7798 - val_accuracy: 0.6196\n",
      "Epoch 178/300\n",
      "57/57 [==============================] - 0s 3ms/step - loss: 0.8075 - accuracy: 0.5995 - val_loss: 0.7787 - val_accuracy: 0.6151\n",
      "Epoch 179/300\n",
      "57/57 [==============================] - 0s 3ms/step - loss: 0.8215 - accuracy: 0.5984 - val_loss: 0.7791 - val_accuracy: 0.6151\n",
      "Epoch 180/300\n",
      "57/57 [==============================] - 0s 3ms/step - loss: 0.8040 - accuracy: 0.6003 - val_loss: 0.7780 - val_accuracy: 0.6215\n",
      "Epoch 181/300\n",
      "57/57 [==============================] - 0s 3ms/step - loss: 0.8132 - accuracy: 0.5939 - val_loss: 0.7792 - val_accuracy: 0.6198\n",
      "Epoch 182/300\n",
      "57/57 [==============================] - 0s 3ms/step - loss: 0.8174 - accuracy: 0.5950 - val_loss: 0.7799 - val_accuracy: 0.6145\n",
      "Epoch 183/300\n",
      "57/57 [==============================] - 0s 3ms/step - loss: 0.8125 - accuracy: 0.5936 - val_loss: 0.7774 - val_accuracy: 0.6196\n",
      "Epoch 184/300\n",
      "57/57 [==============================] - 0s 3ms/step - loss: 0.8139 - accuracy: 0.5998 - val_loss: 0.7789 - val_accuracy: 0.6157\n",
      "Epoch 185/300\n",
      "57/57 [==============================] - 0s 4ms/step - loss: 0.8053 - accuracy: 0.5964 - val_loss: 0.7780 - val_accuracy: 0.6162\n",
      "Epoch 186/300\n",
      "57/57 [==============================] - 0s 2ms/step - loss: 0.8155 - accuracy: 0.6012 - val_loss: 0.7777 - val_accuracy: 0.6212\n",
      "Epoch 187/300\n",
      "57/57 [==============================] - 0s 2ms/step - loss: 0.8130 - accuracy: 0.5978 - val_loss: 0.7769 - val_accuracy: 0.6235\n",
      "Epoch 188/300\n",
      "57/57 [==============================] - 0s 2ms/step - loss: 0.8114 - accuracy: 0.6051 - val_loss: 0.7767 - val_accuracy: 0.6157\n",
      "Epoch 189/300\n",
      "57/57 [==============================] - 0s 3ms/step - loss: 0.8121 - accuracy: 0.6006 - val_loss: 0.7776 - val_accuracy: 0.6240\n",
      "Epoch 190/300\n",
      "57/57 [==============================] - 0s 3ms/step - loss: 0.8137 - accuracy: 0.5967 - val_loss: 0.7743 - val_accuracy: 0.6274\n",
      "Epoch 191/300\n",
      "57/57 [==============================] - 0s 3ms/step - loss: 0.8025 - accuracy: 0.6017 - val_loss: 0.7750 - val_accuracy: 0.6173\n",
      "Epoch 192/300\n",
      "57/57 [==============================] - 0s 3ms/step - loss: 0.8061 - accuracy: 0.6012 - val_loss: 0.7738 - val_accuracy: 0.6257\n",
      "Epoch 193/300\n",
      "57/57 [==============================] - 0s 3ms/step - loss: 0.8053 - accuracy: 0.5984 - val_loss: 0.7748 - val_accuracy: 0.6276\n",
      "Epoch 194/300\n",
      "57/57 [==============================] - 0s 2ms/step - loss: 0.8100 - accuracy: 0.5992 - val_loss: 0.7735 - val_accuracy: 0.6162\n",
      "Epoch 195/300\n",
      "57/57 [==============================] - 0s 3ms/step - loss: 0.8073 - accuracy: 0.5945 - val_loss: 0.7762 - val_accuracy: 0.6176\n",
      "Epoch 196/300\n",
      "57/57 [==============================] - 0s 2ms/step - loss: 0.8016 - accuracy: 0.5917 - val_loss: 0.7770 - val_accuracy: 0.6232\n",
      "Epoch 197/300\n",
      "57/57 [==============================] - 0s 2ms/step - loss: 0.8143 - accuracy: 0.5950 - val_loss: 0.7756 - val_accuracy: 0.6215\n",
      "Epoch 198/300\n",
      "57/57 [==============================] - 0s 3ms/step - loss: 0.8136 - accuracy: 0.5934 - val_loss: 0.7759 - val_accuracy: 0.6140\n",
      "Epoch 199/300\n",
      "57/57 [==============================] - 0s 2ms/step - loss: 0.8150 - accuracy: 0.5998 - val_loss: 0.7757 - val_accuracy: 0.6215\n",
      "Epoch 200/300\n",
      "57/57 [==============================] - 0s 2ms/step - loss: 0.8081 - accuracy: 0.5872 - val_loss: 0.7730 - val_accuracy: 0.6212\n",
      "Epoch 201/300\n",
      "57/57 [==============================] - 0s 3ms/step - loss: 0.8080 - accuracy: 0.6020 - val_loss: 0.7723 - val_accuracy: 0.6268\n",
      "Epoch 202/300\n",
      "57/57 [==============================] - 0s 3ms/step - loss: 0.8013 - accuracy: 0.5970 - val_loss: 0.7724 - val_accuracy: 0.6179\n",
      "Epoch 203/300\n",
      "57/57 [==============================] - 0s 3ms/step - loss: 0.8198 - accuracy: 0.6081 - val_loss: 0.7715 - val_accuracy: 0.6196\n",
      "Epoch 204/300\n",
      "57/57 [==============================] - 0s 3ms/step - loss: 0.8087 - accuracy: 0.5992 - val_loss: 0.7731 - val_accuracy: 0.6260\n",
      "Epoch 205/300\n",
      "57/57 [==============================] - 0s 2ms/step - loss: 0.8112 - accuracy: 0.6048 - val_loss: 0.7710 - val_accuracy: 0.6229\n",
      "Epoch 206/300\n",
      "57/57 [==============================] - 0s 3ms/step - loss: 0.8137 - accuracy: 0.5959 - val_loss: 0.7722 - val_accuracy: 0.6129\n",
      "Epoch 207/300\n",
      "57/57 [==============================] - 0s 3ms/step - loss: 0.7998 - accuracy: 0.5975 - val_loss: 0.7717 - val_accuracy: 0.6254\n",
      "Epoch 208/300\n",
      "57/57 [==============================] - 0s 3ms/step - loss: 0.7973 - accuracy: 0.5967 - val_loss: 0.7715 - val_accuracy: 0.6246\n",
      "Epoch 209/300\n",
      "57/57 [==============================] - 0s 3ms/step - loss: 0.8057 - accuracy: 0.5995 - val_loss: 0.7712 - val_accuracy: 0.6134\n",
      "Epoch 210/300\n",
      "57/57 [==============================] - 0s 4ms/step - loss: 0.8045 - accuracy: 0.5950 - val_loss: 0.7683 - val_accuracy: 0.6165\n",
      "Epoch 211/300\n",
      "57/57 [==============================] - 0s 3ms/step - loss: 0.8041 - accuracy: 0.6051 - val_loss: 0.7691 - val_accuracy: 0.6237\n",
      "Epoch 212/300\n",
      "57/57 [==============================] - 0s 3ms/step - loss: 0.8097 - accuracy: 0.5906 - val_loss: 0.7693 - val_accuracy: 0.6240\n",
      "Epoch 213/300\n",
      "57/57 [==============================] - 0s 4ms/step - loss: 0.8107 - accuracy: 0.5939 - val_loss: 0.7699 - val_accuracy: 0.6240\n",
      "Epoch 214/300\n",
      "57/57 [==============================] - 0s 2ms/step - loss: 0.8101 - accuracy: 0.5956 - val_loss: 0.7691 - val_accuracy: 0.6212\n",
      "Epoch 215/300\n",
      "57/57 [==============================] - 0s 3ms/step - loss: 0.7945 - accuracy: 0.6098 - val_loss: 0.7694 - val_accuracy: 0.6212\n",
      "Epoch 216/300\n",
      "57/57 [==============================] - 0s 3ms/step - loss: 0.8041 - accuracy: 0.5962 - val_loss: 0.7675 - val_accuracy: 0.6198\n",
      "Epoch 217/300\n",
      "57/57 [==============================] - 0s 3ms/step - loss: 0.8028 - accuracy: 0.6037 - val_loss: 0.7711 - val_accuracy: 0.6232\n",
      "Epoch 218/300\n",
      "57/57 [==============================] - 0s 3ms/step - loss: 0.8020 - accuracy: 0.6062 - val_loss: 0.7678 - val_accuracy: 0.6171\n",
      "Epoch 219/300\n",
      "57/57 [==============================] - 0s 3ms/step - loss: 0.8069 - accuracy: 0.6104 - val_loss: 0.7693 - val_accuracy: 0.6137\n",
      "Epoch 220/300\n",
      "57/57 [==============================] - 0s 3ms/step - loss: 0.7953 - accuracy: 0.6054 - val_loss: 0.7671 - val_accuracy: 0.6218\n",
      "Epoch 221/300\n",
      "57/57 [==============================] - 0s 3ms/step - loss: 0.8023 - accuracy: 0.5975 - val_loss: 0.7668 - val_accuracy: 0.6226\n",
      "Epoch 222/300\n",
      "57/57 [==============================] - 0s 3ms/step - loss: 0.8090 - accuracy: 0.5998 - val_loss: 0.7674 - val_accuracy: 0.6263\n",
      "Epoch 223/300\n",
      "57/57 [==============================] - 0s 3ms/step - loss: 0.7969 - accuracy: 0.6003 - val_loss: 0.7668 - val_accuracy: 0.6215\n",
      "Epoch 224/300\n",
      "57/57 [==============================] - 0s 2ms/step - loss: 0.7986 - accuracy: 0.6067 - val_loss: 0.7678 - val_accuracy: 0.6246\n",
      "Epoch 225/300\n",
      "57/57 [==============================] - 0s 2ms/step - loss: 0.8000 - accuracy: 0.6048 - val_loss: 0.7684 - val_accuracy: 0.6268\n",
      "Epoch 226/300\n",
      "57/57 [==============================] - 0s 4ms/step - loss: 0.7967 - accuracy: 0.6081 - val_loss: 0.7670 - val_accuracy: 0.6274\n",
      "Epoch 227/300\n",
      "57/57 [==============================] - 0s 3ms/step - loss: 0.8021 - accuracy: 0.6031 - val_loss: 0.7682 - val_accuracy: 0.6182\n",
      "Epoch 228/300\n",
      "57/57 [==============================] - 0s 3ms/step - loss: 0.7956 - accuracy: 0.5917 - val_loss: 0.7677 - val_accuracy: 0.6263\n",
      "Epoch 229/300\n",
      "57/57 [==============================] - 0s 3ms/step - loss: 0.8145 - accuracy: 0.5992 - val_loss: 0.7671 - val_accuracy: 0.6276\n",
      "Epoch 230/300\n",
      "57/57 [==============================] - 0s 2ms/step - loss: 0.7989 - accuracy: 0.5984 - val_loss: 0.7662 - val_accuracy: 0.6246\n",
      "Epoch 231/300\n",
      "57/57 [==============================] - 0s 2ms/step - loss: 0.8097 - accuracy: 0.6067 - val_loss: 0.7666 - val_accuracy: 0.6151\n",
      "Epoch 232/300\n",
      "57/57 [==============================] - 0s 2ms/step - loss: 0.8069 - accuracy: 0.5953 - val_loss: 0.7668 - val_accuracy: 0.6260\n",
      "Epoch 233/300\n",
      "57/57 [==============================] - 0s 2ms/step - loss: 0.8003 - accuracy: 0.6028 - val_loss: 0.7649 - val_accuracy: 0.6265\n",
      "Epoch 234/300\n",
      "57/57 [==============================] - 0s 2ms/step - loss: 0.7979 - accuracy: 0.5984 - val_loss: 0.7655 - val_accuracy: 0.6240\n",
      "Epoch 235/300\n",
      "57/57 [==============================] - 0s 3ms/step - loss: 0.7906 - accuracy: 0.6076 - val_loss: 0.7655 - val_accuracy: 0.6268\n",
      "Epoch 236/300\n",
      "57/57 [==============================] - 0s 3ms/step - loss: 0.8013 - accuracy: 0.6054 - val_loss: 0.7651 - val_accuracy: 0.6237\n",
      "Epoch 237/300\n",
      "57/57 [==============================] - 0s 2ms/step - loss: 0.7963 - accuracy: 0.6031 - val_loss: 0.7639 - val_accuracy: 0.6285\n",
      "Epoch 238/300\n",
      "57/57 [==============================] - 0s 2ms/step - loss: 0.8112 - accuracy: 0.6014 - val_loss: 0.7655 - val_accuracy: 0.6171\n",
      "Epoch 239/300\n",
      "57/57 [==============================] - 0s 2ms/step - loss: 0.7973 - accuracy: 0.6095 - val_loss: 0.7655 - val_accuracy: 0.6218\n",
      "Epoch 240/300\n",
      "57/57 [==============================] - 0s 2ms/step - loss: 0.7986 - accuracy: 0.5987 - val_loss: 0.7650 - val_accuracy: 0.6187\n",
      "Epoch 241/300\n",
      "57/57 [==============================] - 0s 2ms/step - loss: 0.8079 - accuracy: 0.5956 - val_loss: 0.7638 - val_accuracy: 0.6176\n",
      "Epoch 242/300\n",
      "57/57 [==============================] - 0s 2ms/step - loss: 0.7951 - accuracy: 0.6001 - val_loss: 0.7636 - val_accuracy: 0.6196\n",
      "Epoch 243/300\n",
      "57/57 [==============================] - 0s 3ms/step - loss: 0.7953 - accuracy: 0.6009 - val_loss: 0.7654 - val_accuracy: 0.6212\n",
      "Epoch 244/300\n",
      "57/57 [==============================] - 0s 4ms/step - loss: 0.7980 - accuracy: 0.6054 - val_loss: 0.7633 - val_accuracy: 0.6268\n",
      "Epoch 245/300\n",
      "57/57 [==============================] - 0s 2ms/step - loss: 0.7928 - accuracy: 0.5967 - val_loss: 0.7647 - val_accuracy: 0.6257\n",
      "Epoch 246/300\n",
      "57/57 [==============================] - 0s 3ms/step - loss: 0.8019 - accuracy: 0.6126 - val_loss: 0.7649 - val_accuracy: 0.6240\n",
      "Epoch 247/300\n",
      "57/57 [==============================] - 0s 2ms/step - loss: 0.8025 - accuracy: 0.6020 - val_loss: 0.7632 - val_accuracy: 0.6137\n",
      "Epoch 248/300\n",
      "57/57 [==============================] - 0s 2ms/step - loss: 0.8005 - accuracy: 0.5959 - val_loss: 0.7639 - val_accuracy: 0.6235\n",
      "Epoch 249/300\n",
      "57/57 [==============================] - 0s 2ms/step - loss: 0.8003 - accuracy: 0.5956 - val_loss: 0.7628 - val_accuracy: 0.6251\n",
      "Epoch 250/300\n",
      "57/57 [==============================] - 0s 2ms/step - loss: 0.7907 - accuracy: 0.6045 - val_loss: 0.7642 - val_accuracy: 0.6171\n",
      "Epoch 251/300\n",
      "57/57 [==============================] - 0s 2ms/step - loss: 0.8071 - accuracy: 0.6009 - val_loss: 0.7638 - val_accuracy: 0.6237\n",
      "Epoch 252/300\n",
      "57/57 [==============================] - 0s 3ms/step - loss: 0.8054 - accuracy: 0.5975 - val_loss: 0.7632 - val_accuracy: 0.6162\n",
      "Epoch 253/300\n",
      "57/57 [==============================] - 0s 3ms/step - loss: 0.7978 - accuracy: 0.6034 - val_loss: 0.7621 - val_accuracy: 0.6235\n",
      "Epoch 254/300\n",
      "57/57 [==============================] - 0s 4ms/step - loss: 0.7938 - accuracy: 0.6020 - val_loss: 0.7609 - val_accuracy: 0.6235\n",
      "Epoch 255/300\n",
      "57/57 [==============================] - 0s 3ms/step - loss: 0.7931 - accuracy: 0.6051 - val_loss: 0.7605 - val_accuracy: 0.6279\n",
      "Epoch 256/300\n",
      "57/57 [==============================] - 0s 2ms/step - loss: 0.7961 - accuracy: 0.6067 - val_loss: 0.7608 - val_accuracy: 0.6257\n",
      "Epoch 257/300\n",
      "57/57 [==============================] - 0s 2ms/step - loss: 0.8049 - accuracy: 0.5964 - val_loss: 0.7621 - val_accuracy: 0.6293\n",
      "Epoch 258/300\n",
      "57/57 [==============================] - 0s 3ms/step - loss: 0.7998 - accuracy: 0.5967 - val_loss: 0.7601 - val_accuracy: 0.6260\n",
      "Epoch 259/300\n",
      "57/57 [==============================] - 0s 2ms/step - loss: 0.8103 - accuracy: 0.5903 - val_loss: 0.7626 - val_accuracy: 0.6224\n",
      "Epoch 260/300\n",
      "57/57 [==============================] - 0s 3ms/step - loss: 0.7997 - accuracy: 0.5892 - val_loss: 0.7601 - val_accuracy: 0.6274\n",
      "Epoch 261/300\n",
      "57/57 [==============================] - 0s 3ms/step - loss: 0.8035 - accuracy: 0.5959 - val_loss: 0.7610 - val_accuracy: 0.6288\n",
      "Epoch 262/300\n",
      "57/57 [==============================] - 0s 2ms/step - loss: 0.7900 - accuracy: 0.6042 - val_loss: 0.7600 - val_accuracy: 0.6249\n",
      "Epoch 263/300\n",
      "57/57 [==============================] - 0s 2ms/step - loss: 0.7958 - accuracy: 0.5973 - val_loss: 0.7626 - val_accuracy: 0.6176\n",
      "Epoch 264/300\n",
      "57/57 [==============================] - 0s 2ms/step - loss: 0.7923 - accuracy: 0.6056 - val_loss: 0.7596 - val_accuracy: 0.6176\n",
      "Epoch 265/300\n",
      "57/57 [==============================] - 0s 2ms/step - loss: 0.7931 - accuracy: 0.5995 - val_loss: 0.7597 - val_accuracy: 0.6290\n",
      "Epoch 266/300\n",
      "57/57 [==============================] - 0s 2ms/step - loss: 0.8000 - accuracy: 0.5967 - val_loss: 0.7594 - val_accuracy: 0.6263\n",
      "Epoch 267/300\n",
      "57/57 [==============================] - 0s 3ms/step - loss: 0.7998 - accuracy: 0.6003 - val_loss: 0.7591 - val_accuracy: 0.6274\n",
      "Epoch 268/300\n",
      "57/57 [==============================] - 0s 2ms/step - loss: 0.7865 - accuracy: 0.5950 - val_loss: 0.7604 - val_accuracy: 0.6232\n",
      "Epoch 269/300\n",
      "57/57 [==============================] - 0s 3ms/step - loss: 0.7869 - accuracy: 0.5967 - val_loss: 0.7585 - val_accuracy: 0.6274\n",
      "Epoch 270/300\n",
      "57/57 [==============================] - 0s 3ms/step - loss: 0.8065 - accuracy: 0.5989 - val_loss: 0.7596 - val_accuracy: 0.6268\n",
      "Epoch 271/300\n",
      "57/57 [==============================] - 0s 2ms/step - loss: 0.7899 - accuracy: 0.6054 - val_loss: 0.7602 - val_accuracy: 0.6198\n",
      "Epoch 272/300\n",
      "57/57 [==============================] - 0s 3ms/step - loss: 0.7882 - accuracy: 0.5959 - val_loss: 0.7605 - val_accuracy: 0.6240\n",
      "Epoch 273/300\n",
      "57/57 [==============================] - 0s 2ms/step - loss: 0.7982 - accuracy: 0.5989 - val_loss: 0.7610 - val_accuracy: 0.6218\n",
      "Epoch 274/300\n",
      "57/57 [==============================] - 0s 3ms/step - loss: 0.7978 - accuracy: 0.5973 - val_loss: 0.7582 - val_accuracy: 0.6235\n",
      "Epoch 275/300\n",
      "57/57 [==============================] - 0s 3ms/step - loss: 0.8023 - accuracy: 0.6090 - val_loss: 0.7587 - val_accuracy: 0.6274\n",
      "Epoch 276/300\n",
      "57/57 [==============================] - 0s 3ms/step - loss: 0.8016 - accuracy: 0.6028 - val_loss: 0.7584 - val_accuracy: 0.6243\n",
      "Epoch 277/300\n",
      "57/57 [==============================] - 0s 2ms/step - loss: 0.7960 - accuracy: 0.6028 - val_loss: 0.7608 - val_accuracy: 0.6279\n",
      "Epoch 278/300\n",
      "57/57 [==============================] - 0s 2ms/step - loss: 0.7914 - accuracy: 0.6051 - val_loss: 0.7598 - val_accuracy: 0.6257\n",
      "Epoch 279/300\n",
      "57/57 [==============================] - 0s 2ms/step - loss: 0.8004 - accuracy: 0.6014 - val_loss: 0.7603 - val_accuracy: 0.6271\n",
      "Epoch 280/300\n",
      "57/57 [==============================] - 0s 3ms/step - loss: 0.7905 - accuracy: 0.5998 - val_loss: 0.7574 - val_accuracy: 0.6302\n",
      "Epoch 281/300\n",
      "57/57 [==============================] - 0s 3ms/step - loss: 0.7928 - accuracy: 0.6073 - val_loss: 0.7587 - val_accuracy: 0.6212\n",
      "Epoch 282/300\n",
      "57/57 [==============================] - 0s 3ms/step - loss: 0.7905 - accuracy: 0.5998 - val_loss: 0.7572 - val_accuracy: 0.6302\n",
      "Epoch 283/300\n",
      "57/57 [==============================] - 0s 2ms/step - loss: 0.7908 - accuracy: 0.6020 - val_loss: 0.7566 - val_accuracy: 0.6218\n",
      "Epoch 284/300\n",
      "57/57 [==============================] - 0s 2ms/step - loss: 0.7990 - accuracy: 0.5981 - val_loss: 0.7577 - val_accuracy: 0.6257\n",
      "Epoch 285/300\n",
      "57/57 [==============================] - 0s 3ms/step - loss: 0.7914 - accuracy: 0.6003 - val_loss: 0.7570 - val_accuracy: 0.6282\n",
      "Epoch 286/300\n",
      "57/57 [==============================] - 0s 3ms/step - loss: 0.8065 - accuracy: 0.6090 - val_loss: 0.7579 - val_accuracy: 0.6263\n",
      "Epoch 287/300\n",
      "57/57 [==============================] - 0s 2ms/step - loss: 0.8002 - accuracy: 0.6006 - val_loss: 0.7558 - val_accuracy: 0.6260\n",
      "Epoch 288/300\n",
      "57/57 [==============================] - 0s 2ms/step - loss: 0.8018 - accuracy: 0.6084 - val_loss: 0.7568 - val_accuracy: 0.6221\n",
      "Epoch 289/300\n",
      "57/57 [==============================] - 0s 3ms/step - loss: 0.7853 - accuracy: 0.6093 - val_loss: 0.7558 - val_accuracy: 0.6201\n",
      "Epoch 290/300\n",
      "57/57 [==============================] - 0s 2ms/step - loss: 0.7958 - accuracy: 0.5987 - val_loss: 0.7566 - val_accuracy: 0.6249\n",
      "Epoch 291/300\n",
      "57/57 [==============================] - 0s 3ms/step - loss: 0.7838 - accuracy: 0.6187 - val_loss: 0.7589 - val_accuracy: 0.6271\n",
      "Epoch 292/300\n",
      "57/57 [==============================] - 0s 3ms/step - loss: 0.7923 - accuracy: 0.6140 - val_loss: 0.7572 - val_accuracy: 0.6260\n",
      "Epoch 293/300\n",
      "57/57 [==============================] - 0s 2ms/step - loss: 0.7894 - accuracy: 0.6070 - val_loss: 0.7565 - val_accuracy: 0.6260\n",
      "Epoch 294/300\n",
      "57/57 [==============================] - 0s 2ms/step - loss: 0.8020 - accuracy: 0.6106 - val_loss: 0.7566 - val_accuracy: 0.6215\n",
      "Epoch 295/300\n",
      "57/57 [==============================] - 0s 2ms/step - loss: 0.7950 - accuracy: 0.6093 - val_loss: 0.7540 - val_accuracy: 0.6265\n",
      "Epoch 296/300\n",
      "57/57 [==============================] - 0s 3ms/step - loss: 0.7788 - accuracy: 0.6087 - val_loss: 0.7549 - val_accuracy: 0.6293\n",
      "Epoch 297/300\n",
      "57/57 [==============================] - 0s 2ms/step - loss: 0.7861 - accuracy: 0.6081 - val_loss: 0.7544 - val_accuracy: 0.6268\n",
      "Epoch 298/300\n",
      "57/57 [==============================] - 0s 2ms/step - loss: 0.7909 - accuracy: 0.6020 - val_loss: 0.7559 - val_accuracy: 0.6232\n",
      "Epoch 299/300\n",
      "57/57 [==============================] - 0s 3ms/step - loss: 0.7860 - accuracy: 0.6065 - val_loss: 0.7551 - val_accuracy: 0.6285\n",
      "Epoch 300/300\n",
      "57/57 [==============================] - 0s 3ms/step - loss: 0.7933 - accuracy: 0.5981 - val_loss: 0.7538 - val_accuracy: 0.6235\n"
     ]
    },
    {
     "data": {
      "text/plain": [
       "<keras.src.callbacks.History at 0x7fba48efbb80>"
      ]
     },
     "execution_count": 28,
     "metadata": {},
     "output_type": "execute_result"
    }
   ],
   "source": [
    "model.fit(\n",
    "    x=X_train, \n",
    "    y=y_train_cat, \n",
    "    epochs=300,\n",
    "    validation_data=(X_test, y_test_cat),\n",
    "    verbose=1,\n",
    "    batch_size=64,\n",
    "    callbacks=[early_stop]\n",
    ")"
   ]
  },
  {
   "cell_type": "markdown",
   "id": "2c0eb188-26ed-420f-9674-3ee1c4b44156",
   "metadata": {},
   "source": [
    "Let's plot the Loss vs Epoch chart."
   ]
  },
  {
   "cell_type": "code",
   "execution_count": 29,
   "id": "2cae56b6-8e24-47c3-9f2e-dda2538eed56",
   "metadata": {},
   "outputs": [
    {
     "data": {
      "text/plain": [
       "<Axes: >"
      ]
     },
     "execution_count": 29,
     "metadata": {},
     "output_type": "execute_result"
    },
    {
     "data": {
      "image/png": "[encoded data removed]",
      "text/plain": [
       "<Figure size 640x480 with 1 Axes>"
      ]
     },
     "metadata": {},
     "output_type": "display_data"
    }
   ],
   "source": [
    "model_loss = pd.DataFrame(model.history.history)\n",
    "model_loss[['loss','val_loss']].plot()"
   ]
  },
  {
   "cell_type": "markdown",
   "id": "bec4469c-aef3-46c0-bb0f-c4680ae87744",
   "metadata": {},
   "source": [
    "Let's evaluate the trained model."
   ]
  },
  {
   "cell_type": "code",
   "execution_count": 30,
   "id": "6dc6c2e8-0fb7-4e31-8352-ea82effcd7f5",
   "metadata": {},
   "outputs": [
    {
     "name": "stdout",
     "output_type": "stream",
     "text": [
      "113/113 [==============================] - 0s 1ms/step - loss: 0.7538 - accuracy: 0.6235\n",
      "Loss, Accuracy:  [0.7537979483604431, 0.6234670877456665]\n"
     ]
    }
   ],
   "source": [
    "print(\"Loss, Accuracy: \", model.evaluate(X_test, y_test_cat))"
   ]
  },
  {
   "cell_type": "code",
   "execution_count": 31,
   "id": "f9953c95-0bb6-4d6f-9444-a9c7a83af1df",
   "metadata": {},
   "outputs": [
    {
     "name": "stdout",
     "output_type": "stream",
     "text": [
      "113/113 [==============================] - 0s 1ms/step\n",
      "F1-score:  0.6167088942743223\n"
     ]
    }
   ],
   "source": [
    "print(\"F1-score: \", f1_score(y_test, np.argmax(model.predict(X_test), axis=1), average='weighted'))"
   ]
  },
  {
   "cell_type": "markdown",
   "id": "ccebd798-36ee-4e3b-a364-6e688a890c67",
   "metadata": {},
   "source": [
    "With a simple, unoptimized NN model a F1-score of approximately 62% was achieved.\n",
    "\n",
    "There is always room for model fine-tuning, optimizations and futher model improvements."
   ]
  }
 ],
 "metadata": {
  "kernelspec": {
   "display_name": "Python 3 (ipykernel)",
   "language": "python",
   "name": "python3"
  },
  "language_info": {
   "codemirror_mode": {
    "name": "ipython",
    "version": 3
   },
   "file_extension": ".py",
   "mimetype": "text/x-python",
   "name": "python",
   "nbconvert_exporter": "python",
   "pygments_lexer": "ipython3",
   "version": "3.10.14"
  }
 },
 "nbformat": 4,
 "nbformat_minor": 5
}
